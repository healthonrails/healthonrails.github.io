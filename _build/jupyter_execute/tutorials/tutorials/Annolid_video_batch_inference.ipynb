{
 "cells": [
  {
   "cell_type": "markdown",
   "metadata": {
    "id": "gtCYnCrB8BxZ"
   },
   "source": [
    "<a href=\"https://colab.research.google.com/github/healthonrails/annolid/blob/main/docs/tutorials/Annolid_video_batch_inference.ipynb\" target=\"_blank\"><img src=\"https://colab.research.google.com/assets/colab-badge.svg\" alt=\"Open In Colab\"/></a>"
   ]
  },
  {
   "cell_type": "markdown",
   "metadata": {
    "id": "7Z2jcRKwUHqV"
   },
   "source": [
    "*This* notebook provides recipes for batch inference on your videos with a trained model and the datasets used for training the model.\n",
    "You need to upload your the following files from your local drive or mount the Google Drive that contains them. \n",
    "1. Custom COCO Format Dataset (e.g. my_coco_dataset.zip)\n",
    "2. A trained model saved as .pth format (e.g. model_final.pth)\n",
    "3. A folder contains all the videos (e.g. my_videos folder has video files like 1.mp4, 2.avi ...)"
   ]
  },
  {
   "cell_type": "markdown",
   "metadata": {
    "id": "7he396rSMrBX"
   },
   "source": [
    "# Install Detectron2"
   ]
  },
  {
   "cell_type": "code",
   "execution_count": null,
   "metadata": {
    "id": "vlSWv54MMpNx"
   },
   "outputs": [],
   "source": [
    "# install dependencies: \n",
    "!pip install pyyaml==5.3\n",
    "import torch, torchvision\n",
    "print(torch.__version__, torch.cuda.is_available())\n",
    "!gcc --version\n",
    "# opencv is pre-installed on colab"
   ]
  },
  {
   "cell_type": "code",
   "execution_count": null,
   "metadata": {
    "id": "iW0omgjJMUDC"
   },
   "outputs": [],
   "source": [
    "!pip install detectron2 -f https://dl.fbaipublicfiles.com/detectron2/wheels/cu102/torch1.9/index.html"
   ]
  },
  {
   "cell_type": "markdown",
   "metadata": {
    "id": "Yf7YXWfFZsmf"
   },
   "source": [
    "# Download and install Annolid"
   ]
  },
  {
   "cell_type": "code",
   "execution_count": null,
   "metadata": {
    "id": "3HnNyOswKbC5"
   },
   "outputs": [],
   "source": [
    "!git clone --recurse-submodules https://github.com/healthonrails/annolid.git"
   ]
  },
  {
   "cell_type": "code",
   "execution_count": null,
   "metadata": {
    "id": "WlKFjlxuLRA3"
   },
   "outputs": [],
   "source": [
    "%cd annolid"
   ]
  },
  {
   "cell_type": "code",
   "execution_count": null,
   "metadata": {
    "id": "cdgJJckJLTv2"
   },
   "outputs": [],
   "source": [
    "!pip install -e ."
   ]
  },
  {
   "cell_type": "code",
   "execution_count": null,
   "metadata": {
    "id": "wsW5Q6dwcrta"
   },
   "outputs": [],
   "source": [
    "import numpy as np\n",
    "import cv2\n",
    "import glob\n",
    "import requests\n",
    "import pandas as pd\n",
    "from pathlib import Path\n",
    "from annolid.annotation.keypoints import save_labels\n",
    "from annolid.postprocessing.quality_control import pred_dict_to_labelme\n",
    "from annolid.data.videos import frame_from_video\n",
    "from annolid.inference.predict import Segmentor"
   ]
  },
  {
   "cell_type": "markdown",
   "metadata": {
    "id": "eikfzi8ZT_rW"
   },
   "source": [
    "# Local file system (Please skip this section if you want to use the files in your Google Drive)"
   ]
  },
  {
   "cell_type": "markdown",
   "metadata": {
    "id": "BaCkyg5CV5jF"
   },
   "source": [
    "## Uploading files from your local file system\n",
    "\n",
    "`files.upload` returns a dictionary of the files which were uploaded.\n",
    "The dictionary is keyed by the file name and values are the data which were uploaded."
   ]
  },
  {
   "cell_type": "code",
   "execution_count": null,
   "metadata": {
    "id": "vz-jH8T_Uk2c"
   },
   "outputs": [],
   "source": [
    "from google.colab import files\n",
    "\n",
    "uploaded = files.upload()\n",
    "\n",
    "for fn in uploaded.keys():\n",
    "  print('User uploaded file \"{name}\" with length {length} bytes'.format(\n",
    "      name=fn, length=len(uploaded[fn])))"
   ]
  },
  {
   "cell_type": "markdown",
   "metadata": {
    "id": "64TzYFFufN8t"
   },
   "source": [
    "# Mount your Google Drive on this runtime"
   ]
  },
  {
   "cell_type": "code",
   "execution_count": null,
   "metadata": {
    "id": "dhVnij13fm1e"
   },
   "outputs": [],
   "source": [
    "from google.colab import drive\n",
    "drive.mount('/content/drive')"
   ]
  },
  {
   "cell_type": "markdown",
   "metadata": {
    "id": "VrhkLihIiKpt"
   },
   "source": [
    "# Example for unzip your COCO format dataset zip file"
   ]
  },
  {
   "cell_type": "code",
   "execution_count": null,
   "metadata": {
    "id": "ymtCoovZM85D"
   },
   "outputs": [],
   "source": [
    "!unzip /content/my_coco_dataset.zip -d /content"
   ]
  },
  {
   "cell_type": "code",
   "execution_count": null,
   "metadata": {
    "id": "UqPPW1kMM-AH"
   },
   "outputs": [],
   "source": [
    "DATASET_DIR = \"/content/my_coco_dataset\"\n",
    "MODEL_PATH =  \"/content/model_final.pth\"\n",
    "VIDEOS_FOLDER = '/content/my_videos'"
   ]
  },
  {
   "cell_type": "markdown",
   "metadata": {
    "id": "hPPf4-n7aLMF"
   },
   "source": [
    "#Load the predictor"
   ]
  },
  {
   "cell_type": "code",
   "execution_count": null,
   "metadata": {
    "id": "RWJ0BeYdOpdP"
   },
   "outputs": [],
   "source": [
    "predictor = Segmentor(DATASET_DIR,MODEL_PATH)"
   ]
  },
  {
   "cell_type": "markdown",
   "metadata": {
    "id": "O5b7pb7oljyO"
   },
   "source": [
    "# Find all the video files in the given `VIDEOS_FOLDER`"
   ]
  },
  {
   "cell_type": "code",
   "execution_count": null,
   "metadata": {
    "id": "frXbD7n6ZG5b"
   },
   "outputs": [],
   "source": [
    "video_files = glob.glob(VIDEOS_FOLDER + '/*.*')"
   ]
  },
  {
   "cell_type": "markdown",
   "metadata": {
    "id": "zxe7zEbZl1nS"
   },
   "source": [
    "# Batch inference for the videos"
   ]
  },
  {
   "cell_type": "code",
   "execution_count": null,
   "metadata": {
    "id": "UGe0hazbahlS"
   },
   "outputs": [],
   "source": [
    "for video_file in video_files:\n",
    "  cap = cv2.VideoCapture(video_file)\n",
    "  if cap.isOpened():\n",
    "    cap.release()\n",
    "    print(\"Working on video, \", video_file)\n",
    "    predictor.on_video(video_file)\n",
    "  else:\n",
    "    print(\"Cannot open this file\", video_file)\n",
    "    cap.release()"
   ]
  },
  {
   "cell_type": "markdown",
   "metadata": {
    "id": "hauvGV4hV-Mh"
   },
   "source": [
    "## Downloading files to your local file system\n",
    "\n",
    "`files.download` will invoke a browser download of the file to your local computer.\n"
   ]
  },
  {
   "cell_type": "code",
   "execution_count": null,
   "metadata": {
    "id": "p2E4EKhCWEC5"
   },
   "outputs": [],
   "source": [
    "from google.colab import files\n",
    "tracking_csv_files = glob.glob(str(Path(DATASET_DIR).parent) + '/*mask*tracking*.csv')\n",
    "for tcf in tracking_csv_files:\n",
    "    files.download(tcf)"
   ]
  },
  {
   "cell_type": "markdown",
   "metadata": {
    "id": "u22w3BFiOveA"
   },
   "source": [
    "## Or saving the tracking results csv files to your Google Drive\n",
    "\n"
   ]
  },
  {
   "cell_type": "code",
   "execution_count": null,
   "metadata": {
    "id": "RWSJpsyKqHjH"
   },
   "outputs": [],
   "source": [
    "import shutil"
   ]
  },
  {
   "cell_type": "code",
   "execution_count": null,
   "metadata": {
    "id": "tYXQViLfAvwk"
   },
   "outputs": [],
   "source": [
    "for tcf in tracking_csv_files:\n",
    "    shutil.copy(tcf, '/content/drive/MyDrive/')"
   ]
  },
  {
   "cell_type": "code",
   "execution_count": null,
   "metadata": {
    "id": "D78AM1fFt2ty"
   },
   "outputs": [],
   "source": [
    "drive.flush_and_unmount()\n",
    "print('All changes made in this colab session should now be visible in Drive.')"
   ]
  }
 ],
 "metadata": {
  "accelerator": "GPU",
  "colab": {
   "collapsed_sections": [],
   "name": "Annolid_video_batch_inference",
   "provenance": []
  },
  "kernelspec": {
   "display_name": "Python 3",
   "name": "python3"
  }
 },
 "nbformat": 4,
 "nbformat_minor": 2
}