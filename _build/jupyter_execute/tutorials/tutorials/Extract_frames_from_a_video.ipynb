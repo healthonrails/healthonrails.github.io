{
 "cells": [
  {
   "cell_type": "markdown",
   "metadata": {
    "colab_type": "text",
    "id": "TxAFRwRkk824"
   },
   "source": [
    "<a href=\"http://colab.research.google.com/github/healthonrails/annolid/blob/main/docs/tutorials/Extract_frames_from_a_video.ipynb\" target=\"_blank\">\n",
    "  <img src=\"https://colab.research.google.com/assets/colab-badge.svg\" alt=\"Open In Colab\"/>\n",
    "</a>"
   ]
  },
  {
   "cell_type": "markdown",
   "metadata": {
    "colab_type": "text",
    "id": "MxEUxKFQgXH2"
   },
   "source": [
    "## Upload a video file"
   ]
  },
  {
   "cell_type": "code",
   "execution_count": null,
   "metadata": {
    "colab": {},
    "colab_type": "code",
    "id": "of1otpd8gher"
   },
   "outputs": [],
   "source": [
    "from google.colab import files\n",
    "my_vidoe = files.upload()"
   ]
  },
  {
   "cell_type": "markdown",
   "metadata": {
    "colab_type": "text",
    "id": "dkf44S4phXT1"
   },
   "source": [
    "## Clone and Install Annolid"
   ]
  },
  {
   "cell_type": "code",
   "execution_count": null,
   "metadata": {
    "colab": {},
    "colab_type": "code",
    "id": "Ukc8U43Kgq7X"
   },
   "outputs": [],
   "source": [
    "# The root folder\n",
    "%cd /content\n",
    "# Clone the repo\n",
    "!git clone --recurse-submodules https://github.com/healthonrails/annolid.git\n"
   ]
  },
  {
   "cell_type": "code",
   "execution_count": null,
   "metadata": {
    "colab": {},
    "colab_type": "code",
    "id": "SNmoUKrDh0ix"
   },
   "outputs": [],
   "source": [
    "# install annolid\n",
    "%cd /content/annolid/\n",
    "!pip install -e ."
   ]
  },
  {
   "cell_type": "markdown",
   "metadata": {
    "colab_type": "text",
    "id": "MXqnKffAid95"
   },
   "source": [
    "# Extract frames from a video"
   ]
  },
  {
   "cell_type": "code",
   "execution_count": null,
   "metadata": {
    "colab": {},
    "colab_type": "code",
    "id": "CkYQTznQih67"
   },
   "outputs": [],
   "source": [
    "# You can upload a video or use gdown to download video from Google drive\n",
    "# Please change the absolute video path e.g. /content/wbc.mp4\n",
    "!python annolid/main.py -v /content/wbc.mp4 --extract_frames=10 --algo=random"
   ]
  },
  {
   "cell_type": "markdown",
   "metadata": {
    "colab_type": "text",
    "id": "x17arPW4zMez"
   },
   "source": [
    "# Zip and Download the extracted frames"
   ]
  },
  {
   "cell_type": "code",
   "execution_count": null,
   "metadata": {
    "colab": {},
    "colab_type": "code",
    "id": "EhVkv7P5zRWy"
   },
   "outputs": [],
   "source": [
    "# please input the correct absolute folder path for the extracted frames\n",
    "# e.g. /content/wbc\n",
    "!zip -r -D my_extracted_video_frames.zip /content/my_video\n",
    "files.download('my_extracted_video_frames.zip')"
   ]
  }
 ],
 "metadata": {
  "colab": {
   "collapsed_sections": [],
   "name": "Extract frames from a video.ipynb",
   "provenance": []
  },
  "kernelspec": {
   "display_name": "Python 3",
   "name": "python3"
  }
 },
 "nbformat": 4,
 "nbformat_minor": 2
}