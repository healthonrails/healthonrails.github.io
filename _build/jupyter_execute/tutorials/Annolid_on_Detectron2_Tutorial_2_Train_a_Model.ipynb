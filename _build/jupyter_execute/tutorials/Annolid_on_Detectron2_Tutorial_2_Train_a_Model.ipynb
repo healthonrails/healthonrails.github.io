{
 "cells": [
  {
   "cell_type": "markdown",
   "id": "2ab7f43c",
   "metadata": {},
   "source": [
    "# Annolid on Detectron2 Tutorial 2 : Train a Model\n",
    "\n",
    "This is modified from the official colab tutorial of detectron2. Here, we will \n",
    "\n",
    "* Train (fine-tune) a detectron2 model on our dataset.\n",
    "\n",
    "You can make a copy of this tutorial by \"File -> Open in playground mode\" and play with it yourself. __DO NOT__ request access to this tutorial.\n"
   ]
  },
  {
   "cell_type": "code",
   "execution_count": 1,
   "id": "435b8a75",
   "metadata": {},
   "outputs": [],
   "source": [
    "# Is running in colab or in jupyter-notebook\n",
    "try:\n",
    "  import google.colab\n",
    "  IN_COLAB = True\n",
    "except:\n",
    "  IN_COLAB = False"
   ]
  },
  {
   "cell_type": "code",
   "execution_count": 2,
   "id": "a6fe3a41",
   "metadata": {},
   "outputs": [
    {
     "name": "stdout",
     "output_type": "stream",
     "text": [
      "Requirement already satisfied: pyyaml==5.3 in /Users/chenyang/miniconda3/envs/ceed/lib/python3.7/site-packages (5.3)\r\n"
     ]
    },
    {
     "name": "stdout",
     "output_type": "stream",
     "text": [
      "\u001b[33mWARNING: You are using pip version 21.3.1; however, version 22.0.4 is available.\r\n",
      "You should consider upgrading via the '/Users/chenyang/miniconda3/envs/ceed/bin/python -m pip install --upgrade pip' command.\u001b[0m\r\n"
     ]
    },
    {
     "name": "stdout",
     "output_type": "stream",
     "text": [
      "torch:  1.9 ; cuda:  1.9.0\n"
     ]
    },
    {
     "name": "stdout",
     "output_type": "stream",
     "text": [
      "Looking in links: https://dl.fbaipublicfiles.com/detectron2/wheels/1.9.0/torch1.9/index.html\r\n"
     ]
    },
    {
     "name": "stdout",
     "output_type": "stream",
     "text": [
      "Requirement already satisfied: detectron2 in /Users/chenyang/Desktop/Developer/cpl/annolid/annolid/detectron2 (0.5)\r\n",
      "Requirement already satisfied: Pillow>=7.1 in /Users/chenyang/miniconda3/envs/ceed/lib/python3.7/site-packages (from detectron2) (8.3.1)\r\n",
      "Requirement already satisfied: matplotlib in /Users/chenyang/miniconda3/envs/ceed/lib/python3.7/site-packages (from detectron2) (3.1.3)\r\n",
      "Requirement already satisfied: pycocotools>=2.0.2 in /Users/chenyang/miniconda3/envs/ceed/lib/python3.7/site-packages (from detectron2) (2.0.2)\r\n",
      "Requirement already satisfied: termcolor>=1.1 in /Users/chenyang/miniconda3/envs/ceed/lib/python3.7/site-packages (from detectron2) (1.1.0)\r\n",
      "Requirement already satisfied: yacs>=0.1.6 in /Users/chenyang/miniconda3/envs/ceed/lib/python3.7/site-packages (from detectron2) (0.1.8)\r\n",
      "Requirement already satisfied: tabulate in /Users/chenyang/miniconda3/envs/ceed/lib/python3.7/site-packages (from detectron2) (0.8.9)\r\n",
      "Requirement already satisfied: cloudpickle in /Users/chenyang/miniconda3/envs/ceed/lib/python3.7/site-packages (from detectron2) (1.3.0)\r\n",
      "Requirement already satisfied: tqdm>4.29.0 in /Users/chenyang/miniconda3/envs/ceed/lib/python3.7/site-packages (from detectron2) (4.43.0)\r\n",
      "Requirement already satisfied: tensorboard in /Users/chenyang/miniconda3/envs/ceed/lib/python3.7/site-packages (from detectron2) (2.3.0)\r\n",
      "Requirement already satisfied: fvcore<0.1.6,>=0.1.5 in /Users/chenyang/miniconda3/envs/ceed/lib/python3.7/site-packages (from detectron2) (0.1.5.post20210804)\r\n",
      "Requirement already satisfied: iopath<0.1.10,>=0.1.7 in /Users/chenyang/miniconda3/envs/ceed/lib/python3.7/site-packages (from detectron2) (0.1.9)\r\n",
      "Requirement already satisfied: future in /Users/chenyang/miniconda3/envs/ceed/lib/python3.7/site-packages (from detectron2) (0.18.2)\r\n",
      "Requirement already satisfied: pydot in /Users/chenyang/miniconda3/envs/ceed/lib/python3.7/site-packages (from detectron2) (1.4.2)\r\n",
      "Requirement already satisfied: omegaconf>=2.1 in /Users/chenyang/miniconda3/envs/ceed/lib/python3.7/site-packages (from detectron2) (2.1.0)\r\n",
      "Requirement already satisfied: hydra-core>=1.1 in /Users/chenyang/miniconda3/envs/ceed/lib/python3.7/site-packages (from detectron2) (1.1.0)\r\n",
      "Requirement already satisfied: black==21.4b2 in /Users/chenyang/miniconda3/envs/ceed/lib/python3.7/site-packages (from detectron2) (21.4b2)\r\n"
     ]
    },
    {
     "name": "stdout",
     "output_type": "stream",
     "text": [
      "Requirement already satisfied: typed-ast>=1.4.2 in /Users/chenyang/miniconda3/envs/ceed/lib/python3.7/site-packages (from black==21.4b2->detectron2) (1.4.3)\r\n",
      "Requirement already satisfied: regex>=2020.1.8 in /Users/chenyang/miniconda3/envs/ceed/lib/python3.7/site-packages (from black==21.4b2->detectron2) (2021.8.3)\r\n",
      "Requirement already satisfied: toml>=0.10.1 in /Users/chenyang/miniconda3/envs/ceed/lib/python3.7/site-packages (from black==21.4b2->detectron2) (0.10.1)\r\n",
      "Requirement already satisfied: mypy-extensions>=0.4.3 in /Users/chenyang/miniconda3/envs/ceed/lib/python3.7/site-packages (from black==21.4b2->detectron2) (0.4.3)\r\n",
      "Requirement already satisfied: appdirs in /Users/chenyang/miniconda3/envs/ceed/lib/python3.7/site-packages (from black==21.4b2->detectron2) (1.4.4)\r\n",
      "Requirement already satisfied: click>=7.1.2 in /Users/chenyang/miniconda3/envs/ceed/lib/python3.7/site-packages (from black==21.4b2->detectron2) (7.1.2)\r\n",
      "Requirement already satisfied: typing-extensions>=3.7.4 in /Users/chenyang/miniconda3/envs/ceed/lib/python3.7/site-packages (from black==21.4b2->detectron2) (3.7.4.3)\r\n",
      "Requirement already satisfied: pathspec<1,>=0.8.1 in /Users/chenyang/miniconda3/envs/ceed/lib/python3.7/site-packages (from black==21.4b2->detectron2) (0.9.0)\r\n"
     ]
    },
    {
     "name": "stdout",
     "output_type": "stream",
     "text": [
      "Requirement already satisfied: numpy in /Users/chenyang/miniconda3/envs/ceed/lib/python3.7/site-packages (from fvcore<0.1.6,>=0.1.5->detectron2) (1.18.2)\r\n",
      "Requirement already satisfied: pyyaml>=5.1 in /Users/chenyang/miniconda3/envs/ceed/lib/python3.7/site-packages (from fvcore<0.1.6,>=0.1.5->detectron2) (5.3)\r\n",
      "Requirement already satisfied: importlib-resources in /Users/chenyang/miniconda3/envs/ceed/lib/python3.7/site-packages (from hydra-core>=1.1->detectron2) (5.2.2)\r\n",
      "Requirement already satisfied: antlr4-python3-runtime==4.8 in /Users/chenyang/miniconda3/envs/ceed/lib/python3.7/site-packages (from hydra-core>=1.1->detectron2) (4.8)\r\n",
      "Requirement already satisfied: portalocker in /Users/chenyang/miniconda3/envs/ceed/lib/python3.7/site-packages (from iopath<0.1.10,>=0.1.7->detectron2) (2.3.0)\r\n"
     ]
    },
    {
     "name": "stdout",
     "output_type": "stream",
     "text": [
      "Requirement already satisfied: cython>=0.27.3 in /Users/chenyang/miniconda3/envs/ceed/lib/python3.7/site-packages (from pycocotools>=2.0.2->detectron2) (0.29.16)\r\n",
      "Requirement already satisfied: setuptools>=18.0 in /Users/chenyang/miniconda3/envs/ceed/lib/python3.7/site-packages (from pycocotools>=2.0.2->detectron2) (44.0.0.post20200106)\r\n",
      "Requirement already satisfied: pyparsing!=2.0.4,!=2.1.2,!=2.1.6,>=2.0.1 in /Users/chenyang/miniconda3/envs/ceed/lib/python3.7/site-packages (from matplotlib->detectron2) (2.4.6)\r\n",
      "Requirement already satisfied: cycler>=0.10 in /Users/chenyang/miniconda3/envs/ceed/lib/python3.7/site-packages (from matplotlib->detectron2) (0.10.0)\r\n",
      "Requirement already satisfied: kiwisolver>=1.0.1 in /Users/chenyang/miniconda3/envs/ceed/lib/python3.7/site-packages (from matplotlib->detectron2) (1.1.0)\r\n",
      "Requirement already satisfied: python-dateutil>=2.1 in /Users/chenyang/miniconda3/envs/ceed/lib/python3.7/site-packages (from matplotlib->detectron2) (2.8.1)\r\n"
     ]
    },
    {
     "name": "stdout",
     "output_type": "stream",
     "text": [
      "Requirement already satisfied: werkzeug>=0.11.15 in /Users/chenyang/miniconda3/envs/ceed/lib/python3.7/site-packages (from tensorboard->detectron2) (0.16.0)\r\n",
      "Requirement already satisfied: markdown>=2.6.8 in /Users/chenyang/miniconda3/envs/ceed/lib/python3.7/site-packages (from tensorboard->detectron2) (3.1.1)\r\n",
      "Requirement already satisfied: wheel>=0.26 in /Users/chenyang/miniconda3/envs/ceed/lib/python3.7/site-packages (from tensorboard->detectron2) (0.34.2)\r\n",
      "Requirement already satisfied: six>=1.10.0 in /Users/chenyang/miniconda3/envs/ceed/lib/python3.7/site-packages (from tensorboard->detectron2) (1.14.0)\r\n",
      "Requirement already satisfied: requests<3,>=2.21.0 in /Users/chenyang/miniconda3/envs/ceed/lib/python3.7/site-packages (from tensorboard->detectron2) (2.26.0)\r\n",
      "Requirement already satisfied: absl-py>=0.4 in /Users/chenyang/miniconda3/envs/ceed/lib/python3.7/site-packages (from tensorboard->detectron2) (0.9.0)\r\n"
     ]
    },
    {
     "name": "stdout",
     "output_type": "stream",
     "text": [
      "Requirement already satisfied: google-auth<2,>=1.6.3 in /Users/chenyang/miniconda3/envs/ceed/lib/python3.7/site-packages (from tensorboard->detectron2) (1.32.1)\r\n",
      "Requirement already satisfied: tensorboard-plugin-wit>=1.6.0 in /Users/chenyang/miniconda3/envs/ceed/lib/python3.7/site-packages (from tensorboard->detectron2) (1.7.0)\r\n",
      "Requirement already satisfied: google-auth-oauthlib<0.5,>=0.4.1 in /Users/chenyang/miniconda3/envs/ceed/lib/python3.7/site-packages (from tensorboard->detectron2) (0.4.1)\r\n",
      "Requirement already satisfied: protobuf>=3.6.0 in /Users/chenyang/miniconda3/envs/ceed/lib/python3.7/site-packages (from tensorboard->detectron2) (3.17.3)\r\n",
      "Requirement already satisfied: grpcio>=1.24.3 in /Users/chenyang/miniconda3/envs/ceed/lib/python3.7/site-packages (from tensorboard->detectron2) (1.38.1)\r\n",
      "Requirement already satisfied: pyasn1-modules>=0.2.1 in /Users/chenyang/miniconda3/envs/ceed/lib/python3.7/site-packages (from google-auth<2,>=1.6.3->tensorboard->detectron2) (0.2.8)\r\n"
     ]
    },
    {
     "name": "stdout",
     "output_type": "stream",
     "text": [
      "Requirement already satisfied: rsa<5,>=3.1.4 in /Users/chenyang/miniconda3/envs/ceed/lib/python3.7/site-packages (from google-auth<2,>=1.6.3->tensorboard->detectron2) (4.0)\r\n",
      "Requirement already satisfied: cachetools<5.0,>=2.0.0 in /Users/chenyang/miniconda3/envs/ceed/lib/python3.7/site-packages (from google-auth<2,>=1.6.3->tensorboard->detectron2) (4.0.0)\r\n",
      "Requirement already satisfied: requests-oauthlib>=0.7.0 in /Users/chenyang/miniconda3/envs/ceed/lib/python3.7/site-packages (from google-auth-oauthlib<0.5,>=0.4.1->tensorboard->detectron2) (1.3.0)\r\n"
     ]
    },
    {
     "name": "stdout",
     "output_type": "stream",
     "text": [
      "Requirement already satisfied: charset-normalizer~=2.0.0 in /Users/chenyang/miniconda3/envs/ceed/lib/python3.7/site-packages (from requests<3,>=2.21.0->tensorboard->detectron2) (2.0.1)\r\n",
      "Requirement already satisfied: idna<4,>=2.5 in /Users/chenyang/miniconda3/envs/ceed/lib/python3.7/site-packages (from requests<3,>=2.21.0->tensorboard->detectron2) (2.9)\r\n",
      "Requirement already satisfied: urllib3<1.27,>=1.21.1 in /Users/chenyang/miniconda3/envs/ceed/lib/python3.7/site-packages (from requests<3,>=2.21.0->tensorboard->detectron2) (1.25.8)\r\n",
      "Requirement already satisfied: certifi>=2017.4.17 in /Users/chenyang/miniconda3/envs/ceed/lib/python3.7/site-packages (from requests<3,>=2.21.0->tensorboard->detectron2) (2020.6.20)\r\n"
     ]
    },
    {
     "name": "stdout",
     "output_type": "stream",
     "text": [
      "Requirement already satisfied: zipp>=3.1.0 in /Users/chenyang/miniconda3/envs/ceed/lib/python3.7/site-packages (from importlib-resources->hydra-core>=1.1->detectron2) (3.5.0)\r\n"
     ]
    },
    {
     "name": "stdout",
     "output_type": "stream",
     "text": [
      "Requirement already satisfied: pyasn1<0.5.0,>=0.4.6 in /Users/chenyang/miniconda3/envs/ceed/lib/python3.7/site-packages (from pyasn1-modules>=0.2.1->google-auth<2,>=1.6.3->tensorboard->detectron2) (0.4.8)\r\n",
      "Requirement already satisfied: oauthlib>=3.0.0 in /Users/chenyang/miniconda3/envs/ceed/lib/python3.7/site-packages (from requests-oauthlib>=0.7.0->google-auth-oauthlib<0.5,>=0.4.1->tensorboard->detectron2) (3.1.0)\r\n"
     ]
    },
    {
     "name": "stdout",
     "output_type": "stream",
     "text": [
      "\u001b[33mWARNING: You are using pip version 21.3.1; however, version 22.0.4 is available.\r\n",
      "You should consider upgrading via the '/Users/chenyang/miniconda3/envs/ceed/bin/python -m pip install --upgrade pip' command.\u001b[0m\r\n"
     ]
    }
   ],
   "source": [
    "# install dependencies: \n",
    "!pip install pyyaml==5.3\n",
    "import torch, torchvision\n",
    "TORCH_VERSION = \".\".join(torch.__version__.split(\".\")[:2])\n",
    "CUDA_VERSION = torch.__version__.split(\"+\")[-1]\n",
    "print(\"torch: \", TORCH_VERSION, \"; cuda: \", CUDA_VERSION)\n",
    "# Install detectron2 that matches the above pytorch version\n",
    "# See https://detectron2.readthedocs.io/tutorials/install.html for instructions\n",
    "!pip install detectron2 -f https://dl.fbaipublicfiles.com/detectron2/wheels/$CUDA_VERSION/torch$TORCH_VERSION/index.html\n",
    "# If there is not yet a detectron2 release that matches the given torch + CUDA version, you need to install a different pytorch.\n",
    "\n",
    "# exit(0)  # After installation, you may need to \"restart runtime\" in Colab. This line can also restart runtime"
   ]
  },
  {
   "cell_type": "code",
   "execution_count": 3,
   "id": "8824ee0c",
   "metadata": {},
   "outputs": [],
   "source": [
    "# import some common libraries\n",
    "import json\n",
    "import os\n",
    "import cv2\n",
    "import random\n",
    "import glob\n",
    "import numpy as np\n",
    "if IN_COLAB:\n",
    "  from google.colab.patches import cv2_imshow\n",
    "import matplotlib.pyplot as plt\n",
    "%matplotlib inline"
   ]
  },
  {
   "cell_type": "code",
   "execution_count": 4,
   "id": "99afd418",
   "metadata": {},
   "outputs": [],
   "source": [
    "# Setup detectron2 logger\n",
    "import detectron2\n",
    "from detectron2.utils.logger import setup_logger\n",
    "setup_logger()\n",
    "\n",
    "# import some common detectron2 utilities\n",
    "from detectron2 import model_zoo\n",
    "from detectron2.engine import DefaultPredictor\n",
    "from detectron2.config import get_cfg\n",
    "from detectron2.utils.visualizer import Visualizer\n",
    "from detectron2.data import MetadataCatalog, DatasetCatalog"
   ]
  },
  {
   "cell_type": "code",
   "execution_count": 5,
   "id": "9a833549",
   "metadata": {},
   "outputs": [
    {
     "name": "stdout",
     "output_type": "stream",
     "text": [
      "no gpu\n"
     ]
    }
   ],
   "source": [
    "# is there a gpu\n",
    "if torch.cuda.is_available():\n",
    "    GPU = True\n",
    "    print('gpu available')\n",
    "else:\n",
    "    GPU = False\n",
    "    print('no gpu')"
   ]
  },
  {
   "cell_type": "markdown",
   "id": "ce680295",
   "metadata": {},
   "source": [
    "# Train on a custom dataset"
   ]
  },
  {
   "cell_type": "markdown",
   "id": "aba200b5",
   "metadata": {},
   "source": [
    "In this section, we show how to train an existing detectron2 model on a custom dataset in COCO format.\n",
    "\n",
    "## Prepare the dataset"
   ]
  },
  {
   "cell_type": "markdown",
   "id": "c90e5b9e",
   "metadata": {},
   "source": [
    "## Upload a labeled dataset.\n",
    "The following code is expecting the dataset in the COCO format to be in a ***.zip*** file. For example: ```sample_dataset.zip``` \\\n",
    "Note: please make sure there is no white space in your file path if you encounter file not found issues."
   ]
  },
  {
   "cell_type": "code",
   "execution_count": 6,
   "id": "98c1f50f",
   "metadata": {},
   "outputs": [
    {
     "name": "stdout",
     "output_type": "stream",
     "text": [
      "Requirement already satisfied: gdown in /Users/chenyang/miniconda3/envs/ceed/lib/python3.7/site-packages (4.2.1)\r\n",
      "Requirement already satisfied: beautifulsoup4 in /Users/chenyang/miniconda3/envs/ceed/lib/python3.7/site-packages (from gdown) (4.10.0)\r\n",
      "Requirement already satisfied: filelock in /Users/chenyang/miniconda3/envs/ceed/lib/python3.7/site-packages (from gdown) (3.0.12)\r\n",
      "Requirement already satisfied: requests[socks] in /Users/chenyang/miniconda3/envs/ceed/lib/python3.7/site-packages (from gdown) (2.26.0)\r\n",
      "Requirement already satisfied: tqdm in /Users/chenyang/miniconda3/envs/ceed/lib/python3.7/site-packages (from gdown) (4.43.0)\r\n",
      "Requirement already satisfied: six in /Users/chenyang/miniconda3/envs/ceed/lib/python3.7/site-packages (from gdown) (1.14.0)\r\n"
     ]
    },
    {
     "name": "stdout",
     "output_type": "stream",
     "text": [
      "Requirement already satisfied: soupsieve>1.2 in /Users/chenyang/miniconda3/envs/ceed/lib/python3.7/site-packages (from beautifulsoup4->gdown) (2.3.1)\r\n",
      "Requirement already satisfied: charset-normalizer~=2.0.0 in /Users/chenyang/miniconda3/envs/ceed/lib/python3.7/site-packages (from requests[socks]->gdown) (2.0.1)\r\n",
      "Requirement already satisfied: urllib3<1.27,>=1.21.1 in /Users/chenyang/miniconda3/envs/ceed/lib/python3.7/site-packages (from requests[socks]->gdown) (1.25.8)\r\n",
      "Requirement already satisfied: idna<4,>=2.5 in /Users/chenyang/miniconda3/envs/ceed/lib/python3.7/site-packages (from requests[socks]->gdown) (2.9)\r\n",
      "Requirement already satisfied: certifi>=2017.4.17 in /Users/chenyang/miniconda3/envs/ceed/lib/python3.7/site-packages (from requests[socks]->gdown) (2020.6.20)\r\n",
      "Requirement already satisfied: PySocks!=1.5.7,>=1.5.6 in /Users/chenyang/miniconda3/envs/ceed/lib/python3.7/site-packages (from requests[socks]->gdown) (1.7.1)\r\n"
     ]
    },
    {
     "name": "stdout",
     "output_type": "stream",
     "text": [
      "\u001b[33mWARNING: You are using pip version 21.3.1; however, version 22.0.4 is available.\r\n",
      "You should consider upgrading via the '/Users/chenyang/miniconda3/envs/ceed/bin/python -m pip install --upgrade pip' command.\u001b[0m\r\n"
     ]
    },
    {
     "name": "stdout",
     "output_type": "stream",
     "text": [
      "Downloading...\r\n",
      "From: https://drive.google.com/uc?id=1fUXCLnoJ5SwXg54mj0NBKGzidsV8ALVR\r\n",
      "To: /Users/chenyang/Desktop/Developer/cpl/annolid/book/tutorials/novelctrlk6_8_coco_dataset.zip\r\n"
     ]
    },
    {
     "name": "stdout",
     "output_type": "stream",
     "text": [
      "\r",
      "  0%|                                               | 0.00/10.3M [00:00<?, ?B/s]"
     ]
    },
    {
     "name": "stdout",
     "output_type": "stream",
     "text": [
      "\r",
      "  5%|█▉                                     | 524k/10.3M [00:00<00:05, 1.69MB/s]"
     ]
    },
    {
     "name": "stdout",
     "output_type": "stream",
     "text": [
      "\r",
      " 15%|█████▊                                | 1.57M/10.3M [00:00<00:04, 2.17MB/s]"
     ]
    },
    {
     "name": "stdout",
     "output_type": "stream",
     "text": [
      "\r",
      " 25%|█████████▋                            | 2.62M/10.3M [00:00<00:02, 2.75MB/s]"
     ]
    },
    {
     "name": "stdout",
     "output_type": "stream",
     "text": [
      "\r",
      " 36%|█████████████▌                        | 3.67M/10.3M [00:00<00:01, 3.35MB/s]"
     ]
    },
    {
     "name": "stdout",
     "output_type": "stream",
     "text": [
      "\r",
      " 46%|█████████████████▍                    | 4.72M/10.3M [00:00<00:01, 3.94MB/s]"
     ]
    },
    {
     "name": "stdout",
     "output_type": "stream",
     "text": [
      "\r",
      " 56%|█████████████████████▎                | 5.77M/10.3M [00:01<00:01, 4.38MB/s]"
     ]
    },
    {
     "name": "stdout",
     "output_type": "stream",
     "text": [
      "\r",
      " 66%|█████████████████████████             | 6.82M/10.3M [00:01<00:00, 4.69MB/s]"
     ]
    },
    {
     "name": "stdout",
     "output_type": "stream",
     "text": [
      "\r",
      " 76%|████████████████████████████▉         | 7.86M/10.3M [00:01<00:00, 4.93MB/s]"
     ]
    },
    {
     "name": "stdout",
     "output_type": "stream",
     "text": [
      "\r",
      " 86%|████████████████████████████████▊     | 8.91M/10.3M [00:01<00:00, 4.78MB/s]"
     ]
    },
    {
     "name": "stdout",
     "output_type": "stream",
     "text": [
      "\r",
      " 97%|████████████████████████████████████▋ | 9.96M/10.3M [00:01<00:00, 5.01MB/s]"
     ]
    },
    {
     "name": "stdout",
     "output_type": "stream",
     "text": [
      "\r",
      "100%|██████████████████████████████████████| 10.3M/10.3M [00:01<00:00, 5.31MB/s]\r\n"
     ]
    }
   ],
   "source": [
    "!pip install gdown \n",
    "!gdown --id 1fUXCLnoJ5SwXg54mj0NBKGzidsV8ALVR"
   ]
  },
  {
   "cell_type": "code",
   "execution_count": 7,
   "id": "314ccfd9",
   "metadata": {},
   "outputs": [],
   "source": [
    "if IN_COLAB:\n",
    "    dataset = '/content/novelctrlk6_8_coco_dataset.zip'\n",
    "else:\n",
    "    dataset = 'novelctrlk6_8_coco_dataset.zip'"
   ]
  },
  {
   "cell_type": "code",
   "execution_count": 8,
   "id": "3a1db795",
   "metadata": {},
   "outputs": [
    {
     "name": "stdout",
     "output_type": "stream",
     "text": [
      "Archive:  novelctrlk6_8_coco_dataset.zip\r\n",
      "  inflating: ./novelctrlk6_8_coco_dataset/valid/JPEGImages/00001416_41.jpg  \r\n",
      "  inflating: ./novelctrlk6_8_coco_dataset/valid/JPEGImages/00004233_81.jpg  \r\n",
      "  inflating: ./novelctrlk6_8_coco_dataset/valid/JPEGImages/00004515_22.jpg  \r\n",
      "  inflating: ./novelctrlk6_8_coco_dataset/valid/JPEGImages/00000636_6.jpg  \r\n",
      "  inflating: ./novelctrlk6_8_coco_dataset/valid/JPEGImages/00006297_11.jpg  \r\n",
      "  inflating: ./novelctrlk6_8_coco_dataset/valid/JPEGImages/00006818_79.jpg  \r\n",
      "  inflating: ./novelctrlk6_8_coco_dataset/valid/JPEGImages/00006056_25.jpg  \r\n",
      "  inflating: ./novelctrlk6_8_coco_dataset/valid/JPEGImages/00006094_12.jpg  \r\n",
      "  inflating: ./novelctrlk6_8_coco_dataset/valid/JPEGImages/00004340_96.jpg  \r\n",
      "  inflating: ./novelctrlk6_8_coco_dataset/valid/JPEGImages/00000557_50.jpg  \r\n",
      "  inflating: ./novelctrlk6_8_coco_dataset/valid/JPEGImages/00000979_94.jpg  \r\n",
      "  inflating: ./novelctrlk6_8_coco_dataset/valid/JPEGImages/00005018_19.jpg  \r\n",
      "  inflating: ./novelctrlk6_8_coco_dataset/valid/JPEGImages/00001257_80.jpg  "
     ]
    },
    {
     "name": "stdout",
     "output_type": "stream",
     "text": [
      "\r\n",
      "  inflating: ./novelctrlk6_8_coco_dataset/valid/JPEGImages/00004335_26.jpg  \r\n",
      "  inflating: ./novelctrlk6_8_coco_dataset/valid/JPEGImages/00004804_39.jpg  \r\n",
      "  inflating: ./novelctrlk6_8_coco_dataset/valid/JPEGImages/00006396_43.jpg  \r\n",
      "  inflating: ./novelctrlk6_8_coco_dataset/valid/JPEGImages/00006993_65.jpg  \r\n",
      "  inflating: ./novelctrlk6_8_coco_dataset/valid/JPEGImages/00000865_92.jpg  \r\n",
      "  inflating: ./novelctrlk6_8_coco_dataset/valid/JPEGImages/00003114_35.jpg  \r\n",
      "  inflating: ./novelctrlk6_8_coco_dataset/valid/JPEGImages/00001918_2.jpg  \r\n",
      "  inflating: ./novelctrlk6_8_coco_dataset/valid/JPEGImages/00004935_56.jpg  \r\n",
      "  inflating: ./novelctrlk6_8_coco_dataset/valid/JPEGImages/00006959_78.jpg  \r\n",
      "  inflating: ./novelctrlk6_8_coco_dataset/valid/JPEGImages/00005216_14.jpg  \r\n",
      "  inflating: ./novelctrlk6_8_coco_dataset/valid/JPEGImages/00003092_22.jpg  \r\n",
      "  inflating: ./novelctrlk6_8_coco_dataset/valid/JPEGImages/00001528_44.jpg  \r\n",
      "  inflating: ./novelctrlk6_8_coco_dataset/valid/JPEGImages/00003208_12.jpg  \r\n",
      "  inflating: ./novelctrlk6_8_coco_dataset/valid/JPEGImages/00004966_35.jpg  \r\n",
      "  inflating: ./novelctrlk6_8_coco_dataset/valid/JPEGImages/00004517_47.jpg  \r\n",
      "  inflating: ./novelctrlk6_8_coco_dataset/valid/JPEGImages/00004769_82.jpg  \r\n",
      "  inflating: ./novelctrlk6_8_coco_dataset/valid/JPEGImages/00004767_87.jpg  \r\n",
      "  inflating: ./novelctrlk6_8_coco_dataset/valid/JPEGImages/00000378_62.jpg  \r\n",
      "  inflating: ./novelctrlk6_8_coco_dataset/valid/JPEGImages/00006563_31.jpg  \r\n",
      "  inflating: ./novelctrlk6_8_coco_dataset/valid/JPEGImages/00001476_48.jpg  \r\n",
      "  inflating: ./novelctrlk6_8_coco_dataset/valid/JPEGImages/00004555_67.jpg  \r\n",
      "  inflating: ./novelctrlk6_8_coco_dataset/valid/JPEGImages/00003070_62.jpg  \r\n",
      "  inflating: ./novelctrlk6_8_coco_dataset/valid/JPEGImages/00005007_38.jpg  "
     ]
    },
    {
     "name": "stdout",
     "output_type": "stream",
     "text": [
      "\r\n",
      "  inflating: ./novelctrlk6_8_coco_dataset/valid/JPEGImages/00003342_41.jpg  \r\n",
      "  inflating: ./novelctrlk6_8_coco_dataset/valid/JPEGImages/00002267_91.jpg  \r\n",
      "  inflating: ./novelctrlk6_8_coco_dataset/valid/JPEGImages/00002248_99.jpg  \r\n",
      "  inflating: ./novelctrlk6_8_coco_dataset/valid/JPEGImages/00000702_46.jpg  \r\n",
      "  inflating: ./novelctrlk6_8_coco_dataset/valid/JPEGImages/00003237_15.jpg  \r\n",
      "  inflating: ./novelctrlk6_8_coco_dataset/valid/JPEGImages/00002412_96.jpg  \r\n",
      "  inflating: ./novelctrlk6_8_coco_dataset/valid/JPEGImages/00001322_73.jpg  \r\n",
      "  inflating: ./novelctrlk6_8_coco_dataset/valid/JPEGImages/00002328_97.jpg  \r\n",
      "  inflating: ./novelctrlk6_8_coco_dataset/valid/JPEGImages/00004312_85.jpg  \r\n",
      "  inflating: ./novelctrlk6_8_coco_dataset/valid/JPEGImages/00004443_46.jpg  \r\n",
      "  inflating: ./novelctrlk6_8_coco_dataset/valid/JPEGImages/00003783_81.jpg  \r\n",
      "  inflating: ./novelctrlk6_8_coco_dataset/valid/JPEGImages/00000779_3.jpg  \r\n",
      "  inflating: ./novelctrlk6_8_coco_dataset/valid/JPEGImages/00002654_1.jpg  \r\n",
      "  inflating: ./novelctrlk6_8_coco_dataset/valid/JPEGImages/00004685_90.jpg  \r\n",
      "  inflating: ./novelctrlk6_8_coco_dataset/valid/JPEGImages/00004098_59.jpg  \r\n",
      "  inflating: ./novelctrlk6_8_coco_dataset/valid/JPEGImages/00006538_99.jpg  \r\n",
      "  inflating: ./novelctrlk6_8_coco_dataset/valid/JPEGImages/00006832_71.jpg  \r\n",
      "  inflating: ./novelctrlk6_8_coco_dataset/valid/JPEGImages/00007024_26.jpg  \r\n",
      "  inflating: ./novelctrlk6_8_coco_dataset/valid/JPEGImages/00005772_51.jpg  \r\n",
      "  inflating: ./novelctrlk6_8_coco_dataset/valid/JPEGImages/00006330_76.jpg  \r\n",
      "  inflating: ./novelctrlk6_8_coco_dataset/valid/JPEGImages/00000871_10.jpg  \r\n",
      "  inflating: ./novelctrlk6_8_coco_dataset/valid/JPEGImages/00003034_64.jpg  \r\n",
      "  inflating: ./novelctrlk6_8_coco_dataset/valid/JPEGImages/00004539_89.jpg  \r\n",
      "  inflating: ./novelctrlk6_8_coco_dataset/valid/JPEGImages/00005788_49.jpg  \r\n"
     ]
    },
    {
     "name": "stdout",
     "output_type": "stream",
     "text": [
      "  inflating: ./novelctrlk6_8_coco_dataset/valid/annotations.json  \r\n",
      "  inflating: ./novelctrlk6_8_coco_dataset/.DS_Store  \r\n",
      "  inflating: ./__MACOSX/novelctrlk6_8_coco_dataset/._.DS_Store  \r\n",
      "  inflating: ./novelctrlk6_8_coco_dataset/data.yaml  \r\n",
      "  inflating: ./novelctrlk6_8_coco_dataset/train/.DS_Store  \r\n",
      "  inflating: ./__MACOSX/novelctrlk6_8_coco_dataset/train/._.DS_Store  \r\n",
      "  inflating: ./novelctrlk6_8_coco_dataset/train/JPEGImages/00001466_29.jpg  \r\n",
      "  inflating: ./novelctrlk6_8_coco_dataset/train/JPEGImages/00006804_57.jpg  \r\n",
      "  inflating: ./novelctrlk6_8_coco_dataset/train/JPEGImages/00007044_50.jpg  \r\n",
      "  inflating: ./novelctrlk6_8_coco_dataset/train/JPEGImages/00006232_55.jpg  \r\n",
      "  inflating: ./novelctrlk6_8_coco_dataset/train/JPEGImages/00000759_28.jpg  \r\n",
      "  inflating: ./novelctrlk6_8_coco_dataset/train/JPEGImages/00003680_32.jpg  \r\n",
      "  inflating: ./novelctrlk6_8_coco_dataset/train/JPEGImages/00004441_88.jpg  \r\n",
      "  inflating: ./novelctrlk6_8_coco_dataset/train/JPEGImages/00005090_94.jpg  \r\n",
      "  inflating: ./novelctrlk6_8_coco_dataset/train/JPEGImages/00002476_27.jpg  \r\n",
      "  inflating: ./novelctrlk6_8_coco_dataset/train/JPEGImages/00000965_42.jpg  \r\n",
      "  inflating: ./novelctrlk6_8_coco_dataset/train/JPEGImages/00001652_55.jpg  \r\n",
      "  inflating: ./novelctrlk6_8_coco_dataset/train/JPEGImages/00002000_18.jpg  \r\n",
      "  inflating: ./novelctrlk6_8_coco_dataset/train/JPEGImages/00002333_0.jpg  \r\n",
      "  inflating: ./novelctrlk6_8_coco_dataset/train/JPEGImages/00005752_39.jpg  \r\n",
      "  inflating: ./novelctrlk6_8_coco_dataset/train/JPEGImages/00006670_0.jpg  \r\n",
      "  inflating: ./novelctrlk6_8_coco_dataset/train/JPEGImages/00005763_18.jpg  \r\n",
      "  inflating: ./novelctrlk6_8_coco_dataset/train/JPEGImages/00004469_75.jpg  \r\n",
      "  inflating: ./novelctrlk6_8_coco_dataset/train/JPEGImages/00005566_43.jpg  "
     ]
    },
    {
     "name": "stdout",
     "output_type": "stream",
     "text": [
      "\r\n",
      "  inflating: ./novelctrlk6_8_coco_dataset/train/JPEGImages/00004336_74.jpg  \r\n",
      "  inflating: ./novelctrlk6_8_coco_dataset/train/JPEGImages/00006574_88.jpg  \r\n",
      "  inflating: ./novelctrlk6_8_coco_dataset/train/JPEGImages/00001922_1.jpg  \r\n",
      "  inflating: ./novelctrlk6_8_coco_dataset/train/JPEGImages/00001795_5.jpg  \r\n",
      "  inflating: ./novelctrlk6_8_coco_dataset/train/JPEGImages/00005755_34.jpg  \r\n",
      "  inflating: ./novelctrlk6_8_coco_dataset/train/JPEGImages/00003576_54.jpg  \r\n",
      "  inflating: ./novelctrlk6_8_coco_dataset/train/JPEGImages/00002647_78.jpg  \r\n",
      "  inflating: ./novelctrlk6_8_coco_dataset/train/JPEGImages/00004295_47.jpg  \r\n",
      "  inflating: ./novelctrlk6_8_coco_dataset/train/JPEGImages/00003667_56.jpg  \r\n",
      "  inflating: ./novelctrlk6_8_coco_dataset/train/JPEGImages/00006131_85.jpg  \r\n",
      "  inflating: ./novelctrlk6_8_coco_dataset/train/JPEGImages/00000311_77.jpg  \r\n",
      "  inflating: ./novelctrlk6_8_coco_dataset/train/JPEGImages/00000879_40.jpg  \r\n",
      "  inflating: ./novelctrlk6_8_coco_dataset/train/JPEGImages/00002991_7.jpg  \r\n",
      "  inflating: ./novelctrlk6_8_coco_dataset/train/JPEGImages/00000757_5.jpg  \r\n",
      "  inflating: ./novelctrlk6_8_coco_dataset/train/JPEGImages/00004628_68.jpg  \r\n",
      "  inflating: ./novelctrlk6_8_coco_dataset/train/JPEGImages/00004348_33.jpg  \r\n",
      "  inflating: ./novelctrlk6_8_coco_dataset/train/JPEGImages/00003269_66.jpg  \r\n",
      "  inflating: ./novelctrlk6_8_coco_dataset/train/JPEGImages/00003224_49.jpg  \r\n",
      "  inflating: ./novelctrlk6_8_coco_dataset/train/JPEGImages/00002628_21.jpg  \r\n",
      "  inflating: ./novelctrlk6_8_coco_dataset/train/JPEGImages/00001838_25.jpg  \r\n",
      "  inflating: ./novelctrlk6_8_coco_dataset/train/JPEGImages/00002825_40.jpg  \r\n",
      "  inflating: ./novelctrlk6_8_coco_dataset/train/JPEGImages/00002247_29.jpg  "
     ]
    },
    {
     "name": "stdout",
     "output_type": "stream",
     "text": [
      "\r\n",
      "  inflating: ./novelctrlk6_8_coco_dataset/train/JPEGImages/00003100_30.jpg  \r\n",
      "  inflating: ./novelctrlk6_8_coco_dataset/train/JPEGImages/00001922_57.jpg  \r\n",
      "  inflating: ./novelctrlk6_8_coco_dataset/train/JPEGImages/00001320_92.jpg  \r\n",
      "  inflating: ./novelctrlk6_8_coco_dataset/train/JPEGImages/00006299_63.jpg  \r\n",
      "  inflating: ./novelctrlk6_8_coco_dataset/train/JPEGImages/00000952_60.jpg  \r\n",
      "  inflating: ./novelctrlk6_8_coco_dataset/train/JPEGImages/00000842_70.jpg  \r\n",
      "  inflating: ./__MACOSX/novelctrlk6_8_coco_dataset/train/JPEGImages/._00000842_70.jpg  \r\n",
      "  inflating: ./novelctrlk6_8_coco_dataset/train/JPEGImages/00002295_32.jpg  \r\n",
      "  inflating: ./novelctrlk6_8_coco_dataset/train/JPEGImages/00004117_59.jpg  \r\n",
      "  inflating: ./novelctrlk6_8_coco_dataset/train/JPEGImages/00003976_44.jpg  \r\n",
      "  inflating: ./novelctrlk6_8_coco_dataset/train/JPEGImages/00004032_20.jpg  \r\n",
      "  inflating: ./novelctrlk6_8_coco_dataset/train/JPEGImages/00006212_69.jpg  \r\n",
      "  inflating: ./novelctrlk6_8_coco_dataset/train/JPEGImages/00003134_31.jpg  \r\n",
      "  inflating: ./novelctrlk6_8_coco_dataset/train/JPEGImages/00006169_98.jpg  \r\n",
      "  inflating: ./novelctrlk6_8_coco_dataset/train/JPEGImages/00006830_36.jpg  \r\n",
      "  inflating: ./novelctrlk6_8_coco_dataset/train/JPEGImages/00004570_24.jpg  \r\n",
      "  inflating: ./novelctrlk6_8_coco_dataset/train/JPEGImages/00000735_23.jpg  \r\n",
      "  inflating: ./novelctrlk6_8_coco_dataset/train/JPEGImages/00003905_42.jpg  \r\n",
      "  inflating: ./novelctrlk6_8_coco_dataset/train/JPEGImages/00003012_37.jpg  "
     ]
    },
    {
     "name": "stdout",
     "output_type": "stream",
     "text": [
      "\r\n",
      "  inflating: ./novelctrlk6_8_coco_dataset/train/JPEGImages/00005456_95.jpg  \r\n",
      "  inflating: ./novelctrlk6_8_coco_dataset/train/JPEGImages/00002456_9.jpg  \r\n",
      "  inflating: ./novelctrlk6_8_coco_dataset/train/JPEGImages/00002433_90.jpg  \r\n",
      "  inflating: ./novelctrlk6_8_coco_dataset/train/JPEGImages/00006715_97.jpg  \r\n",
      "  inflating: ./novelctrlk6_8_coco_dataset/train/JPEGImages/00005597_15.jpg  \r\n",
      "  inflating: ./novelctrlk6_8_coco_dataset/train/JPEGImages/00006319_53.jpg  \r\n",
      "  inflating: ./novelctrlk6_8_coco_dataset/train/JPEGImages/00005025_83.jpg  \r\n",
      "  inflating: ./novelctrlk6_8_coco_dataset/train/JPEGImages/00000530_64.jpg  \r\n",
      "  inflating: ./novelctrlk6_8_coco_dataset/train/JPEGImages/00002362_63.jpg  \r\n",
      "  inflating: ./novelctrlk6_8_coco_dataset/train/JPEGImages/00002311_72.jpg  \r\n",
      "  inflating: ./novelctrlk6_8_coco_dataset/train/JPEGImages/00005068_37.jpg  \r\n",
      "  inflating: ./novelctrlk6_8_coco_dataset/train/JPEGImages/00006353_11.jpg  \r\n",
      "  inflating: ./novelctrlk6_8_coco_dataset/train/JPEGImages/00005056_91.jpg  \r\n",
      "  inflating: ./novelctrlk6_8_coco_dataset/train/JPEGImages/00000970_34.jpg  \r\n",
      "  inflating: ./novelctrlk6_8_coco_dataset/train/JPEGImages/00002577_24.jpg  \r\n",
      "  inflating: ./novelctrlk6_8_coco_dataset/train/JPEGImages/00006601_16.jpg  \r\n",
      "  inflating: ./novelctrlk6_8_coco_dataset/train/JPEGImages/00000652_65.jpg  "
     ]
    },
    {
     "name": "stdout",
     "output_type": "stream",
     "text": [
      "\r\n",
      "  inflating: ./novelctrlk6_8_coco_dataset/train/JPEGImages/00002639_95.jpg  \r\n",
      "  inflating: ./novelctrlk6_8_coco_dataset/train/JPEGImages/00005953_8.jpg  \r\n",
      "  inflating: ./novelctrlk6_8_coco_dataset/train/JPEGImages/00006000_27.jpg  \r\n",
      "  inflating: ./novelctrlk6_8_coco_dataset/train/JPEGImages/00005700_89.jpg  \r\n",
      "  inflating: ./novelctrlk6_8_coco_dataset/train/JPEGImages/00004672_51.jpg  \r\n",
      "  inflating: ./novelctrlk6_8_coco_dataset/train/JPEGImages/00004062_19.jpg  \r\n",
      "  inflating: ./novelctrlk6_8_coco_dataset/train/JPEGImages/00005246_28.jpg  \r\n",
      "  inflating: ./novelctrlk6_8_coco_dataset/train/JPEGImages/00005154_53.jpg  \r\n",
      "  inflating: ./novelctrlk6_8_coco_dataset/train/JPEGImages/00005584_93.jpg  \r\n",
      "  inflating: ./novelctrlk6_8_coco_dataset/train/JPEGImages/00003834_80.jpg  \r\n",
      "  inflating: ./novelctrlk6_8_coco_dataset/train/JPEGImages/00004711_6.jpg  \r\n",
      "  inflating: ./novelctrlk6_8_coco_dataset/train/JPEGImages/00006038_20.jpg  \r\n",
      "  inflating: ./novelctrlk6_8_coco_dataset/train/JPEGImages/00006373_2.jpg  \r\n",
      "  inflating: ./novelctrlk6_8_coco_dataset/train/JPEGImages/00006470_84.jpg  \r\n",
      "  inflating: ./novelctrlk6_8_coco_dataset/train/JPEGImages/00003956_16.jpg  "
     ]
    },
    {
     "name": "stdout",
     "output_type": "stream",
     "text": [
      "\r\n",
      "  inflating: ./novelctrlk6_8_coco_dataset/train/JPEGImages/00002625_79.jpg  \r\n",
      "  inflating: ./novelctrlk6_8_coco_dataset/train/JPEGImages/00006270_45.jpg  \r\n",
      "  inflating: ./novelctrlk6_8_coco_dataset/train/JPEGImages/00006521_86.jpg  \r\n",
      "  inflating: ./novelctrlk6_8_coco_dataset/train/JPEGImages/00001999_45.jpg  \r\n",
      "  inflating: ./novelctrlk6_8_coco_dataset/train/JPEGImages/00004081_4.jpg  \r\n",
      "  inflating: ./novelctrlk6_8_coco_dataset/train/JPEGImages/00000776_14.jpg  \r\n",
      "  inflating: ./novelctrlk6_8_coco_dataset/train/JPEGImages/00002546_58.jpg  "
     ]
    },
    {
     "name": "stdout",
     "output_type": "stream",
     "text": [
      "\r\n",
      "  inflating: ./novelctrlk6_8_coco_dataset/train/JPEGImages/00001181_61.jpg  \r\n",
      "  inflating: ./novelctrlk6_8_coco_dataset/train/JPEGImages/00002226_87.jpg  \r\n",
      "  inflating: ./novelctrlk6_8_coco_dataset/train/JPEGImages/00001632_33.jpg  \r\n",
      "  inflating: ./novelctrlk6_8_coco_dataset/train/JPEGImages/00006218_71.jpg  \r\n",
      "  inflating: ./novelctrlk6_8_coco_dataset/train/JPEGImages/00005400_9.jpg  \r\n",
      "  inflating: ./novelctrlk6_8_coco_dataset/train/JPEGImages/00001299_86.jpg  \r\n",
      "  inflating: ./novelctrlk6_8_coco_dataset/train/JPEGImages/00002067_75.jpg  \r\n"
     ]
    },
    {
     "name": "stdout",
     "output_type": "stream",
     "text": [
      "  inflating: ./novelctrlk6_8_coco_dataset/train/JPEGImages/00006844_69.jpg  \r\n",
      "  inflating: ./novelctrlk6_8_coco_dataset/train/JPEGImages/00001892_72.jpg  \r\n",
      "  inflating: ./novelctrlk6_8_coco_dataset/train/JPEGImages/00001153_93.jpg  \r\n",
      "  inflating: ./novelctrlk6_8_coco_dataset/train/JPEGImages/00001389_82.jpg  \r\n",
      "  inflating: ./novelctrlk6_8_coco_dataset/train/JPEGImages/00001439_52.jpg  \r\n",
      "  inflating: ./novelctrlk6_8_coco_dataset/train/JPEGImages/00006367_98.jpg  \r\n",
      "  inflating: ./novelctrlk6_8_coco_dataset/train/JPEGImages/00004018_67.jpg  \r\n",
      "  inflating: ./novelctrlk6_8_coco_dataset/train/JPEGImages/00004535_48.jpg  \r\n",
      "  inflating: ./novelctrlk6_8_coco_dataset/train/JPEGImages/00006361_13.jpg  \r\n",
      "  inflating: ./novelctrlk6_8_coco_dataset/train/JPEGImages/00003167_10.jpg  \r\n",
      "  inflating: ./novelctrlk6_8_coco_dataset/train/JPEGImages/00006832_66.jpg  \r\n",
      "  inflating: ./novelctrlk6_8_coco_dataset/train/JPEGImages/00004956_38.jpg  \r\n",
      "  inflating: ./novelctrlk6_8_coco_dataset/train/JPEGImages/00001980_61.jpg  \r\n"
     ]
    },
    {
     "name": "stdout",
     "output_type": "stream",
     "text": [
      "  inflating: ./novelctrlk6_8_coco_dataset/train/JPEGImages/00003364_13.jpg  \r\n",
      "  inflating: ./novelctrlk6_8_coco_dataset/train/annotations.json  \r\n"
     ]
    }
   ],
   "source": [
    "if IN_COLAB:\n",
    "    !unzip $dataset -d /content/\n",
    "else:\n",
    "    #TODO generalize this\n",
    "    !unzip -o $dataset -d ."
   ]
  },
  {
   "cell_type": "code",
   "execution_count": 9,
   "id": "7f00c84c",
   "metadata": {},
   "outputs": [],
   "source": [
    "DATASET_NAME = DATASET_DIR = f\"{dataset.replace('.zip','')}\""
   ]
  },
  {
   "cell_type": "markdown",
   "id": "25c10a72",
   "metadata": {},
   "source": [
    "Register the custom dataset to Detectron2, following the [detectron2 custom dataset tutorial](https://detectron2.readthedocs.io/tutorials/datasets.html).\n",
    "Here, the dataset is in COCO format, therefore we register  into Detectron2's standard format. User should write such a function when using a dataset in custom format. See the tutorial for more details.\n"
   ]
  },
  {
   "cell_type": "code",
   "execution_count": 10,
   "id": "4e3474ce",
   "metadata": {},
   "outputs": [],
   "source": [
    "from detectron2.data.datasets import register_coco_instances\n",
    "from detectron2.data import get_detection_dataset_dicts\n",
    "from detectron2.data.datasets import  builtin_meta"
   ]
  },
  {
   "cell_type": "code",
   "execution_count": 11,
   "id": "51b4974c",
   "metadata": {},
   "outputs": [],
   "source": [
    "register_coco_instances(f\"{DATASET_NAME}_train\", {}, f\"{DATASET_DIR}/train/annotations.json\", f\"{DATASET_DIR}/train/\")\n",
    "register_coco_instances(f\"{DATASET_NAME}_valid\", {}, f\"{DATASET_DIR}/valid/annotations.json\", f\"{DATASET_DIR}/valid/\")"
   ]
  },
  {
   "cell_type": "code",
   "execution_count": 12,
   "id": "e3e24b3d",
   "metadata": {},
   "outputs": [
    {
     "name": "stdout",
     "output_type": "stream",
     "text": [
      "\u001b[32m[05/03 10:12:13 d2.data.datasets.coco]: \u001b[0mLoaded 118 images in COCO format from novelctrlk6_8_coco_dataset/train/annotations.json\n"
     ]
    },
    {
     "name": "stdout",
     "output_type": "stream",
     "text": [
      "\u001b[32m[05/03 10:12:13 d2.data.build]: \u001b[0mRemoved 0 images with no usable annotations. 118 images left.\n"
     ]
    },
    {
     "name": "stdout",
     "output_type": "stream",
     "text": [
      "\u001b[32m[05/03 10:12:13 d2.data.build]: \u001b[0mDistribution of instances among all 7 categories:\n",
      "\u001b[36m|   category   | #instances   |  category  | #instances   |  category  | #instances   |\n",
      "|:------------:|:-------------|:----------:|:-------------|:----------:|:-------------|\n",
      "| _background_ | 0            |    nose    | 118          |  left_ear  | 118          |\n",
      "|  right_ear   | 117          | tail_base  | 119          |   mouse    | 118          |\n",
      "|   centroid   | 1            |            |              |            |              |\n",
      "|    total     | 591          |            |              |            |              |\u001b[0m\n"
     ]
    }
   ],
   "source": [
    "dataset_dicts = get_detection_dataset_dicts([f\"{DATASET_NAME}_train\"])"
   ]
  },
  {
   "cell_type": "code",
   "execution_count": 13,
   "id": "efb35c39",
   "metadata": {},
   "outputs": [],
   "source": [
    "_dataset_metadata = MetadataCatalog.get(f\"{DATASET_NAME}_train\")\n",
    "_dataset_metadata.thing_colors = [cc['color'] for cc in builtin_meta.COCO_CATEGORIES]"
   ]
  },
  {
   "cell_type": "code",
   "execution_count": 14,
   "id": "541883a7",
   "metadata": {},
   "outputs": [
    {
     "data": {
      "text/plain": [
       "Metadata(evaluator_type='coco', image_root='novelctrlk6_8_coco_dataset/train/', json_file='novelctrlk6_8_coco_dataset/train/annotations.json', name='novelctrlk6_8_coco_dataset_train', thing_classes=['_background_', 'nose', 'left_ear', 'right_ear', 'tail_base', 'mouse', 'centroid'], thing_colors=[[220, 20, 60], [119, 11, 32], [0, 0, 142], [0, 0, 230], [106, 0, 228], [0, 60, 100], [0, 80, 100], [0, 0, 70], [0, 0, 192], [250, 170, 30], [100, 170, 30], [220, 220, 0], [175, 116, 175], [250, 0, 30], [165, 42, 42], [255, 77, 255], [0, 226, 252], [182, 182, 255], [0, 82, 0], [120, 166, 157], [110, 76, 0], [174, 57, 255], [199, 100, 0], [72, 0, 118], [255, 179, 240], [0, 125, 92], [209, 0, 151], [188, 208, 182], [0, 220, 176], [255, 99, 164], [92, 0, 73], [133, 129, 255], [78, 180, 255], [0, 228, 0], [174, 255, 243], [45, 89, 255], [134, 134, 103], [145, 148, 174], [255, 208, 186], [197, 226, 255], [171, 134, 1], [109, 63, 54], [207, 138, 255], [151, 0, 95], [9, 80, 61], [84, 105, 51], [74, 65, 105], [166, 196, 102], [208, 195, 210], [255, 109, 65], [0, 143, 149], [179, 0, 194], [209, 99, 106], [5, 121, 0], [227, 255, 205], [147, 186, 208], [153, 69, 1], [3, 95, 161], [163, 255, 0], [119, 0, 170], [0, 182, 199], [0, 165, 120], [183, 130, 88], [95, 32, 0], [130, 114, 135], [110, 129, 133], [166, 74, 118], [219, 142, 185], [79, 210, 114], [178, 90, 62], [65, 70, 15], [127, 167, 115], [59, 105, 106], [142, 108, 45], [196, 172, 0], [95, 54, 80], [128, 76, 255], [201, 57, 1], [246, 0, 122], [191, 162, 208], [255, 255, 128], [147, 211, 203], [150, 100, 100], [168, 171, 172], [146, 112, 198], [210, 170, 100], [92, 136, 89], [218, 88, 184], [241, 129, 0], [217, 17, 255], [124, 74, 181], [70, 70, 70], [255, 228, 255], [154, 208, 0], [193, 0, 92], [76, 91, 113], [255, 180, 195], [106, 154, 176], [230, 150, 140], [60, 143, 255], [128, 64, 128], [92, 82, 55], [254, 212, 124], [73, 77, 174], [255, 160, 98], [255, 255, 255], [104, 84, 109], [169, 164, 131], [225, 199, 255], [137, 54, 74], [135, 158, 223], [7, 246, 231], [107, 255, 200], [58, 41, 149], [183, 121, 142], [255, 73, 97], [107, 142, 35], [190, 153, 153], [146, 139, 141], [70, 130, 180], [134, 199, 156], [209, 226, 140], [96, 36, 108], [96, 96, 96], [64, 170, 64], [152, 251, 152], [208, 229, 228], [206, 186, 171], [152, 161, 64], [116, 112, 0], [0, 114, 143], [102, 102, 156], [250, 141, 255]], thing_dataset_id_to_contiguous_id={0: 0, 1: 1, 2: 2, 3: 3, 4: 4, 5: 5, 6: 6})"
      ]
     },
     "execution_count": 14,
     "metadata": {},
     "output_type": "execute_result"
    }
   ],
   "source": [
    "_dataset_metadata"
   ]
  },
  {
   "cell_type": "code",
   "execution_count": 15,
   "id": "8400f64f",
   "metadata": {},
   "outputs": [
    {
     "name": "stdout",
     "output_type": "stream",
     "text": [
      "7 Number of classes in the dataset\n"
     ]
    }
   ],
   "source": [
    "NUM_CLASSES = len(_dataset_metadata.thing_classes)\n",
    "print(f\"{NUM_CLASSES} Number of classes in the dataset\")"
   ]
  },
  {
   "cell_type": "markdown",
   "id": "630c0446",
   "metadata": {},
   "source": [
    "To verify the data loading is correct, let's visualize the annotations of a randomly selected sample in the training set:\n",
    "\n"
   ]
  },
  {
   "cell_type": "code",
   "execution_count": 16,
   "id": "f0f1f820",
   "metadata": {},
   "outputs": [
    {
     "data": {
      "image/png": "[encoded data removed]",
      "text/plain": [
       "<Figure size 432x288 with 1 Axes>"
      ]
     },
     "metadata": {
      "filenames": {
       "image/png": "/Users/chenyang/Desktop/Developer/cpl/annolid/book/_build/jupyter_execute/tutorials/Annolid_on_Detectron2_Tutorial_2_Train_a_Model_21_0.png"
      },
      "needs_background": "light"
     },
     "output_type": "display_data"
    }
   ],
   "source": [
    "for d in random.sample(dataset_dicts, 2):\n",
    "    if '\\\\' in d['file_name']:\n",
    "        d['file_name'] = d['file_name'].replace('\\\\','/')\n",
    "    img = cv2.imread(d[\"file_name\"])\n",
    "    visualizer = Visualizer(img[:, :, ::-1], metadata=_dataset_metadata, scale=0.5)\n",
    "    out = visualizer.draw_dataset_dict(d)\n",
    "    if IN_COLAB:\n",
    "        cv2_imshow(out.get_image()[:, :, ::-1])\n",
    "    else:\n",
    "        plt.imshow(out.get_image()[:, :, ::-1])\n",
    "        "
   ]
  },
  {
   "cell_type": "markdown",
   "id": "e930f8e3",
   "metadata": {},
   "source": [
    "## Train!\n",
    "\n",
    "Now, let's fine-tune the COCO-pretrained R50-FPN Mask R-CNN model with our custom dataset. It takes ~2 hours to train 3000 iterations on Colab's K80 GPU, or ~1.5 hours on a P100 GPU.\n"
   ]
  },
  {
   "cell_type": "code",
   "execution_count": 17,
   "id": "77b68023",
   "metadata": {},
   "outputs": [],
   "source": [
    "if GPU:\n",
    "    !nvidia-smi"
   ]
  },
  {
   "cell_type": "code",
   "execution_count": 18,
   "id": "90cec3a2",
   "metadata": {},
   "outputs": [],
   "source": [
    "from detectron2.engine import DefaultTrainer"
   ]
  },
  {
   "cell_type": "code",
   "execution_count": 19,
   "id": "513d6d1b",
   "metadata": {},
   "outputs": [],
   "source": [
    "cfg = get_cfg()"
   ]
  },
  {
   "cell_type": "code",
   "execution_count": 20,
   "id": "31db237f",
   "metadata": {},
   "outputs": [],
   "source": [
    "if GPU:\n",
    "    pass\n",
    "else:\n",
    "    cfg.MODEL.DEVICE='cpu'"
   ]
  },
  {
   "cell_type": "code",
   "execution_count": 21,
   "id": "0a31d9e8",
   "metadata": {},
   "outputs": [
    {
     "name": "stdout",
     "output_type": "stream",
     "text": [
      "\u001b[32m[05/03 10:12:15 d2.engine.defaults]: \u001b[0mModel:\n",
      "GeneralizedRCNN(\n",
      "  (backbone): FPN(\n",
      "    (fpn_lateral2): Conv2d(256, 256, kernel_size=(1, 1), stride=(1, 1))\n",
      "    (fpn_output2): Conv2d(256, 256, kernel_size=(3, 3), stride=(1, 1), padding=(1, 1))\n",
      "    (fpn_lateral3): Conv2d(512, 256, kernel_size=(1, 1), stride=(1, 1))\n",
      "    (fpn_output3): Conv2d(256, 256, kernel_size=(3, 3), stride=(1, 1), padding=(1, 1))\n",
      "    (fpn_lateral4): Conv2d(1024, 256, kernel_size=(1, 1), stride=(1, 1))\n",
      "    (fpn_output4): Conv2d(256, 256, kernel_size=(3, 3), stride=(1, 1), padding=(1, 1))\n",
      "    (fpn_lateral5): Conv2d(2048, 256, kernel_size=(1, 1), stride=(1, 1))\n",
      "    (fpn_output5): Conv2d(256, 256, kernel_size=(3, 3), stride=(1, 1), padding=(1, 1))\n",
      "    (top_block): LastLevelMaxPool()\n",
      "    (bottom_up): ResNet(\n",
      "      (stem): BasicStem(\n",
      "        (conv1): Conv2d(\n",
      "          3, 64, kernel_size=(7, 7), stride=(2, 2), padding=(3, 3), bias=False\n",
      "          (norm): FrozenBatchNorm2d(num_features=64, eps=1e-05)\n",
      "        )\n",
      "      )\n",
      "      (res2): Sequential(\n",
      "        (0): BottleneckBlock(\n",
      "          (shortcut): Conv2d(\n",
      "            64, 256, kernel_size=(1, 1), stride=(1, 1), bias=False\n",
      "            (norm): FrozenBatchNorm2d(num_features=256, eps=1e-05)\n",
      "          )\n",
      "          (conv1): Conv2d(\n",
      "            64, 64, kernel_size=(1, 1), stride=(1, 1), bias=False\n",
      "            (norm): FrozenBatchNorm2d(num_features=64, eps=1e-05)\n",
      "          )\n",
      "          (conv2): Conv2d(\n",
      "            64, 64, kernel_size=(3, 3), stride=(1, 1), padding=(1, 1), bias=False\n",
      "            (norm): FrozenBatchNorm2d(num_features=64, eps=1e-05)\n",
      "          )\n",
      "          (conv3): Conv2d(\n",
      "            64, 256, kernel_size=(1, 1), stride=(1, 1), bias=False\n",
      "            (norm): FrozenBatchNorm2d(num_features=256, eps=1e-05)\n",
      "          )\n",
      "        )\n",
      "        (1): BottleneckBlock(\n",
      "          (conv1): Conv2d(\n",
      "            256, 64, kernel_size=(1, 1), stride=(1, 1), bias=False\n",
      "            (norm): FrozenBatchNorm2d(num_features=64, eps=1e-05)\n",
      "          )\n",
      "          (conv2): Conv2d(\n",
      "            64, 64, kernel_size=(3, 3), stride=(1, 1), padding=(1, 1), bias=False\n",
      "            (norm): FrozenBatchNorm2d(num_features=64, eps=1e-05)\n",
      "          )\n",
      "          (conv3): Conv2d(\n",
      "            64, 256, kernel_size=(1, 1), stride=(1, 1), bias=False\n",
      "            (norm): FrozenBatchNorm2d(num_features=256, eps=1e-05)\n",
      "          )\n",
      "        )\n",
      "        (2): BottleneckBlock(\n",
      "          (conv1): Conv2d(\n",
      "            256, 64, kernel_size=(1, 1), stride=(1, 1), bias=False\n",
      "            (norm): FrozenBatchNorm2d(num_features=64, eps=1e-05)\n",
      "          )\n",
      "          (conv2): Conv2d(\n",
      "            64, 64, kernel_size=(3, 3), stride=(1, 1), padding=(1, 1), bias=False\n",
      "            (norm): FrozenBatchNorm2d(num_features=64, eps=1e-05)\n",
      "          )\n",
      "          (conv3): Conv2d(\n",
      "            64, 256, kernel_size=(1, 1), stride=(1, 1), bias=False\n",
      "            (norm): FrozenBatchNorm2d(num_features=256, eps=1e-05)\n",
      "          )\n",
      "        )\n",
      "      )\n",
      "      (res3): Sequential(\n",
      "        (0): BottleneckBlock(\n",
      "          (shortcut): Conv2d(\n",
      "            256, 512, kernel_size=(1, 1), stride=(2, 2), bias=False\n",
      "            (norm): FrozenBatchNorm2d(num_features=512, eps=1e-05)\n",
      "          )\n",
      "          (conv1): Conv2d(\n",
      "            256, 128, kernel_size=(1, 1), stride=(2, 2), bias=False\n",
      "            (norm): FrozenBatchNorm2d(num_features=128, eps=1e-05)\n",
      "          )\n",
      "          (conv2): Conv2d(\n",
      "            128, 128, kernel_size=(3, 3), stride=(1, 1), padding=(1, 1), bias=False\n",
      "            (norm): FrozenBatchNorm2d(num_features=128, eps=1e-05)\n",
      "          )\n",
      "          (conv3): Conv2d(\n",
      "            128, 512, kernel_size=(1, 1), stride=(1, 1), bias=False\n",
      "            (norm): FrozenBatchNorm2d(num_features=512, eps=1e-05)\n",
      "          )\n",
      "        )\n",
      "        (1): BottleneckBlock(\n",
      "          (conv1): Conv2d(\n",
      "            512, 128, kernel_size=(1, 1), stride=(1, 1), bias=False\n",
      "            (norm): FrozenBatchNorm2d(num_features=128, eps=1e-05)\n",
      "          )\n",
      "          (conv2): Conv2d(\n",
      "            128, 128, kernel_size=(3, 3), stride=(1, 1), padding=(1, 1), bias=False\n",
      "            (norm): FrozenBatchNorm2d(num_features=128, eps=1e-05)\n",
      "          )\n",
      "          (conv3): Conv2d(\n",
      "            128, 512, kernel_size=(1, 1), stride=(1, 1), bias=False\n",
      "            (norm): FrozenBatchNorm2d(num_features=512, eps=1e-05)\n",
      "          )\n",
      "        )\n",
      "        (2): BottleneckBlock(\n",
      "          (conv1): Conv2d(\n",
      "            512, 128, kernel_size=(1, 1), stride=(1, 1), bias=False\n",
      "            (norm): FrozenBatchNorm2d(num_features=128, eps=1e-05)\n",
      "          )\n",
      "          (conv2): Conv2d(\n",
      "            128, 128, kernel_size=(3, 3), stride=(1, 1), padding=(1, 1), bias=False\n",
      "            (norm): FrozenBatchNorm2d(num_features=128, eps=1e-05)\n",
      "          )\n",
      "          (conv3): Conv2d(\n",
      "            128, 512, kernel_size=(1, 1), stride=(1, 1), bias=False\n",
      "            (norm): FrozenBatchNorm2d(num_features=512, eps=1e-05)\n",
      "          )\n",
      "        )\n",
      "        (3): BottleneckBlock(\n",
      "          (conv1): Conv2d(\n",
      "            512, 128, kernel_size=(1, 1), stride=(1, 1), bias=False\n",
      "            (norm): FrozenBatchNorm2d(num_features=128, eps=1e-05)\n",
      "          )\n",
      "          (conv2): Conv2d(\n",
      "            128, 128, kernel_size=(3, 3), stride=(1, 1), padding=(1, 1), bias=False\n",
      "            (norm): FrozenBatchNorm2d(num_features=128, eps=1e-05)\n",
      "          )\n",
      "          (conv3): Conv2d(\n",
      "            128, 512, kernel_size=(1, 1), stride=(1, 1), bias=False\n",
      "            (norm): FrozenBatchNorm2d(num_features=512, eps=1e-05)\n",
      "          )\n",
      "        )\n",
      "      )\n",
      "      (res4): Sequential(\n",
      "        (0): BottleneckBlock(\n",
      "          (shortcut): Conv2d(\n",
      "            512, 1024, kernel_size=(1, 1), stride=(2, 2), bias=False\n",
      "            (norm): FrozenBatchNorm2d(num_features=1024, eps=1e-05)\n",
      "          )\n",
      "          (conv1): Conv2d(\n",
      "            512, 256, kernel_size=(1, 1), stride=(2, 2), bias=False\n",
      "            (norm): FrozenBatchNorm2d(num_features=256, eps=1e-05)\n",
      "          )\n",
      "          (conv2): Conv2d(\n",
      "            256, 256, kernel_size=(3, 3), stride=(1, 1), padding=(1, 1), bias=False\n",
      "            (norm): FrozenBatchNorm2d(num_features=256, eps=1e-05)\n",
      "          )\n",
      "          (conv3): Conv2d(\n",
      "            256, 1024, kernel_size=(1, 1), stride=(1, 1), bias=False\n",
      "            (norm): FrozenBatchNorm2d(num_features=1024, eps=1e-05)\n",
      "          )\n",
      "        )\n",
      "        (1): BottleneckBlock(\n",
      "          (conv1): Conv2d(\n",
      "            1024, 256, kernel_size=(1, 1), stride=(1, 1), bias=False\n",
      "            (norm): FrozenBatchNorm2d(num_features=256, eps=1e-05)\n",
      "          )\n",
      "          (conv2): Conv2d(\n",
      "            256, 256, kernel_size=(3, 3), stride=(1, 1), padding=(1, 1), bias=False\n",
      "            (norm): FrozenBatchNorm2d(num_features=256, eps=1e-05)\n",
      "          )\n",
      "          (conv3): Conv2d(\n",
      "            256, 1024, kernel_size=(1, 1), stride=(1, 1), bias=False\n",
      "            (norm): FrozenBatchNorm2d(num_features=1024, eps=1e-05)\n",
      "          )\n",
      "        )\n",
      "        (2): BottleneckBlock(\n",
      "          (conv1): Conv2d(\n",
      "            1024, 256, kernel_size=(1, 1), stride=(1, 1), bias=False\n",
      "            (norm): FrozenBatchNorm2d(num_features=256, eps=1e-05)\n",
      "          )\n",
      "          (conv2): Conv2d(\n",
      "            256, 256, kernel_size=(3, 3), stride=(1, 1), padding=(1, 1), bias=False\n",
      "            (norm): FrozenBatchNorm2d(num_features=256, eps=1e-05)\n",
      "          )\n",
      "          (conv3): Conv2d(\n",
      "            256, 1024, kernel_size=(1, 1), stride=(1, 1), bias=False\n",
      "            (norm): FrozenBatchNorm2d(num_features=1024, eps=1e-05)\n",
      "          )\n",
      "        )\n",
      "        (3): BottleneckBlock(\n",
      "          (conv1): Conv2d(\n",
      "            1024, 256, kernel_size=(1, 1), stride=(1, 1), bias=False\n",
      "            (norm): FrozenBatchNorm2d(num_features=256, eps=1e-05)\n",
      "          )\n",
      "          (conv2): Conv2d(\n",
      "            256, 256, kernel_size=(3, 3), stride=(1, 1), padding=(1, 1), bias=False\n",
      "            (norm): FrozenBatchNorm2d(num_features=256, eps=1e-05)\n",
      "          )\n",
      "          (conv3): Conv2d(\n",
      "            256, 1024, kernel_size=(1, 1), stride=(1, 1), bias=False\n",
      "            (norm): FrozenBatchNorm2d(num_features=1024, eps=1e-05)\n",
      "          )\n",
      "        )\n",
      "        (4): BottleneckBlock(\n",
      "          (conv1): Conv2d(\n",
      "            1024, 256, kernel_size=(1, 1), stride=(1, 1), bias=False\n",
      "            (norm): FrozenBatchNorm2d(num_features=256, eps=1e-05)\n",
      "          )\n",
      "          (conv2): Conv2d(\n",
      "            256, 256, kernel_size=(3, 3), stride=(1, 1), padding=(1, 1), bias=False\n",
      "            (norm): FrozenBatchNorm2d(num_features=256, eps=1e-05)\n",
      "          )\n",
      "          (conv3): Conv2d(\n",
      "            256, 1024, kernel_size=(1, 1), stride=(1, 1), bias=False\n",
      "            (norm): FrozenBatchNorm2d(num_features=1024, eps=1e-05)\n",
      "          )\n",
      "        )\n",
      "        (5): BottleneckBlock(\n",
      "          (conv1): Conv2d(\n",
      "            1024, 256, kernel_size=(1, 1), stride=(1, 1), bias=False\n",
      "            (norm): FrozenBatchNorm2d(num_features=256, eps=1e-05)\n",
      "          )\n",
      "          (conv2): Conv2d(\n",
      "            256, 256, kernel_size=(3, 3), stride=(1, 1), padding=(1, 1), bias=False\n",
      "            (norm): FrozenBatchNorm2d(num_features=256, eps=1e-05)\n",
      "          )\n",
      "          (conv3): Conv2d(\n",
      "            256, 1024, kernel_size=(1, 1), stride=(1, 1), bias=False\n",
      "            (norm): FrozenBatchNorm2d(num_features=1024, eps=1e-05)\n",
      "          )\n",
      "        )\n",
      "      )\n",
      "      (res5): Sequential(\n",
      "        (0): BottleneckBlock(\n",
      "          (shortcut): Conv2d(\n",
      "            1024, 2048, kernel_size=(1, 1), stride=(2, 2), bias=False\n",
      "            (norm): FrozenBatchNorm2d(num_features=2048, eps=1e-05)\n",
      "          )\n",
      "          (conv1): Conv2d(\n",
      "            1024, 512, kernel_size=(1, 1), stride=(2, 2), bias=False\n",
      "            (norm): FrozenBatchNorm2d(num_features=512, eps=1e-05)\n",
      "          )\n",
      "          (conv2): Conv2d(\n",
      "            512, 512, kernel_size=(3, 3), stride=(1, 1), padding=(1, 1), bias=False\n",
      "            (norm): FrozenBatchNorm2d(num_features=512, eps=1e-05)\n",
      "          )\n",
      "          (conv3): Conv2d(\n",
      "            512, 2048, kernel_size=(1, 1), stride=(1, 1), bias=False\n",
      "            (norm): FrozenBatchNorm2d(num_features=2048, eps=1e-05)\n",
      "          )\n",
      "        )\n",
      "        (1): BottleneckBlock(\n",
      "          (conv1): Conv2d(\n",
      "            2048, 512, kernel_size=(1, 1), stride=(1, 1), bias=False\n",
      "            (norm): FrozenBatchNorm2d(num_features=512, eps=1e-05)\n",
      "          )\n",
      "          (conv2): Conv2d(\n",
      "            512, 512, kernel_size=(3, 3), stride=(1, 1), padding=(1, 1), bias=False\n",
      "            (norm): FrozenBatchNorm2d(num_features=512, eps=1e-05)\n",
      "          )\n",
      "          (conv3): Conv2d(\n",
      "            512, 2048, kernel_size=(1, 1), stride=(1, 1), bias=False\n",
      "            (norm): FrozenBatchNorm2d(num_features=2048, eps=1e-05)\n",
      "          )\n",
      "        )\n",
      "        (2): BottleneckBlock(\n",
      "          (conv1): Conv2d(\n",
      "            2048, 512, kernel_size=(1, 1), stride=(1, 1), bias=False\n",
      "            (norm): FrozenBatchNorm2d(num_features=512, eps=1e-05)\n",
      "          )\n",
      "          (conv2): Conv2d(\n",
      "            512, 512, kernel_size=(3, 3), stride=(1, 1), padding=(1, 1), bias=False\n",
      "            (norm): FrozenBatchNorm2d(num_features=512, eps=1e-05)\n",
      "          )\n",
      "          (conv3): Conv2d(\n",
      "            512, 2048, kernel_size=(1, 1), stride=(1, 1), bias=False\n",
      "            (norm): FrozenBatchNorm2d(num_features=2048, eps=1e-05)\n",
      "          )\n",
      "        )\n",
      "      )\n",
      "    )\n",
      "  )\n",
      "  (proposal_generator): RPN(\n",
      "    (rpn_head): StandardRPNHead(\n",
      "      (conv): Conv2d(\n",
      "        256, 256, kernel_size=(3, 3), stride=(1, 1), padding=(1, 1)\n",
      "        (activation): ReLU()\n",
      "      )\n",
      "      (objectness_logits): Conv2d(256, 3, kernel_size=(1, 1), stride=(1, 1))\n",
      "      (anchor_deltas): Conv2d(256, 12, kernel_size=(1, 1), stride=(1, 1))\n",
      "    )\n",
      "    (anchor_generator): DefaultAnchorGenerator(\n",
      "      (cell_anchors): BufferList()\n",
      "    )\n",
      "  )\n",
      "  (roi_heads): StandardROIHeads(\n",
      "    (box_pooler): ROIPooler(\n",
      "      (level_poolers): ModuleList(\n",
      "        (0): ROIAlign(output_size=(7, 7), spatial_scale=0.25, sampling_ratio=0, aligned=True)\n",
      "        (1): ROIAlign(output_size=(7, 7), spatial_scale=0.125, sampling_ratio=0, aligned=True)\n",
      "        (2): ROIAlign(output_size=(7, 7), spatial_scale=0.0625, sampling_ratio=0, aligned=True)\n",
      "        (3): ROIAlign(output_size=(7, 7), spatial_scale=0.03125, sampling_ratio=0, aligned=True)\n",
      "      )\n",
      "    )\n",
      "    (box_head): FastRCNNConvFCHead(\n",
      "      (flatten): Flatten(start_dim=1, end_dim=-1)\n",
      "      (fc1): Linear(in_features=12544, out_features=1024, bias=True)\n",
      "      (fc_relu1): ReLU()\n",
      "      (fc2): Linear(in_features=1024, out_features=1024, bias=True)\n",
      "      (fc_relu2): ReLU()\n",
      "    )\n",
      "    (box_predictor): FastRCNNOutputLayers(\n",
      "      (cls_score): Linear(in_features=1024, out_features=8, bias=True)\n",
      "      (bbox_pred): Linear(in_features=1024, out_features=28, bias=True)\n",
      "    )\n",
      "    (mask_pooler): ROIPooler(\n",
      "      (level_poolers): ModuleList(\n",
      "        (0): ROIAlign(output_size=(14, 14), spatial_scale=0.25, sampling_ratio=0, aligned=True)\n",
      "        (1): ROIAlign(output_size=(14, 14), spatial_scale=0.125, sampling_ratio=0, aligned=True)\n",
      "        (2): ROIAlign(output_size=(14, 14), spatial_scale=0.0625, sampling_ratio=0, aligned=True)\n",
      "        (3): ROIAlign(output_size=(14, 14), spatial_scale=0.03125, sampling_ratio=0, aligned=True)\n",
      "      )\n",
      "    )\n",
      "    (mask_head): MaskRCNNConvUpsampleHead(\n",
      "      (mask_fcn1): Conv2d(\n",
      "        256, 256, kernel_size=(3, 3), stride=(1, 1), padding=(1, 1)\n",
      "        (activation): ReLU()\n",
      "      )\n",
      "      (mask_fcn2): Conv2d(\n",
      "        256, 256, kernel_size=(3, 3), stride=(1, 1), padding=(1, 1)\n",
      "        (activation): ReLU()\n",
      "      )\n",
      "      (mask_fcn3): Conv2d(\n",
      "        256, 256, kernel_size=(3, 3), stride=(1, 1), padding=(1, 1)\n",
      "        (activation): ReLU()\n",
      "      )\n",
      "      (mask_fcn4): Conv2d(\n",
      "        256, 256, kernel_size=(3, 3), stride=(1, 1), padding=(1, 1)\n",
      "        (activation): ReLU()\n",
      "      )\n",
      "      (deconv): ConvTranspose2d(256, 256, kernel_size=(2, 2), stride=(2, 2))\n",
      "      (deconv_relu): ReLU()\n",
      "      (predictor): Conv2d(256, 7, kernel_size=(1, 1), stride=(1, 1))\n",
      "    )\n",
      "  )\n",
      ")\n"
     ]
    },
    {
     "name": "stdout",
     "output_type": "stream",
     "text": [
      "\u001b[32m[05/03 10:12:15 d2.data.datasets.coco]: \u001b[0mLoaded 118 images in COCO format from novelctrlk6_8_coco_dataset/train/annotations.json\n"
     ]
    },
    {
     "name": "stdout",
     "output_type": "stream",
     "text": [
      "\u001b[32m[05/03 10:12:15 d2.data.build]: \u001b[0mRemoved 0 images with no usable annotations. 118 images left.\n"
     ]
    },
    {
     "name": "stdout",
     "output_type": "stream",
     "text": [
      "\u001b[32m[05/03 10:12:15 d2.data.dataset_mapper]: \u001b[0m[DatasetMapper] Augmentations used in training: [ResizeShortestEdge(short_edge_length=(640, 672, 704, 736, 768, 800), max_size=1333, sample_style='choice'), RandomFlip()]\n"
     ]
    },
    {
     "name": "stdout",
     "output_type": "stream",
     "text": [
      "\u001b[32m[05/03 10:12:15 d2.data.build]: \u001b[0mUsing training sampler RepeatFactorTrainingSampler\n"
     ]
    },
    {
     "name": "stdout",
     "output_type": "stream",
     "text": [
      "\u001b[32m[05/03 10:12:15 d2.data.common]: \u001b[0mSerializing 118 elements to byte tensors and concatenating them all ...\n"
     ]
    },
    {
     "name": "stdout",
     "output_type": "stream",
     "text": [
      "\u001b[32m[05/03 10:12:15 d2.data.common]: \u001b[0mSerialized dataset takes 0.31 MiB\n"
     ]
    },
    {
     "name": "stdout",
     "output_type": "stream",
     "text": [
      "\u001b[5m\u001b[31mWARNING\u001b[0m \u001b[32m[05/03 10:12:15 d2.solver.build]: \u001b[0mSOLVER.STEPS contains values larger than SOLVER.MAX_ITER. These values will be ignored.\n"
     ]
    },
    {
     "name": "stderr",
     "output_type": "stream",
     "text": [
      "Skip loading parameter 'roi_heads.box_predictor.cls_score.weight' to the model due to incompatible shapes: (81, 1024) in the checkpoint but (8, 1024) in the model! You might want to double check if this is expected.\n"
     ]
    },
    {
     "name": "stderr",
     "output_type": "stream",
     "text": [
      "Skip loading parameter 'roi_heads.box_predictor.cls_score.bias' to the model due to incompatible shapes: (81,) in the checkpoint but (8,) in the model! You might want to double check if this is expected.\n"
     ]
    },
    {
     "name": "stderr",
     "output_type": "stream",
     "text": [
      "Skip loading parameter 'roi_heads.box_predictor.bbox_pred.weight' to the model due to incompatible shapes: (320, 1024) in the checkpoint but (28, 1024) in the model! You might want to double check if this is expected.\n"
     ]
    },
    {
     "name": "stderr",
     "output_type": "stream",
     "text": [
      "Skip loading parameter 'roi_heads.box_predictor.bbox_pred.bias' to the model due to incompatible shapes: (320,) in the checkpoint but (28,) in the model! You might want to double check if this is expected.\n"
     ]
    },
    {
     "name": "stderr",
     "output_type": "stream",
     "text": [
      "Skip loading parameter 'roi_heads.mask_head.predictor.weight' to the model due to incompatible shapes: (80, 256, 1, 1) in the checkpoint but (7, 256, 1, 1) in the model! You might want to double check if this is expected.\n"
     ]
    },
    {
     "name": "stderr",
     "output_type": "stream",
     "text": [
      "Skip loading parameter 'roi_heads.mask_head.predictor.bias' to the model due to incompatible shapes: (80,) in the checkpoint but (7,) in the model! You might want to double check if this is expected.\n"
     ]
    },
    {
     "name": "stderr",
     "output_type": "stream",
     "text": [
      "Some model parameters or buffers are not found in the checkpoint:\n",
      "\u001b[34mroi_heads.box_predictor.bbox_pred.{bias, weight}\u001b[0m\n",
      "\u001b[34mroi_heads.box_predictor.cls_score.{bias, weight}\u001b[0m\n",
      "\u001b[34mroi_heads.mask_head.predictor.{bias, weight}\u001b[0m\n"
     ]
    }
   ],
   "source": [
    "cfg.merge_from_file(model_zoo.get_config_file(\"COCO-InstanceSegmentation/mask_rcnn_R_50_FPN_3x.yaml\"))\n",
    "cfg.DATASETS.TRAIN = (f\"{DATASET_NAME}_train\",)\n",
    "cfg.DATASETS.TEST = ()\n",
    "cfg.DATALOADER.NUM_WORKERS = 2 #@param\n",
    "cfg.DATALOADER.SAMPLER_TRAIN = \"RepeatFactorTrainingSampler\"\n",
    "cfg.DATALOADER.REPEAT_THRESHOLD = 0.3\n",
    "cfg.MODEL.WEIGHTS = model_zoo.get_checkpoint_url(\"COCO-InstanceSegmentation/mask_rcnn_R_50_FPN_3x.yaml\")  # Let training initialize from model zoo\n",
    "cfg.SOLVER.IMS_PER_BATCH =  4 #@param\n",
    "cfg.SOLVER.BASE_LR = 0.0025 #@param # pick a good LR\n",
    "cfg.SOLVER.MAX_ITER = 3000 #@param    # 300 iterations seems good enough for 100 frames dataset; you will need to train longer for a practical dataset\n",
    "cfg.SOLVER.CHECKPOINT_PERIOD = 1000 #@param \n",
    "cfg.MODEL.ROI_HEADS.BATCH_SIZE_PER_IMAGE = 32 #@param   # faster, and good enough for this toy dataset (default: 512)\n",
    "cfg.MODEL.ROI_HEADS.NUM_CLASSES = NUM_CLASSES  #  (see https://detectron2.readthedocs.io/tutorials/datasets.html#update-the-config-for-new-datasets)\n",
    "os.makedirs(cfg.OUTPUT_DIR, exist_ok=True)\n",
    "trainer = DefaultTrainer(cfg) \n",
    "trainer.resume_or_load(resume=False)\n"
   ]
  },
  {
   "cell_type": "code",
   "execution_count": 22,
   "id": "580f84e8",
   "metadata": {},
   "outputs": [
    {
     "data": {
      "text/html": [
       "\n",
       "<iframe id=\"tensorboard-frame-ca3ae0746ba74871\" width=\"100%\" height=\"800\" frameborder=\"0\">\n",
       "</iframe>\n",
       "<script>\n",
       "  (function() {\n",
       "    const frame = document.getElementById(\"tensorboard-frame-ca3ae0746ba74871\");\n",
       "    const url = new URL(\"/\", window.location);\n",
       "    const port = 6006;\n",
       "    if (port) {\n",
       "      url.port = port;\n",
       "    }\n",
       "    frame.src = url;\n",
       "  })();\n",
       "</script>\n"
      ],
      "text/plain": [
       "<IPython.core.display.HTML object>"
      ]
     },
     "metadata": {},
     "output_type": "display_data"
    }
   ],
   "source": [
    "# Look at training curves in tensorboard:\n",
    "%load_ext tensorboard\n",
    "%tensorboard --logdir output"
   ]
  },
  {
   "cell_type": "code",
   "execution_count": 23,
   "id": "bcf89319",
   "metadata": {
    "scrolled": true
   },
   "outputs": [
    {
     "name": "stdout",
     "output_type": "stream",
     "text": [
      "\u001b[32m[05/03 10:12:23 d2.engine.train_loop]: \u001b[0mStarting training from iteration 0\n"
     ]
    },
    {
     "name": "stderr",
     "output_type": "stream",
     "text": [
      "/Users/chenyang/miniconda3/envs/ceed/lib/python3.7/site-packages/torch/_tensor.py:575: UserWarning: floor_divide is deprecated, and will be removed in a future version of pytorch. It currently rounds toward 0 (like the 'trunc' function NOT 'floor'). This results in incorrect rounding for negative values.\n",
      "To keep the current behavior, use torch.div(a, b, rounding_mode='trunc'), or for actual floor division, use torch.div(a, b, rounding_mode='floor'). (Triggered internally at  ../aten/src/ATen/native/BinaryOps.cpp:467.)\n",
      "  return torch.floor_divide(self, other)\n"
     ]
    },
    {
     "name": "stderr",
     "output_type": "stream",
     "text": [
      "/Users/chenyang/miniconda3/envs/ceed/lib/python3.7/site-packages/torch/nn/functional.py:718: UserWarning: Named tensors and all their associated APIs are an experimental feature and subject to change. Please do not use them for anything important until they are released as stable. (Triggered internally at  ../c10/core/TensorImpl.h:1156.)\n",
      "  return torch.max_pool2d(input, kernel_size, stride, padding, dilation, ceil_mode)\n"
     ]
    },
    {
     "name": "stdout",
     "output_type": "stream",
     "text": [
      "\u001b[32m[05/03 10:12:55 d2.engine.hooks]: \u001b[0mTotal training time: 0:00:32 (0:00:00 on hooks)\n"
     ]
    },
    {
     "name": "stdout",
     "output_type": "stream",
     "text": [
      "\u001b[32m[05/03 10:12:55 d2.utils.events]: \u001b[0m iter: 0    lr: N/A  \n"
     ]
    }
   ],
   "source": [
    "trainer.train()"
   ]
  },
  {
   "cell_type": "markdown",
   "id": "9bbaf8dd",
   "metadata": {},
   "source": [
    "## Save and download the trained model weights"
   ]
  },
  {
   "cell_type": "code",
   "execution_count": 24,
   "id": "de717d09",
   "metadata": {},
   "outputs": [],
   "source": [
    "final_model_file = os.path.join(cfg.OUTPUT_DIR,'model_final.pth')"
   ]
  },
  {
   "cell_type": "code",
   "execution_count": 25,
   "id": "84bf5b05",
   "metadata": {},
   "outputs": [],
   "source": [
    "if IN_COLAB:\n",
    "    from google.colab import files\n",
    "    files.download(final_model_file)\n",
    "else:\n",
    "    from IPython.display import FileLink\n",
    "    FileLink(final_model_file)"
   ]
  }
 ],
 "metadata": {
  "interpreter": {
   "hash": "1a665fa99de423533c7bb12d3895f32d4e7f0ff4cffb69dd14bc2ab1d9349c2a"
  },
  "kernelspec": {
   "display_name": "Python 3.7.6 64-bit ('ceed': conda)",
   "name": "python3"
  },
  "language_info": {
   "codemirror_mode": {
    "name": "ipython",
    "version": 3
   },
   "file_extension": ".py",
   "mimetype": "text/x-python",
   "name": "python",
   "nbconvert_exporter": "python",
   "pygments_lexer": "ipython3",
   "version": "3.7.6"
  }
 },
 "nbformat": 4,
 "nbformat_minor": 5
}