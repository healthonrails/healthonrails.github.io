{
 "cells": [
  {
   "cell_type": "markdown",
   "metadata": {
    "id": "mlCWlQ2pTc88"
   },
   "source": [
    "<a href=\"https://colab.research.google.com/github/healthonrails/annolid/blob/main/docs/tutorials/Annolid_on_Detectron2_Tutorial.ipynb\" target=\"_blank\"><img src=\"https://colab.research.google.com/assets/colab-badge.svg\" alt=\"Open In Colab\"/></a>"
   ]
  },
  {
   "cell_type": "markdown",
   "metadata": {
    "id": "QHnVupBBn9eR"
   },
   "source": [
    "# Annolid on Detectron2 Tutorial 1 : Introduction to Detectron2\n",
    "\n",
    "<img src=\"https://dl.fbaipublicfiles.com/detectron2/Detectron2-Logo-Horz.png\" width=\"500\">\n",
    "\n",
    "Welcome to Annolid on detectron2! This is modified from the official colab tutorial of detectron2. Here, we will go through some basics usage of detectron2, including the following:\n",
    "* Run inference on images or videos, with an existing detectron2 model\n",
    "* Train a detectron2 model on a new dataset\n",
    "\n",
    "You can make a copy of this tutorial by \"File -> Open in playground mode\" and play with it yourself. __DO NOT__ request access to this tutorial.\n"
   ]
  },
  {
   "cell_type": "markdown",
   "metadata": {
    "id": "vM54r6jlKTII"
   },
   "source": [
    "# Install detectron2"
   ]
  },
  {
   "cell_type": "code",
   "execution_count": 1,
   "metadata": {},
   "outputs": [],
   "source": [
    "# Is running in colab or in jupyter-notebook\n",
    "try:\n",
    "  import google.colab\n",
    "  IN_COLAB = True\n",
    "except:\n",
    "  IN_COLAB = False"
   ]
  },
  {
   "cell_type": "code",
   "execution_count": 2,
   "metadata": {
    "id": "9_FzH13EjseR"
   },
   "outputs": [
    {
     "name": "stdout",
     "output_type": "stream",
     "text": [
      "Requirement already satisfied: pyyaml==5.3 in /Users/chenyang/miniconda3/envs/ceed/lib/python3.7/site-packages (5.3)\r\n"
     ]
    },
    {
     "name": "stdout",
     "output_type": "stream",
     "text": [
      "\u001b[33mWARNING: You are using pip version 21.3.1; however, version 22.0.4 is available.\r\n",
      "You should consider upgrading via the '/Users/chenyang/miniconda3/envs/ceed/bin/python -m pip install --upgrade pip' command.\u001b[0m\r\n"
     ]
    },
    {
     "name": "stdout",
     "output_type": "stream",
     "text": [
      "torch:  1.9 ; cuda:  1.9.0\n"
     ]
    },
    {
     "name": "stdout",
     "output_type": "stream",
     "text": [
      "Looking in links: https://dl.fbaipublicfiles.com/detectron2/wheels/1.9.0/torch1.9/index.html\r\n",
      "Requirement already satisfied: detectron2 in /Users/chenyang/Desktop/Developer/cpl/annolid/annolid/detectron2 (0.5)\r\n",
      "Requirement already satisfied: Pillow>=7.1 in /Users/chenyang/miniconda3/envs/ceed/lib/python3.7/site-packages (from detectron2) (8.3.1)\r\n"
     ]
    },
    {
     "name": "stdout",
     "output_type": "stream",
     "text": [
      "Requirement already satisfied: matplotlib in /Users/chenyang/miniconda3/envs/ceed/lib/python3.7/site-packages (from detectron2) (3.1.3)\r\n",
      "Requirement already satisfied: pycocotools>=2.0.2 in /Users/chenyang/miniconda3/envs/ceed/lib/python3.7/site-packages (from detectron2) (2.0.2)\r\n",
      "Requirement already satisfied: termcolor>=1.1 in /Users/chenyang/miniconda3/envs/ceed/lib/python3.7/site-packages (from detectron2) (1.1.0)\r\n",
      "Requirement already satisfied: yacs>=0.1.6 in /Users/chenyang/miniconda3/envs/ceed/lib/python3.7/site-packages (from detectron2) (0.1.8)\r\n",
      "Requirement already satisfied: tabulate in /Users/chenyang/miniconda3/envs/ceed/lib/python3.7/site-packages (from detectron2) (0.8.9)\r\n",
      "Requirement already satisfied: cloudpickle in /Users/chenyang/miniconda3/envs/ceed/lib/python3.7/site-packages (from detectron2) (1.3.0)\r\n",
      "Requirement already satisfied: tqdm>4.29.0 in /Users/chenyang/miniconda3/envs/ceed/lib/python3.7/site-packages (from detectron2) (4.43.0)\r\n",
      "Requirement already satisfied: tensorboard in /Users/chenyang/miniconda3/envs/ceed/lib/python3.7/site-packages (from detectron2) (2.3.0)\r\n",
      "Requirement already satisfied: fvcore<0.1.6,>=0.1.5 in /Users/chenyang/miniconda3/envs/ceed/lib/python3.7/site-packages (from detectron2) (0.1.5.post20210804)\r\n",
      "Requirement already satisfied: iopath<0.1.10,>=0.1.7 in /Users/chenyang/miniconda3/envs/ceed/lib/python3.7/site-packages (from detectron2) (0.1.9)\r\n",
      "Requirement already satisfied: future in /Users/chenyang/miniconda3/envs/ceed/lib/python3.7/site-packages (from detectron2) (0.18.2)\r\n",
      "Requirement already satisfied: pydot in /Users/chenyang/miniconda3/envs/ceed/lib/python3.7/site-packages (from detectron2) (1.4.2)\r\n",
      "Requirement already satisfied: omegaconf>=2.1 in /Users/chenyang/miniconda3/envs/ceed/lib/python3.7/site-packages (from detectron2) (2.1.0)\r\n",
      "Requirement already satisfied: hydra-core>=1.1 in /Users/chenyang/miniconda3/envs/ceed/lib/python3.7/site-packages (from detectron2) (1.1.0)\r\n",
      "Requirement already satisfied: black==21.4b2 in /Users/chenyang/miniconda3/envs/ceed/lib/python3.7/site-packages (from detectron2) (21.4b2)\r\n"
     ]
    },
    {
     "name": "stdout",
     "output_type": "stream",
     "text": [
      "Requirement already satisfied: toml>=0.10.1 in /Users/chenyang/miniconda3/envs/ceed/lib/python3.7/site-packages (from black==21.4b2->detectron2) (0.10.1)\r\n",
      "Requirement already satisfied: regex>=2020.1.8 in /Users/chenyang/miniconda3/envs/ceed/lib/python3.7/site-packages (from black==21.4b2->detectron2) (2021.8.3)\r\n",
      "Requirement already satisfied: click>=7.1.2 in /Users/chenyang/miniconda3/envs/ceed/lib/python3.7/site-packages (from black==21.4b2->detectron2) (7.1.2)\r\n",
      "Requirement already satisfied: typing-extensions>=3.7.4 in /Users/chenyang/miniconda3/envs/ceed/lib/python3.7/site-packages (from black==21.4b2->detectron2) (3.7.4.3)\r\n",
      "Requirement already satisfied: typed-ast>=1.4.2 in /Users/chenyang/miniconda3/envs/ceed/lib/python3.7/site-packages (from black==21.4b2->detectron2) (1.4.3)\r\n",
      "Requirement already satisfied: mypy-extensions>=0.4.3 in /Users/chenyang/miniconda3/envs/ceed/lib/python3.7/site-packages (from black==21.4b2->detectron2) (0.4.3)\r\n",
      "Requirement already satisfied: pathspec<1,>=0.8.1 in /Users/chenyang/miniconda3/envs/ceed/lib/python3.7/site-packages (from black==21.4b2->detectron2) (0.9.0)\r\n",
      "Requirement already satisfied: appdirs in /Users/chenyang/miniconda3/envs/ceed/lib/python3.7/site-packages (from black==21.4b2->detectron2) (1.4.4)\r\n",
      "Requirement already satisfied: pyyaml>=5.1 in /Users/chenyang/miniconda3/envs/ceed/lib/python3.7/site-packages (from fvcore<0.1.6,>=0.1.5->detectron2) (5.3)\r\n",
      "Requirement already satisfied: numpy in /Users/chenyang/miniconda3/envs/ceed/lib/python3.7/site-packages (from fvcore<0.1.6,>=0.1.5->detectron2) (1.18.2)\r\n",
      "Requirement already satisfied: antlr4-python3-runtime==4.8 in /Users/chenyang/miniconda3/envs/ceed/lib/python3.7/site-packages (from hydra-core>=1.1->detectron2) (4.8)\r\n",
      "Requirement already satisfied: importlib-resources in /Users/chenyang/miniconda3/envs/ceed/lib/python3.7/site-packages (from hydra-core>=1.1->detectron2) (5.2.2)\r\n"
     ]
    },
    {
     "name": "stdout",
     "output_type": "stream",
     "text": [
      "Requirement already satisfied: portalocker in /Users/chenyang/miniconda3/envs/ceed/lib/python3.7/site-packages (from iopath<0.1.10,>=0.1.7->detectron2) (2.3.0)\r\n",
      "Requirement already satisfied: cython>=0.27.3 in /Users/chenyang/miniconda3/envs/ceed/lib/python3.7/site-packages (from pycocotools>=2.0.2->detectron2) (0.29.16)\r\n",
      "Requirement already satisfied: setuptools>=18.0 in /Users/chenyang/miniconda3/envs/ceed/lib/python3.7/site-packages (from pycocotools>=2.0.2->detectron2) (44.0.0.post20200106)\r\n",
      "Requirement already satisfied: python-dateutil>=2.1 in /Users/chenyang/miniconda3/envs/ceed/lib/python3.7/site-packages (from matplotlib->detectron2) (2.8.1)\r\n",
      "Requirement already satisfied: cycler>=0.10 in /Users/chenyang/miniconda3/envs/ceed/lib/python3.7/site-packages (from matplotlib->detectron2) (0.10.0)\r\n",
      "Requirement already satisfied: kiwisolver>=1.0.1 in /Users/chenyang/miniconda3/envs/ceed/lib/python3.7/site-packages (from matplotlib->detectron2) (1.1.0)\r\n",
      "Requirement already satisfied: pyparsing!=2.0.4,!=2.1.2,!=2.1.6,>=2.0.1 in /Users/chenyang/miniconda3/envs/ceed/lib/python3.7/site-packages (from matplotlib->detectron2) (2.4.6)\r\n"
     ]
    },
    {
     "name": "stdout",
     "output_type": "stream",
     "text": [
      "Requirement already satisfied: werkzeug>=0.11.15 in /Users/chenyang/miniconda3/envs/ceed/lib/python3.7/site-packages (from tensorboard->detectron2) (0.16.0)\r\n",
      "Requirement already satisfied: protobuf>=3.6.0 in /Users/chenyang/miniconda3/envs/ceed/lib/python3.7/site-packages (from tensorboard->detectron2) (3.17.3)\r\n",
      "Requirement already satisfied: markdown>=2.6.8 in /Users/chenyang/miniconda3/envs/ceed/lib/python3.7/site-packages (from tensorboard->detectron2) (3.1.1)\r\n",
      "Requirement already satisfied: google-auth-oauthlib<0.5,>=0.4.1 in /Users/chenyang/miniconda3/envs/ceed/lib/python3.7/site-packages (from tensorboard->detectron2) (0.4.1)\r\n"
     ]
    },
    {
     "name": "stdout",
     "output_type": "stream",
     "text": [
      "Requirement already satisfied: grpcio>=1.24.3 in /Users/chenyang/miniconda3/envs/ceed/lib/python3.7/site-packages (from tensorboard->detectron2) (1.38.1)\r\n",
      "Requirement already satisfied: absl-py>=0.4 in /Users/chenyang/miniconda3/envs/ceed/lib/python3.7/site-packages (from tensorboard->detectron2) (0.9.0)\r\n",
      "Requirement already satisfied: requests<3,>=2.21.0 in /Users/chenyang/miniconda3/envs/ceed/lib/python3.7/site-packages (from tensorboard->detectron2) (2.26.0)\r\n",
      "Requirement already satisfied: wheel>=0.26 in /Users/chenyang/miniconda3/envs/ceed/lib/python3.7/site-packages (from tensorboard->detectron2) (0.34.2)\r\n",
      "Requirement already satisfied: six>=1.10.0 in /Users/chenyang/miniconda3/envs/ceed/lib/python3.7/site-packages (from tensorboard->detectron2) (1.14.0)\r\n",
      "Requirement already satisfied: google-auth<2,>=1.6.3 in /Users/chenyang/miniconda3/envs/ceed/lib/python3.7/site-packages (from tensorboard->detectron2) (1.32.1)\r\n",
      "Requirement already satisfied: tensorboard-plugin-wit>=1.6.0 in /Users/chenyang/miniconda3/envs/ceed/lib/python3.7/site-packages (from tensorboard->detectron2) (1.7.0)\r\n",
      "Requirement already satisfied: pyasn1-modules>=0.2.1 in /Users/chenyang/miniconda3/envs/ceed/lib/python3.7/site-packages (from google-auth<2,>=1.6.3->tensorboard->detectron2) (0.2.8)\r\n",
      "Requirement already satisfied: cachetools<5.0,>=2.0.0 in /Users/chenyang/miniconda3/envs/ceed/lib/python3.7/site-packages (from google-auth<2,>=1.6.3->tensorboard->detectron2) (4.0.0)\r\n"
     ]
    },
    {
     "name": "stdout",
     "output_type": "stream",
     "text": [
      "Requirement already satisfied: rsa<5,>=3.1.4 in /Users/chenyang/miniconda3/envs/ceed/lib/python3.7/site-packages (from google-auth<2,>=1.6.3->tensorboard->detectron2) (4.0)\r\n",
      "Requirement already satisfied: requests-oauthlib>=0.7.0 in /Users/chenyang/miniconda3/envs/ceed/lib/python3.7/site-packages (from google-auth-oauthlib<0.5,>=0.4.1->tensorboard->detectron2) (1.3.0)\r\n"
     ]
    },
    {
     "name": "stdout",
     "output_type": "stream",
     "text": [
      "Requirement already satisfied: urllib3<1.27,>=1.21.1 in /Users/chenyang/miniconda3/envs/ceed/lib/python3.7/site-packages (from requests<3,>=2.21.0->tensorboard->detectron2) (1.25.8)\r\n",
      "Requirement already satisfied: certifi>=2017.4.17 in /Users/chenyang/miniconda3/envs/ceed/lib/python3.7/site-packages (from requests<3,>=2.21.0->tensorboard->detectron2) (2020.6.20)\r\n"
     ]
    },
    {
     "name": "stdout",
     "output_type": "stream",
     "text": [
      "Requirement already satisfied: charset-normalizer~=2.0.0 in /Users/chenyang/miniconda3/envs/ceed/lib/python3.7/site-packages (from requests<3,>=2.21.0->tensorboard->detectron2) (2.0.1)\r\n",
      "Requirement already satisfied: idna<4,>=2.5 in /Users/chenyang/miniconda3/envs/ceed/lib/python3.7/site-packages (from requests<3,>=2.21.0->tensorboard->detectron2) (2.9)\r\n"
     ]
    },
    {
     "name": "stdout",
     "output_type": "stream",
     "text": [
      "Requirement already satisfied: zipp>=3.1.0 in /Users/chenyang/miniconda3/envs/ceed/lib/python3.7/site-packages (from importlib-resources->hydra-core>=1.1->detectron2) (3.5.0)\r\n"
     ]
    },
    {
     "name": "stdout",
     "output_type": "stream",
     "text": [
      "Requirement already satisfied: pyasn1<0.5.0,>=0.4.6 in /Users/chenyang/miniconda3/envs/ceed/lib/python3.7/site-packages (from pyasn1-modules>=0.2.1->google-auth<2,>=1.6.3->tensorboard->detectron2) (0.4.8)\r\n"
     ]
    },
    {
     "name": "stdout",
     "output_type": "stream",
     "text": [
      "Requirement already satisfied: oauthlib>=3.0.0 in /Users/chenyang/miniconda3/envs/ceed/lib/python3.7/site-packages (from requests-oauthlib>=0.7.0->google-auth-oauthlib<0.5,>=0.4.1->tensorboard->detectron2) (3.1.0)\r\n"
     ]
    },
    {
     "name": "stdout",
     "output_type": "stream",
     "text": [
      "\u001b[33mWARNING: You are using pip version 21.3.1; however, version 22.0.4 is available.\r\n",
      "You should consider upgrading via the '/Users/chenyang/miniconda3/envs/ceed/bin/python -m pip install --upgrade pip' command.\u001b[0m\r\n"
     ]
    }
   ],
   "source": [
    "# install dependencies: \n",
    "!pip install pyyaml==5.3\n",
    "import torch, torchvision\n",
    "TORCH_VERSION = \".\".join(torch.__version__.split(\".\")[:2])\n",
    "CUDA_VERSION = torch.__version__.split(\"+\")[-1]\n",
    "print(\"torch: \", TORCH_VERSION, \"; cuda: \", CUDA_VERSION)\n",
    "# Install detectron2 that matches the above pytorch version\n",
    "# See https://detectron2.readthedocs.io/tutorials/install.html for instructions\n",
    "!pip install detectron2 -f https://dl.fbaipublicfiles.com/detectron2/wheels/$CUDA_VERSION/torch$TORCH_VERSION/index.html\n",
    "# If there is not yet a detectron2 release that matches the given torch + CUDA version, you need to install a different pytorch.\n",
    "\n",
    "# exit(0)  # After installation, you may need to \"restart runtime\" in Colab. This line can also restart runtime"
   ]
  },
  {
   "cell_type": "code",
   "execution_count": 3,
   "metadata": {
    "id": "ZyAvNCJMmvFF"
   },
   "outputs": [],
   "source": [
    "# import some common libraries\n",
    "import json\n",
    "import os\n",
    "import cv2\n",
    "import random\n",
    "import glob\n",
    "import numpy as np\n",
    "if IN_COLAB:\n",
    "  from google.colab.patches import cv2_imshow\n",
    "import matplotlib.pyplot as plt\n",
    "%matplotlib inline"
   ]
  },
  {
   "cell_type": "code",
   "execution_count": 4,
   "metadata": {},
   "outputs": [],
   "source": [
    "# Setup detectron2 logger\n",
    "import detectron2\n",
    "from detectron2.utils.logger import setup_logger\n",
    "setup_logger()\n",
    "\n",
    "# import some common detectron2 utilities\n",
    "from detectron2 import model_zoo\n",
    "from detectron2.engine import DefaultPredictor\n",
    "from detectron2.config import get_cfg\n",
    "from detectron2.utils.visualizer import Visualizer\n",
    "from detectron2.data import MetadataCatalog, DatasetCatalog\n"
   ]
  },
  {
   "cell_type": "code",
   "execution_count": 5,
   "metadata": {},
   "outputs": [
    {
     "name": "stdout",
     "output_type": "stream",
     "text": [
      "no gpu\n"
     ]
    }
   ],
   "source": [
    "# is there a gpu\n",
    "if torch.cuda.is_available():\n",
    "    GPU = True\n",
    "    print('gpu available')\n",
    "else:\n",
    "    GPU = False\n",
    "    print('no gpu')"
   ]
  },
  {
   "cell_type": "markdown",
   "metadata": {
    "id": "9GXik0-s9zda"
   },
   "source": [
    "## Upload a labeled dataset.\n",
    "The following code is expecting the dataset in the COCO format to be in a ***.zip*** file. For example: ```sample_dataset.zip``` \\\n"
   ]
  },
  {
   "cell_type": "code",
   "execution_count": 6,
   "metadata": {},
   "outputs": [
    {
     "name": "stdout",
     "output_type": "stream",
     "text": [
      "Requirement already satisfied: gdown in /Users/chenyang/miniconda3/envs/ceed/lib/python3.7/site-packages (4.2.1)\r\n",
      "Requirement already satisfied: filelock in /Users/chenyang/miniconda3/envs/ceed/lib/python3.7/site-packages (from gdown) (3.0.12)\r\n"
     ]
    },
    {
     "name": "stdout",
     "output_type": "stream",
     "text": [
      "Requirement already satisfied: tqdm in /Users/chenyang/miniconda3/envs/ceed/lib/python3.7/site-packages (from gdown) (4.43.0)\r\n",
      "Requirement already satisfied: requests[socks] in /Users/chenyang/miniconda3/envs/ceed/lib/python3.7/site-packages (from gdown) (2.26.0)\r\n",
      "Requirement already satisfied: beautifulsoup4 in /Users/chenyang/miniconda3/envs/ceed/lib/python3.7/site-packages (from gdown) (4.10.0)\r\n",
      "Requirement already satisfied: six in /Users/chenyang/miniconda3/envs/ceed/lib/python3.7/site-packages (from gdown) (1.14.0)\r\n",
      "Requirement already satisfied: soupsieve>1.2 in /Users/chenyang/miniconda3/envs/ceed/lib/python3.7/site-packages (from beautifulsoup4->gdown) (2.3.1)\r\n",
      "Requirement already satisfied: urllib3<1.27,>=1.21.1 in /Users/chenyang/miniconda3/envs/ceed/lib/python3.7/site-packages (from requests[socks]->gdown) (1.25.8)\r\n",
      "Requirement already satisfied: idna<4,>=2.5 in /Users/chenyang/miniconda3/envs/ceed/lib/python3.7/site-packages (from requests[socks]->gdown) (2.9)\r\n",
      "Requirement already satisfied: charset-normalizer~=2.0.0 in /Users/chenyang/miniconda3/envs/ceed/lib/python3.7/site-packages (from requests[socks]->gdown) (2.0.1)\r\n",
      "Requirement already satisfied: certifi>=2017.4.17 in /Users/chenyang/miniconda3/envs/ceed/lib/python3.7/site-packages (from requests[socks]->gdown) (2020.6.20)\r\n",
      "Requirement already satisfied: PySocks!=1.5.7,>=1.5.6 in /Users/chenyang/miniconda3/envs/ceed/lib/python3.7/site-packages (from requests[socks]->gdown) (1.7.1)\r\n"
     ]
    },
    {
     "name": "stdout",
     "output_type": "stream",
     "text": [
      "\u001b[33mWARNING: You are using pip version 21.3.1; however, version 22.0.4 is available.\r\n",
      "You should consider upgrading via the '/Users/chenyang/miniconda3/envs/ceed/bin/python -m pip install --upgrade pip' command.\u001b[0m\r\n"
     ]
    },
    {
     "name": "stdout",
     "output_type": "stream",
     "text": [
      "Downloading...\r\n",
      "From: https://drive.google.com/uc?id=1fUXCLnoJ5SwXg54mj0NBKGzidsV8ALVR\r\n",
      "To: /Users/chenyang/Desktop/Developer/cpl/annolid/book/tutorials/novelctrlk6_8_coco_dataset.zip\r\n",
      "\r",
      "  0%|                                               | 0.00/10.3M [00:00<?, ?B/s]"
     ]
    },
    {
     "name": "stdout",
     "output_type": "stream",
     "text": [
      "\r",
      "  5%|█▉                                     | 524k/10.3M [00:00<00:02, 3.47MB/s]"
     ]
    },
    {
     "name": "stdout",
     "output_type": "stream",
     "text": [
      "\r",
      " 15%|█████▊                                | 1.57M/10.3M [00:00<00:02, 4.12MB/s]"
     ]
    },
    {
     "name": "stdout",
     "output_type": "stream",
     "text": [
      "\r",
      " 25%|█████████▋                            | 2.62M/10.3M [00:00<00:01, 5.00MB/s]"
     ]
    },
    {
     "name": "stdout",
     "output_type": "stream",
     "text": [
      "\r",
      " 36%|█████████████▌                        | 3.67M/10.3M [00:00<00:01, 5.83MB/s]"
     ]
    },
    {
     "name": "stdout",
     "output_type": "stream",
     "text": [
      "\r",
      " 46%|█████████████████▍                    | 4.72M/10.3M [00:00<00:00, 6.61MB/s]"
     ]
    },
    {
     "name": "stdout",
     "output_type": "stream",
     "text": [
      "\r",
      " 56%|█████████████████████▎                | 5.77M/10.3M [00:00<00:00, 7.22MB/s]"
     ]
    },
    {
     "name": "stdout",
     "output_type": "stream",
     "text": [
      "\r",
      " 66%|█████████████████████████             | 6.82M/10.3M [00:00<00:00, 7.47MB/s]"
     ]
    },
    {
     "name": "stdout",
     "output_type": "stream",
     "text": [
      "\r",
      " 76%|████████████████████████████▉         | 7.86M/10.3M [00:00<00:00, 8.04MB/s]"
     ]
    },
    {
     "name": "stdout",
     "output_type": "stream",
     "text": [
      "\r",
      " 86%|████████████████████████████████▊     | 8.91M/10.3M [00:01<00:00, 8.21MB/s]"
     ]
    },
    {
     "name": "stdout",
     "output_type": "stream",
     "text": [
      "\r",
      " 97%|████████████████████████████████████▋ | 9.96M/10.3M [00:01<00:00, 8.32MB/s]"
     ]
    },
    {
     "name": "stdout",
     "output_type": "stream",
     "text": [
      "\r",
      "100%|██████████████████████████████████████| 10.3M/10.3M [00:01<00:00, 8.32MB/s]\r\n"
     ]
    }
   ],
   "source": [
    "!pip install gdown \n",
    "!gdown --id 1fUXCLnoJ5SwXg54mj0NBKGzidsV8ALVR"
   ]
  },
  {
   "cell_type": "code",
   "execution_count": 7,
   "metadata": {},
   "outputs": [],
   "source": [
    "if IN_COLAB:\n",
    "    dataset = '/content/novelctrlk6_8_coco_dataset.zip'\n",
    "else:\n",
    "    dataset = 'novelctrlk6_8_coco_dataset.zip'"
   ]
  },
  {
   "cell_type": "markdown",
   "metadata": {},
   "source": [
    "### Note1: If you want to use your own dataset instead of the demo one, please uncomment and edit the following code.\n",
    "\n",
    "### Note2: please make sure there is no white space in your file path if you encounter file not found issues."
   ]
  },
  {
   "cell_type": "code",
   "execution_count": 8,
   "metadata": {},
   "outputs": [],
   "source": [
    "# if IN_COLAB:\n",
    "#     from google.colab import files\n",
    "#     uploaded = files.upload()\n",
    "# else:\n",
    "#     from ipywidgets import FileUpload\n",
    "#     from IPython.display import display\n",
    "#     !jupyter nbextension enable --py widgetsnbextension\n",
    "#     uploaded = FileUpload()\n",
    "\n",
    "# display(uploaded)"
   ]
  },
  {
   "cell_type": "code",
   "execution_count": 9,
   "metadata": {},
   "outputs": [],
   "source": [
    "# if IN_COLAB:\n",
    "#     dataset =  list(uploaded.keys())[0]\n",
    "# else:\n",
    "#     dataset = list(uploaded.value.keys())[0]\n"
   ]
  },
  {
   "cell_type": "markdown",
   "metadata": {},
   "source": [
    "If your dataset has the same name as the file you uploaded, you do not need to manually input the name (just run the next cells). **Otherwise, you need to replace DATASET_NAME and DATASET_DIR with your own strings like `DATASET_NAME = \"NameOfMyDataset\"` and `DATASETDIR=\"NameOfMyDatasetDirectory\"`**. To do that, uncomment the commented out cell below and replace the strings with the appropriate names"
   ]
  },
  {
   "cell_type": "code",
   "execution_count": 10,
   "metadata": {},
   "outputs": [],
   "source": [
    "# DATASET_NAME = 'NameOfMyDataset' \n",
    "# DATASET_DIR = 'NameOfMyDatasetDirectory'"
   ]
  },
  {
   "cell_type": "code",
   "execution_count": 11,
   "metadata": {
    "id": "7gD2vEWtmZQ8"
   },
   "outputs": [
    {
     "name": "stdout",
     "output_type": "stream",
     "text": [
      "Archive:  novelctrlk6_8_coco_dataset.zip\r\n",
      "  inflating: ./novelctrlk6_8_coco_dataset/valid/JPEGImages/00001416_41.jpg  \r\n",
      "  inflating: ./novelctrlk6_8_coco_dataset/valid/JPEGImages/00004233_81.jpg  \r\n",
      "  inflating: ./novelctrlk6_8_coco_dataset/valid/JPEGImages/00004515_22.jpg  "
     ]
    },
    {
     "name": "stdout",
     "output_type": "stream",
     "text": [
      "\r\n",
      "  inflating: ./novelctrlk6_8_coco_dataset/valid/JPEGImages/00000636_6.jpg  \r\n",
      "  inflating: ./novelctrlk6_8_coco_dataset/valid/JPEGImages/00006297_11.jpg  \r\n",
      "  inflating: ./novelctrlk6_8_coco_dataset/valid/JPEGImages/00006818_79.jpg  \r\n",
      "  inflating: ./novelctrlk6_8_coco_dataset/valid/JPEGImages/00006056_25.jpg  \r\n",
      "  inflating: ./novelctrlk6_8_coco_dataset/valid/JPEGImages/00006094_12.jpg  \r\n",
      "  inflating: ./novelctrlk6_8_coco_dataset/valid/JPEGImages/00004340_96.jpg  \r\n",
      "  inflating: ./novelctrlk6_8_coco_dataset/valid/JPEGImages/00000557_50.jpg  \r\n",
      "  inflating: ./novelctrlk6_8_coco_dataset/valid/JPEGImages/00000979_94.jpg  \r\n",
      "  inflating: ./novelctrlk6_8_coco_dataset/valid/JPEGImages/00005018_19.jpg  \r\n",
      "  inflating: ./novelctrlk6_8_coco_dataset/valid/JPEGImages/00001257_80.jpg  \r\n",
      "  inflating: ./novelctrlk6_8_coco_dataset/valid/JPEGImages/00004335_26.jpg  \r\n",
      "  inflating: ./novelctrlk6_8_coco_dataset/valid/JPEGImages/00004804_39.jpg  \r\n",
      "  inflating: ./novelctrlk6_8_coco_dataset/valid/JPEGImages/00006396_43.jpg  \r\n",
      "  inflating: ./novelctrlk6_8_coco_dataset/valid/JPEGImages/00006993_65.jpg  \r\n",
      "  inflating: ./novelctrlk6_8_coco_dataset/valid/JPEGImages/00000865_92.jpg  \r\n",
      "  inflating: ./novelctrlk6_8_coco_dataset/valid/JPEGImages/00003114_35.jpg  \r\n",
      "  inflating: ./novelctrlk6_8_coco_dataset/valid/JPEGImages/00001918_2.jpg  \r\n",
      "  inflating: ./novelctrlk6_8_coco_dataset/valid/JPEGImages/00004935_56.jpg  \r\n",
      "  inflating: ./novelctrlk6_8_coco_dataset/valid/JPEGImages/00006959_78.jpg  \r\n",
      "  inflating: ./novelctrlk6_8_coco_dataset/valid/JPEGImages/00005216_14.jpg  \r\n",
      "  inflating: ./novelctrlk6_8_coco_dataset/valid/JPEGImages/00003092_22.jpg  \r\n",
      "  inflating: ./novelctrlk6_8_coco_dataset/valid/JPEGImages/00001528_44.jpg  "
     ]
    },
    {
     "name": "stdout",
     "output_type": "stream",
     "text": [
      "\r\n",
      "  inflating: ./novelctrlk6_8_coco_dataset/valid/JPEGImages/00003208_12.jpg  \r\n",
      "  inflating: ./novelctrlk6_8_coco_dataset/valid/JPEGImages/00004966_35.jpg  \r\n",
      "  inflating: ./novelctrlk6_8_coco_dataset/valid/JPEGImages/00004517_47.jpg  \r\n",
      "  inflating: ./novelctrlk6_8_coco_dataset/valid/JPEGImages/00004769_82.jpg  \r\n",
      "  inflating: ./novelctrlk6_8_coco_dataset/valid/JPEGImages/00004767_87.jpg  \r\n",
      "  inflating: ./novelctrlk6_8_coco_dataset/valid/JPEGImages/00000378_62.jpg  \r\n",
      "  inflating: ./novelctrlk6_8_coco_dataset/valid/JPEGImages/00006563_31.jpg  \r\n",
      "  inflating: ./novelctrlk6_8_coco_dataset/valid/JPEGImages/00001476_48.jpg  \r\n",
      "  inflating: ./novelctrlk6_8_coco_dataset/valid/JPEGImages/00004555_67.jpg  \r\n",
      "  inflating: ./novelctrlk6_8_coco_dataset/valid/JPEGImages/00003070_62.jpg  \r\n",
      "  inflating: ./novelctrlk6_8_coco_dataset/valid/JPEGImages/00005007_38.jpg  \r\n",
      "  inflating: ./novelctrlk6_8_coco_dataset/valid/JPEGImages/00003342_41.jpg  \r\n",
      "  inflating: ./novelctrlk6_8_coco_dataset/valid/JPEGImages/00002267_91.jpg  \r\n",
      "  inflating: ./novelctrlk6_8_coco_dataset/valid/JPEGImages/00002248_99.jpg  \r\n",
      "  inflating: ./novelctrlk6_8_coco_dataset/valid/JPEGImages/00000702_46.jpg  \r\n",
      "  inflating: ./novelctrlk6_8_coco_dataset/valid/JPEGImages/00003237_15.jpg  \r\n",
      "  inflating: ./novelctrlk6_8_coco_dataset/valid/JPEGImages/00002412_96.jpg  \r\n",
      "  inflating: ./novelctrlk6_8_coco_dataset/valid/JPEGImages/00001322_73.jpg  \r\n",
      "  inflating: ./novelctrlk6_8_coco_dataset/valid/JPEGImages/00002328_97.jpg  "
     ]
    },
    {
     "name": "stdout",
     "output_type": "stream",
     "text": [
      "\r\n",
      "  inflating: ./novelctrlk6_8_coco_dataset/valid/JPEGImages/00004312_85.jpg  \r\n",
      "  inflating: ./novelctrlk6_8_coco_dataset/valid/JPEGImages/00004443_46.jpg  \r\n",
      "  inflating: ./novelctrlk6_8_coco_dataset/valid/JPEGImages/00003783_81.jpg  \r\n",
      "  inflating: ./novelctrlk6_8_coco_dataset/valid/JPEGImages/00000779_3.jpg  \r\n",
      "  inflating: ./novelctrlk6_8_coco_dataset/valid/JPEGImages/00002654_1.jpg  \r\n",
      "  inflating: ./novelctrlk6_8_coco_dataset/valid/JPEGImages/00004685_90.jpg  \r\n",
      "  inflating: ./novelctrlk6_8_coco_dataset/valid/JPEGImages/00004098_59.jpg  \r\n",
      "  inflating: ./novelctrlk6_8_coco_dataset/valid/JPEGImages/00006538_99.jpg  \r\n",
      "  inflating: ./novelctrlk6_8_coco_dataset/valid/JPEGImages/00006832_71.jpg  \r\n",
      "  inflating: ./novelctrlk6_8_coco_dataset/valid/JPEGImages/00007024_26.jpg  \r\n",
      "  inflating: ./novelctrlk6_8_coco_dataset/valid/JPEGImages/00005772_51.jpg  \r\n",
      "  inflating: ./novelctrlk6_8_coco_dataset/valid/JPEGImages/00006330_76.jpg  \r\n",
      "  inflating: ./novelctrlk6_8_coco_dataset/valid/JPEGImages/00000871_10.jpg  \r\n",
      "  inflating: ./novelctrlk6_8_coco_dataset/valid/JPEGImages/00003034_64.jpg  \r\n",
      "  inflating: ./novelctrlk6_8_coco_dataset/valid/JPEGImages/00004539_89.jpg  \r\n",
      "  inflating: ./novelctrlk6_8_coco_dataset/valid/JPEGImages/00005788_49.jpg  \r\n",
      "  inflating: ./novelctrlk6_8_coco_dataset/valid/annotations.json  \r\n",
      "  inflating: ./novelctrlk6_8_coco_dataset/.DS_Store  \r\n",
      "  inflating: ./__MACOSX/novelctrlk6_8_coco_dataset/._.DS_Store  \r\n",
      "  inflating: ./novelctrlk6_8_coco_dataset/data.yaml  \r\n",
      "  inflating: ./novelctrlk6_8_coco_dataset/train/.DS_Store  \r\n"
     ]
    },
    {
     "name": "stdout",
     "output_type": "stream",
     "text": [
      "  inflating: ./__MACOSX/novelctrlk6_8_coco_dataset/train/._.DS_Store  \r\n",
      "  inflating: ./novelctrlk6_8_coco_dataset/train/JPEGImages/00001466_29.jpg  \r\n",
      "  inflating: ./novelctrlk6_8_coco_dataset/train/JPEGImages/00006804_57.jpg  \r\n",
      "  inflating: ./novelctrlk6_8_coco_dataset/train/JPEGImages/00007044_50.jpg  \r\n",
      "  inflating: ./novelctrlk6_8_coco_dataset/train/JPEGImages/00006232_55.jpg  \r\n",
      "  inflating: ./novelctrlk6_8_coco_dataset/train/JPEGImages/00000759_28.jpg  \r\n",
      "  inflating: ./novelctrlk6_8_coco_dataset/train/JPEGImages/00003680_32.jpg  \r\n",
      "  inflating: ./novelctrlk6_8_coco_dataset/train/JPEGImages/00004441_88.jpg  \r\n",
      "  inflating: ./novelctrlk6_8_coco_dataset/train/JPEGImages/00005090_94.jpg  \r\n",
      "  inflating: ./novelctrlk6_8_coco_dataset/train/JPEGImages/00002476_27.jpg  \r\n",
      "  inflating: ./novelctrlk6_8_coco_dataset/train/JPEGImages/00000965_42.jpg  \r\n",
      "  inflating: ./novelctrlk6_8_coco_dataset/train/JPEGImages/00001652_55.jpg  \r\n",
      "  inflating: ./novelctrlk6_8_coco_dataset/train/JPEGImages/00002000_18.jpg  \r\n",
      "  inflating: ./novelctrlk6_8_coco_dataset/train/JPEGImages/00002333_0.jpg  \r\n",
      "  inflating: ./novelctrlk6_8_coco_dataset/train/JPEGImages/00005752_39.jpg  \r\n",
      "  inflating: ./novelctrlk6_8_coco_dataset/train/JPEGImages/00006670_0.jpg  \r\n",
      "  inflating: ./novelctrlk6_8_coco_dataset/train/JPEGImages/00005763_18.jpg  \r\n",
      "  inflating: ./novelctrlk6_8_coco_dataset/train/JPEGImages/00004469_75.jpg  \r\n",
      "  inflating: ./novelctrlk6_8_coco_dataset/train/JPEGImages/00005566_43.jpg  "
     ]
    },
    {
     "name": "stdout",
     "output_type": "stream",
     "text": [
      "\r\n",
      "  inflating: ./novelctrlk6_8_coco_dataset/train/JPEGImages/00004336_74.jpg  \r\n",
      "  inflating: ./novelctrlk6_8_coco_dataset/train/JPEGImages/00006574_88.jpg  \r\n",
      "  inflating: ./novelctrlk6_8_coco_dataset/train/JPEGImages/00001922_1.jpg  \r\n",
      "  inflating: ./novelctrlk6_8_coco_dataset/train/JPEGImages/00001795_5.jpg  \r\n",
      "  inflating: ./novelctrlk6_8_coco_dataset/train/JPEGImages/00005755_34.jpg  \r\n",
      "  inflating: ./novelctrlk6_8_coco_dataset/train/JPEGImages/00003576_54.jpg  \r\n",
      "  inflating: ./novelctrlk6_8_coco_dataset/train/JPEGImages/00002647_78.jpg  "
     ]
    },
    {
     "name": "stdout",
     "output_type": "stream",
     "text": [
      "\r\n",
      "  inflating: ./novelctrlk6_8_coco_dataset/train/JPEGImages/00004295_47.jpg  \r\n"
     ]
    },
    {
     "name": "stdout",
     "output_type": "stream",
     "text": [
      "  inflating: ./novelctrlk6_8_coco_dataset/train/JPEGImages/00003667_56.jpg  \r\n",
      "  inflating: ./novelctrlk6_8_coco_dataset/train/JPEGImages/00006131_85.jpg  \r\n",
      "  inflating: ./novelctrlk6_8_coco_dataset/train/JPEGImages/00000311_77.jpg  \r\n",
      "  inflating: ./novelctrlk6_8_coco_dataset/train/JPEGImages/00000879_40.jpg  \r\n",
      "  inflating: ./novelctrlk6_8_coco_dataset/train/JPEGImages/00002991_7.jpg  \r\n",
      "  inflating: ./novelctrlk6_8_coco_dataset/train/JPEGImages/00000757_5.jpg  \r\n",
      "  inflating: ./novelctrlk6_8_coco_dataset/train/JPEGImages/00004628_68.jpg  \r\n",
      "  inflating: ./novelctrlk6_8_coco_dataset/train/JPEGImages/00004348_33.jpg  \r\n"
     ]
    },
    {
     "name": "stdout",
     "output_type": "stream",
     "text": [
      "  inflating: ./novelctrlk6_8_coco_dataset/train/JPEGImages/00003269_66.jpg  \r\n",
      "  inflating: ./novelctrlk6_8_coco_dataset/train/JPEGImages/00003224_49.jpg  \r\n",
      "  inflating: ./novelctrlk6_8_coco_dataset/train/JPEGImages/00002628_21.jpg  \r\n",
      "  inflating: ./novelctrlk6_8_coco_dataset/train/JPEGImages/00001838_25.jpg  \r\n",
      "  inflating: ./novelctrlk6_8_coco_dataset/train/JPEGImages/00002825_40.jpg  \r\n",
      "  inflating: ./novelctrlk6_8_coco_dataset/train/JPEGImages/00002247_29.jpg  \r\n",
      "  inflating: ./novelctrlk6_8_coco_dataset/train/JPEGImages/00003100_30.jpg  \r\n",
      "  inflating: ./novelctrlk6_8_coco_dataset/train/JPEGImages/00001922_57.jpg  \r\n",
      "  inflating: ./novelctrlk6_8_coco_dataset/train/JPEGImages/00001320_92.jpg  \r\n",
      "  inflating: ./novelctrlk6_8_coco_dataset/train/JPEGImages/00006299_63.jpg  \r\n",
      "  inflating: ./novelctrlk6_8_coco_dataset/train/JPEGImages/00000952_60.jpg  \r\n",
      "  inflating: ./novelctrlk6_8_coco_dataset/train/JPEGImages/00000842_70.jpg  \r\n",
      "  inflating: ./__MACOSX/novelctrlk6_8_coco_dataset/train/JPEGImages/._00000842_70.jpg  \r\n",
      "  inflating: ./novelctrlk6_8_coco_dataset/train/JPEGImages/00002295_32.jpg  \r\n",
      "  inflating: ./novelctrlk6_8_coco_dataset/train/JPEGImages/00004117_59.jpg  "
     ]
    },
    {
     "name": "stdout",
     "output_type": "stream",
     "text": [
      "\r\n",
      "  inflating: ./novelctrlk6_8_coco_dataset/train/JPEGImages/00003976_44.jpg  \r\n",
      "  inflating: ./novelctrlk6_8_coco_dataset/train/JPEGImages/00004032_20.jpg  \r\n",
      "  inflating: ./novelctrlk6_8_coco_dataset/train/JPEGImages/00006212_69.jpg  \r\n",
      "  inflating: ./novelctrlk6_8_coco_dataset/train/JPEGImages/00003134_31.jpg  \r\n",
      "  inflating: ./novelctrlk6_8_coco_dataset/train/JPEGImages/00006169_98.jpg  \r\n",
      "  inflating: ./novelctrlk6_8_coco_dataset/train/JPEGImages/00006830_36.jpg  \r\n",
      "  inflating: ./novelctrlk6_8_coco_dataset/train/JPEGImages/00004570_24.jpg  \r\n",
      "  inflating: ./novelctrlk6_8_coco_dataset/train/JPEGImages/00000735_23.jpg  \r\n",
      "  inflating: ./novelctrlk6_8_coco_dataset/train/JPEGImages/00003905_42.jpg  \r\n",
      "  inflating: ./novelctrlk6_8_coco_dataset/train/JPEGImages/00003012_37.jpg  \r\n",
      "  inflating: ./novelctrlk6_8_coco_dataset/train/JPEGImages/00005456_95.jpg  "
     ]
    },
    {
     "name": "stdout",
     "output_type": "stream",
     "text": [
      "\r\n",
      "  inflating: ./novelctrlk6_8_coco_dataset/train/JPEGImages/00002456_9.jpg  \r\n",
      "  inflating: ./novelctrlk6_8_coco_dataset/train/JPEGImages/00002433_90.jpg  \r\n",
      "  inflating: ./novelctrlk6_8_coco_dataset/train/JPEGImages/00006715_97.jpg  \r\n",
      "  inflating: ./novelctrlk6_8_coco_dataset/train/JPEGImages/00005597_15.jpg  \r\n",
      "  inflating: ./novelctrlk6_8_coco_dataset/train/JPEGImages/00006319_53.jpg  \r\n",
      "  inflating: ./novelctrlk6_8_coco_dataset/train/JPEGImages/00005025_83.jpg  \r\n",
      "  inflating: ./novelctrlk6_8_coco_dataset/train/JPEGImages/00000530_64.jpg  \r\n"
     ]
    },
    {
     "name": "stdout",
     "output_type": "stream",
     "text": [
      "  inflating: ./novelctrlk6_8_coco_dataset/train/JPEGImages/00002362_63.jpg  \r\n",
      "  inflating: ./novelctrlk6_8_coco_dataset/train/JPEGImages/00002311_72.jpg  \r\n",
      "  inflating: ./novelctrlk6_8_coco_dataset/train/JPEGImages/00005068_37.jpg  \r\n",
      "  inflating: ./novelctrlk6_8_coco_dataset/train/JPEGImages/00006353_11.jpg  \r\n",
      "  inflating: ./novelctrlk6_8_coco_dataset/train/JPEGImages/00005056_91.jpg  \r\n",
      "  inflating: ./novelctrlk6_8_coco_dataset/train/JPEGImages/00000970_34.jpg  \r\n",
      "  inflating: ./novelctrlk6_8_coco_dataset/train/JPEGImages/00002577_24.jpg  \r\n"
     ]
    },
    {
     "name": "stdout",
     "output_type": "stream",
     "text": [
      "  inflating: ./novelctrlk6_8_coco_dataset/train/JPEGImages/00006601_16.jpg  \r\n",
      "  inflating: ./novelctrlk6_8_coco_dataset/train/JPEGImages/00000652_65.jpg  \r\n",
      "  inflating: ./novelctrlk6_8_coco_dataset/train/JPEGImages/00002639_95.jpg  \r\n",
      "  inflating: ./novelctrlk6_8_coco_dataset/train/JPEGImages/00005953_8.jpg  "
     ]
    },
    {
     "name": "stdout",
     "output_type": "stream",
     "text": [
      "\r\n",
      "  inflating: ./novelctrlk6_8_coco_dataset/train/JPEGImages/00006000_27.jpg  \r\n",
      "  inflating: ./novelctrlk6_8_coco_dataset/train/JPEGImages/00005700_89.jpg  \r\n",
      "  inflating: ./novelctrlk6_8_coco_dataset/train/JPEGImages/00004672_51.jpg  \r\n",
      "  inflating: ./novelctrlk6_8_coco_dataset/train/JPEGImages/00004062_19.jpg  \r\n",
      "  inflating: ./novelctrlk6_8_coco_dataset/train/JPEGImages/00005246_28.jpg  \r\n",
      "  inflating: ./novelctrlk6_8_coco_dataset/train/JPEGImages/00005154_53.jpg  \r\n",
      "  inflating: ./novelctrlk6_8_coco_dataset/train/JPEGImages/00005584_93.jpg  \r\n",
      "  inflating: ./novelctrlk6_8_coco_dataset/train/JPEGImages/00003834_80.jpg  \r\n"
     ]
    },
    {
     "name": "stdout",
     "output_type": "stream",
     "text": [
      "  inflating: ./novelctrlk6_8_coco_dataset/train/JPEGImages/00004711_6.jpg  \r\n",
      "  inflating: ./novelctrlk6_8_coco_dataset/train/JPEGImages/00006038_20.jpg  \r\n",
      "  inflating: ./novelctrlk6_8_coco_dataset/train/JPEGImages/00006373_2.jpg  \r\n",
      "  inflating: ./novelctrlk6_8_coco_dataset/train/JPEGImages/00006470_84.jpg  \r\n",
      "  inflating: ./novelctrlk6_8_coco_dataset/train/JPEGImages/00003956_16.jpg  \r\n",
      "  inflating: ./novelctrlk6_8_coco_dataset/train/JPEGImages/00002625_79.jpg  \r\n",
      "  inflating: ./novelctrlk6_8_coco_dataset/train/JPEGImages/00006270_45.jpg  \r\n",
      "  inflating: ./novelctrlk6_8_coco_dataset/train/JPEGImages/00006521_86.jpg  \r\n",
      "  inflating: ./novelctrlk6_8_coco_dataset/train/JPEGImages/00001999_45.jpg  \r\n",
      "  inflating: ./novelctrlk6_8_coco_dataset/train/JPEGImages/00004081_4.jpg  \r\n",
      "  inflating: ./novelctrlk6_8_coco_dataset/train/JPEGImages/00000776_14.jpg  \r\n",
      "  inflating: ./novelctrlk6_8_coco_dataset/train/JPEGImages/00002546_58.jpg  \r\n",
      "  inflating: ./novelctrlk6_8_coco_dataset/train/JPEGImages/00001181_61.jpg  \r\n",
      "  inflating: ./novelctrlk6_8_coco_dataset/train/JPEGImages/00002226_87.jpg  \r\n"
     ]
    },
    {
     "name": "stdout",
     "output_type": "stream",
     "text": [
      "  inflating: ./novelctrlk6_8_coco_dataset/train/JPEGImages/00001632_33.jpg  \r\n",
      "  inflating: ./novelctrlk6_8_coco_dataset/train/JPEGImages/00006218_71.jpg  \r\n",
      "  inflating: ./novelctrlk6_8_coco_dataset/train/JPEGImages/00005400_9.jpg  \r\n",
      "  inflating: ./novelctrlk6_8_coco_dataset/train/JPEGImages/00001299_86.jpg  \r\n",
      "  inflating: ./novelctrlk6_8_coco_dataset/train/JPEGImages/00002067_75.jpg  \r\n",
      "  inflating: ./novelctrlk6_8_coco_dataset/train/JPEGImages/00006844_69.jpg  \r\n",
      "  inflating: ./novelctrlk6_8_coco_dataset/train/JPEGImages/00001892_72.jpg  \r\n",
      "  inflating: ./novelctrlk6_8_coco_dataset/train/JPEGImages/00001153_93.jpg  \r\n",
      "  inflating: ./novelctrlk6_8_coco_dataset/train/JPEGImages/00001389_82.jpg  "
     ]
    },
    {
     "name": "stdout",
     "output_type": "stream",
     "text": [
      "\r\n",
      "  inflating: ./novelctrlk6_8_coco_dataset/train/JPEGImages/00001439_52.jpg  \r\n",
      "  inflating: ./novelctrlk6_8_coco_dataset/train/JPEGImages/00006367_98.jpg  \r\n",
      "  inflating: ./novelctrlk6_8_coco_dataset/train/JPEGImages/00004018_67.jpg  \r\n",
      "  inflating: ./novelctrlk6_8_coco_dataset/train/JPEGImages/00004535_48.jpg  \r\n",
      "  inflating: ./novelctrlk6_8_coco_dataset/train/JPEGImages/00006361_13.jpg  \r\n",
      "  inflating: ./novelctrlk6_8_coco_dataset/train/JPEGImages/00003167_10.jpg  \r\n",
      "  inflating: ./novelctrlk6_8_coco_dataset/train/JPEGImages/00006832_66.jpg  \r\n",
      "  inflating: ./novelctrlk6_8_coco_dataset/train/JPEGImages/00004956_38.jpg  \r\n",
      "  inflating: ./novelctrlk6_8_coco_dataset/train/JPEGImages/00001980_61.jpg  \r\n",
      "  inflating: ./novelctrlk6_8_coco_dataset/train/JPEGImages/00003364_13.jpg  \r\n",
      "  inflating: ./novelctrlk6_8_coco_dataset/train/annotations.json  "
     ]
    },
    {
     "name": "stdout",
     "output_type": "stream",
     "text": [
      "\r\n"
     ]
    }
   ],
   "source": [
    "if IN_COLAB:\n",
    "    !unzip $dataset -d /content/\n",
    "else:\n",
    "    !unzip -o $dataset -d ."
   ]
  },
  {
   "cell_type": "code",
   "execution_count": 12,
   "metadata": {
    "id": "21PxYqli7Y67"
   },
   "outputs": [],
   "source": [
    "DATASET_NAME = DATASET_DIR = f\"{dataset.replace('.zip','')}\""
   ]
  },
  {
   "cell_type": "markdown",
   "metadata": {
    "id": "Vk4gID50K03a"
   },
   "source": [
    "# Run a pre-trained detectron2 model"
   ]
  },
  {
   "cell_type": "markdown",
   "metadata": {
    "id": "JgKyUL4pngvE"
   },
   "source": [
    "First, we check a random selected image from our training dataset:"
   ]
  },
  {
   "cell_type": "code",
   "execution_count": 13,
   "metadata": {
    "id": "dq9GY37ml1kr"
   },
   "outputs": [
    {
     "data": {
      "image/png": "[encoded data removed]",
      "text/plain": [
       "<Figure size 432x288 with 1 Axes>"
      ]
     },
     "metadata": {
      "filenames": {
       "image/png": "/Users/chenyang/Desktop/Developer/cpl/annolid/book/_build/jupyter_execute/tutorials/Annolid_on_Detectron2_Tutorial_1_Introduction_to_Detectron2_20_0.png"
      },
      "needs_background": "light"
     },
     "output_type": "display_data"
    }
   ],
   "source": [
    "# select and display one random image from the training set\n",
    "img_file = random.choice(glob.glob(f\"{DATASET_DIR}/train/JPEGImages/*.*\"))\n",
    "im = cv2.imread(img_file)\n",
    "if IN_COLAB:\n",
    "    cv2_imshow(im)\n",
    "else:\n",
    "    plt.imshow(im)"
   ]
  },
  {
   "cell_type": "markdown",
   "metadata": {
    "id": "uM1thbN-ntjI"
   },
   "source": [
    "Then, we create a Detectron2 config and a detectron2 `DefaultPredictor` to run inference on this image."
   ]
  },
  {
   "cell_type": "code",
   "execution_count": 14,
   "metadata": {},
   "outputs": [],
   "source": [
    "cfg = get_cfg()"
   ]
  },
  {
   "cell_type": "code",
   "execution_count": 15,
   "metadata": {},
   "outputs": [],
   "source": [
    "if GPU:\n",
    "    pass\n",
    "else:\n",
    "    cfg.MODEL.DEVICE='cpu'"
   ]
  },
  {
   "cell_type": "code",
   "execution_count": 16,
   "metadata": {
    "id": "HUjkwRsOn1O0"
   },
   "outputs": [
    {
     "name": "stderr",
     "output_type": "stream",
     "text": [
      "/Users/chenyang/miniconda3/envs/ceed/lib/python3.7/site-packages/torch/_tensor.py:575: UserWarning: floor_divide is deprecated, and will be removed in a future version of pytorch. It currently rounds toward 0 (like the 'trunc' function NOT 'floor'). This results in incorrect rounding for negative values.\n",
      "To keep the current behavior, use torch.div(a, b, rounding_mode='trunc'), or for actual floor division, use torch.div(a, b, rounding_mode='floor'). (Triggered internally at  ../aten/src/ATen/native/BinaryOps.cpp:467.)\n",
      "  return torch.floor_divide(self, other)\n"
     ]
    },
    {
     "name": "stderr",
     "output_type": "stream",
     "text": [
      "/Users/chenyang/miniconda3/envs/ceed/lib/python3.7/site-packages/torch/nn/functional.py:718: UserWarning: Named tensors and all their associated APIs are an experimental feature and subject to change. Please do not use them for anything important until they are released as stable. (Triggered internally at  ../c10/core/TensorImpl.h:1156.)\n",
      "  return torch.max_pool2d(input, kernel_size, stride, padding, dilation, ceil_mode)\n"
     ]
    }
   ],
   "source": [
    "# add project-specific config (e.g., TensorMask) here if you're not running a model in detectron2's core library\n",
    "cfg.merge_from_file(model_zoo.get_config_file(\"COCO-InstanceSegmentation/mask_rcnn_R_50_FPN_3x.yaml\"))\n",
    "cfg.MODEL.ROI_HEADS.SCORE_THRESH_TEST = 0.1  # set threshold for this model\n",
    "# Find a model from Detectron2's model zoo. You can use the https://dl.fbaipublicfiles... url as well\n",
    "cfg.MODEL.WEIGHTS = model_zoo.get_checkpoint_url(\"COCO-InstanceSegmentation/mask_rcnn_R_50_FPN_3x.yaml\")\n",
    "predictor = DefaultPredictor(cfg)\n",
    "outputs = predictor(im)"
   ]
  },
  {
   "cell_type": "code",
   "execution_count": 17,
   "metadata": {
    "id": "7d3KxiHO_0gb"
   },
   "outputs": [
    {
     "name": "stdout",
     "output_type": "stream",
     "text": [
      "tensor([74, 74, 74,  6, 65, 74, 56])\n",
      "Boxes(tensor([[ 789.0837,  355.7483,  832.7973,  404.3244],\n",
      "        [ 897.8640,  518.6875,  948.0955,  567.7131],\n",
      "        [ 503.4381,  540.9724,  552.1321,  589.3846],\n",
      "        [  77.9433,    0.0000, 1280.0000,  990.5782],\n",
      "        [  18.4392,   92.4405,  166.0070,  996.9576],\n",
      "        [ 595.9822,  370.1490,  641.9594,  414.8199],\n",
      "        [   9.7508,   59.2310,  164.3396,  967.8054]]))\n"
     ]
    }
   ],
   "source": [
    "# look at the outputs. See https://detectron2.readthedocs.io/tutorials/models.html#model-output-format for specification\n",
    "print(outputs[\"instances\"].pred_classes)\n",
    "print(outputs[\"instances\"].pred_boxes)"
   ]
  },
  {
   "cell_type": "code",
   "execution_count": 18,
   "metadata": {
    "id": "eM728kMR0ACL"
   },
   "outputs": [
    {
     "data": {
      "text/plain": [
       "tensor([[[False, False, False,  ..., False, False, False],\n",
       "         [False, False, False,  ..., False, False, False],\n",
       "         [False, False, False,  ..., False, False, False],\n",
       "         ...,\n",
       "         [False, False, False,  ..., False, False, False],\n",
       "         [False, False, False,  ..., False, False, False],\n",
       "         [False, False, False,  ..., False, False, False]],\n",
       "\n",
       "        [[False, False, False,  ..., False, False, False],\n",
       "         [False, False, False,  ..., False, False, False],\n",
       "         [False, False, False,  ..., False, False, False],\n",
       "         ...,\n",
       "         [False, False, False,  ..., False, False, False],\n",
       "         [False, False, False,  ..., False, False, False],\n",
       "         [False, False, False,  ..., False, False, False]],\n",
       "\n",
       "        [[False, False, False,  ..., False, False, False],\n",
       "         [False, False, False,  ..., False, False, False],\n",
       "         [False, False, False,  ..., False, False, False],\n",
       "         ...,\n",
       "         [False, False, False,  ..., False, False, False],\n",
       "         [False, False, False,  ..., False, False, False],\n",
       "         [False, False, False,  ..., False, False, False]],\n",
       "\n",
       "        ...,\n",
       "\n",
       "        [[False, False, False,  ..., False, False, False],\n",
       "         [False, False, False,  ..., False, False, False],\n",
       "         [False, False, False,  ..., False, False, False],\n",
       "         ...,\n",
       "         [False, False, False,  ..., False, False, False],\n",
       "         [False, False, False,  ..., False, False, False],\n",
       "         [False, False, False,  ..., False, False, False]],\n",
       "\n",
       "        [[False, False, False,  ..., False, False, False],\n",
       "         [False, False, False,  ..., False, False, False],\n",
       "         [False, False, False,  ..., False, False, False],\n",
       "         ...,\n",
       "         [False, False, False,  ..., False, False, False],\n",
       "         [False, False, False,  ..., False, False, False],\n",
       "         [False, False, False,  ..., False, False, False]],\n",
       "\n",
       "        [[False, False, False,  ..., False, False, False],\n",
       "         [False, False, False,  ..., False, False, False],\n",
       "         [False, False, False,  ..., False, False, False],\n",
       "         ...,\n",
       "         [False, False, False,  ..., False, False, False],\n",
       "         [False, False, False,  ..., False, False, False],\n",
       "         [False, False, False,  ..., False, False, False]]])"
      ]
     },
     "execution_count": 18,
     "metadata": {},
     "output_type": "execute_result"
    }
   ],
   "source": [
    "outputs['instances'].pred_masks"
   ]
  },
  {
   "cell_type": "code",
   "execution_count": 19,
   "metadata": {
    "id": "NWnR6KMx2KK7"
   },
   "outputs": [
    {
     "data": {
      "text/plain": [
       "Metadata(evaluator_type='coco', image_root='datasets/coco/train2017', json_file='datasets/coco/annotations/instances_train2017.json', name='coco_2017_train', thing_classes=['person', 'bicycle', 'car', 'motorcycle', 'airplane', 'bus', 'train', 'truck', 'boat', 'traffic light', 'fire hydrant', 'stop sign', 'parking meter', 'bench', 'bird', 'cat', 'dog', 'horse', 'sheep', 'cow', 'elephant', 'bear', 'zebra', 'giraffe', 'backpack', 'umbrella', 'handbag', 'tie', 'suitcase', 'frisbee', 'skis', 'snowboard', 'sports ball', 'kite', 'baseball bat', 'baseball glove', 'skateboard', 'surfboard', 'tennis racket', 'bottle', 'wine glass', 'cup', 'fork', 'knife', 'spoon', 'bowl', 'banana', 'apple', 'sandwich', 'orange', 'broccoli', 'carrot', 'hot dog', 'pizza', 'donut', 'cake', 'chair', 'couch', 'potted plant', 'bed', 'dining table', 'toilet', 'tv', 'laptop', 'mouse', 'remote', 'keyboard', 'cell phone', 'microwave', 'oven', 'toaster', 'sink', 'refrigerator', 'book', 'clock', 'vase', 'scissors', 'teddy bear', 'hair drier', 'toothbrush'], thing_colors=[[220, 20, 60], [119, 11, 32], [0, 0, 142], [0, 0, 230], [106, 0, 228], [0, 60, 100], [0, 80, 100], [0, 0, 70], [0, 0, 192], [250, 170, 30], [100, 170, 30], [220, 220, 0], [175, 116, 175], [250, 0, 30], [165, 42, 42], [255, 77, 255], [0, 226, 252], [182, 182, 255], [0, 82, 0], [120, 166, 157], [110, 76, 0], [174, 57, 255], [199, 100, 0], [72, 0, 118], [255, 179, 240], [0, 125, 92], [209, 0, 151], [188, 208, 182], [0, 220, 176], [255, 99, 164], [92, 0, 73], [133, 129, 255], [78, 180, 255], [0, 228, 0], [174, 255, 243], [45, 89, 255], [134, 134, 103], [145, 148, 174], [255, 208, 186], [197, 226, 255], [171, 134, 1], [109, 63, 54], [207, 138, 255], [151, 0, 95], [9, 80, 61], [84, 105, 51], [74, 65, 105], [166, 196, 102], [208, 195, 210], [255, 109, 65], [0, 143, 149], [179, 0, 194], [209, 99, 106], [5, 121, 0], [227, 255, 205], [147, 186, 208], [153, 69, 1], [3, 95, 161], [163, 255, 0], [119, 0, 170], [0, 182, 199], [0, 165, 120], [183, 130, 88], [95, 32, 0], [130, 114, 135], [110, 129, 133], [166, 74, 118], [219, 142, 185], [79, 210, 114], [178, 90, 62], [65, 70, 15], [127, 167, 115], [59, 105, 106], [142, 108, 45], [196, 172, 0], [95, 54, 80], [128, 76, 255], [201, 57, 1], [246, 0, 122], [191, 162, 208]], thing_dataset_id_to_contiguous_id={1: 0, 2: 1, 3: 2, 4: 3, 5: 4, 6: 5, 7: 6, 8: 7, 9: 8, 10: 9, 11: 10, 13: 11, 14: 12, 15: 13, 16: 14, 17: 15, 18: 16, 19: 17, 20: 18, 21: 19, 22: 20, 23: 21, 24: 22, 25: 23, 27: 24, 28: 25, 31: 26, 32: 27, 33: 28, 34: 29, 35: 30, 36: 31, 37: 32, 38: 33, 39: 34, 40: 35, 41: 36, 42: 37, 43: 38, 44: 39, 46: 40, 47: 41, 48: 42, 49: 43, 50: 44, 51: 45, 52: 46, 53: 47, 54: 48, 55: 49, 56: 50, 57: 51, 58: 52, 59: 53, 60: 54, 61: 55, 62: 56, 63: 57, 64: 58, 65: 59, 67: 60, 70: 61, 72: 62, 73: 63, 74: 64, 75: 65, 76: 66, 77: 67, 78: 68, 79: 69, 80: 70, 81: 71, 82: 72, 84: 73, 85: 74, 86: 75, 87: 76, 88: 77, 89: 78, 90: 79})"
      ]
     },
     "execution_count": 19,
     "metadata": {},
     "output_type": "execute_result"
    }
   ],
   "source": [
    "MetadataCatalog.get(cfg.DATASETS.TRAIN[0])"
   ]
  },
  {
   "cell_type": "code",
   "execution_count": 20,
   "metadata": {
    "id": "8IRGo8d0qkgR"
   },
   "outputs": [
    {
     "data": {
      "image/png": "[encoded data removed]",
      "text/plain": [
       "<Figure size 432x288 with 1 Axes>"
      ]
     },
     "metadata": {
      "filenames": {
       "image/png": "/Users/chenyang/Desktop/Developer/cpl/annolid/book/_build/jupyter_execute/tutorials/Annolid_on_Detectron2_Tutorial_1_Introduction_to_Detectron2_28_0.png"
      },
      "needs_background": "light"
     },
     "output_type": "display_data"
    }
   ],
   "source": [
    "# We can use `Visualizer` to draw the predictions on the image.\n",
    "v = Visualizer(im[:, :, ::-1], MetadataCatalog.get(cfg.DATASETS.TRAIN[0]), scale=1.2)\n",
    "out = v.draw_instance_predictions(outputs[\"instances\"].to(\"cpu\"))\n",
    "if IN_COLAB:\n",
    "    cv2_imshow(out.get_image()[:, :, ::-1])\n",
    "else:\n",
    "    plt.imshow(out.get_image()[:, :, ::-1])"
   ]
  },
  {
   "cell_type": "markdown",
   "metadata": {},
   "source": [
    "As we can see, the network doesn't detect what we want. That is expected as we have not fine-tuned the network with our custom dataset. We are going to do that in the next steps."
   ]
  }
 ],
 "metadata": {
  "accelerator": "GPU",
  "colab": {
   "collapsed_sections": [],
   "name": "Annolid of Detectron2 Tutorial.ipynb",
   "provenance": []
  },
  "interpreter": {
   "hash": "1a665fa99de423533c7bb12d3895f32d4e7f0ff4cffb69dd14bc2ab1d9349c2a"
  },
  "kernelspec": {
   "display_name": "Python 3.7.6 64-bit ('ceed': conda)",
   "name": "python3"
  },
  "language_info": {
   "codemirror_mode": {
    "name": "ipython",
    "version": 3
   },
   "file_extension": ".py",
   "mimetype": "text/x-python",
   "name": "python",
   "nbconvert_exporter": "python",
   "pygments_lexer": "ipython3",
   "version": "3.7.6"
  }
 },
 "nbformat": 4,
 "nbformat_minor": 2
}