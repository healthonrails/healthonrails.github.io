{
  "nbformat": 4,
  "nbformat_minor": 0,
  "metadata": {
    "colab": {
      "name": "Annolid_post_processing_distances.ipynb",
      "provenance": [],
      "collapsed_sections": []
    },
    "kernelspec": {
      "name": "python3",
      "display_name": "Python 3"
    },
    "language_info": {
      "name": "python"
    }
  },
  "cells": [
    {
      "cell_type": "markdown",
      "source": [
        "<a href=\"https://colab.research.google.com/github/healthonrails/annolid/blob/main/docs/tutorials/Annolid_post_processing_distances.ipynb\" target=\"_blank\"><img src=\"https://colab.research.google.com/assets/colab-badge.svg\" alt=\"Open In Colab\"/></a>"
      ],
      "metadata": {
        "id": "lyy2TrvB_bck"
      }
    },
    {
      "cell_type": "markdown",
      "source": [
        "## Calucate distances for a pair of instances in the same frame or the same instance across frames"
      ],
      "metadata": {
        "id": "GGbgnKlW_KuL"
      }
    },
    {
      "cell_type": "code",
      "execution_count": null,
      "metadata": {
        "id": "42_T4PR3kKBB"
      },
      "outputs": [],
      "source": [
        "import pandas as pd\n",
        "import numpy as np\n",
        "from google.colab import data_table"
      ]
    },
    {
      "cell_type": "code",
      "source": [
        "!pip install gradio"
      ],
      "metadata": {
        "id": "YwXnZ9REpJhu"
      },
      "execution_count": null,
      "outputs": []
    },
    {
      "cell_type": "code",
      "source": [
        "import gradio as gr"
      ],
      "metadata": {
        "id": "4o7BdVrYpTpC"
      },
      "execution_count": null,
      "outputs": []
    },
    {
      "cell_type": "code",
      "source": [
        "data_table.enable_dataframe_formatter()"
      ],
      "metadata": {
        "id": "bo5do0ofk13h"
      },
      "execution_count": null,
      "outputs": []
    },
    {
      "cell_type": "code",
      "source": [
        "CSV_FILE = '/content/Nov2_pre_Tank1_Tank2_corrected_116_key_frames_coco_dataset_Nov2_pre_Tank1_Tank2_mask_rcnn_tracking_results_with_segmenation.csv'"
      ],
      "metadata": {
        "id": "aYdRn8L_kUCv"
      },
      "execution_count": null,
      "outputs": []
    },
    {
      "cell_type": "code",
      "source": [
        "df = pd.read_csv(CSV_FILE)"
      ],
      "metadata": {
        "id": "1rbhNyrMkON6"
      },
      "execution_count": null,
      "outputs": []
    },
    {
      "cell_type": "code",
      "source": [
        "df.head()"
      ],
      "metadata": {
        "id": "KixXR8GYkoeo"
      },
      "execution_count": null,
      "outputs": []
    },
    {
      "cell_type": "markdown",
      "source": [
        "## Caculate the distance of a pair of instances in a given frame\n",
        "\n",
        "---"
      ],
      "metadata": {
        "id": "DDv545lblmG2"
      }
    },
    {
      "cell_type": "code",
      "source": [
        "def paired_distance(frame_number,\n",
        "                    this_instance='Female_98',\n",
        "                    other_instance='Male_109'):\n",
        "    df_dis = df[df[\"frame_number\"]==frame_number][['cx','cy','instance_name']]\n",
        "    df_this = df_dis[df_dis.instance_name == this_instance]\n",
        "    df_other = df_dis[df_dis.instance_name == other_instance]\n",
        "    try:\n",
        "      dist = np.linalg.norm(df_this[['cx','cy']].values-df_other[['cx','cy']].values)\n",
        "    except:\n",
        "      dist = None\n",
        "\n",
        "\n",
        "    return dist"
      ],
      "metadata": {
        "id": "Avjf9-6jk-0K"
      },
      "execution_count": null,
      "outputs": []
    },
    {
      "cell_type": "code",
      "source": [
        "paired_distance(0,'Female_98','Male_109')"
      ],
      "metadata": {
        "id": "4xvmtCNUlqPp"
      },
      "execution_count": null,
      "outputs": []
    },
    {
      "cell_type": "code",
      "source": [
        "instance_names = list(df.instance_name.unique())"
      ],
      "metadata": {
        "id": "3jDdZwwjskuG"
      },
      "execution_count": null,
      "outputs": []
    },
    {
      "cell_type": "code",
      "source": [
        "iface = gr.Interface(paired_distance,\n",
        "                     [\n",
        "                         gr.inputs.Number(),\n",
        "                         gr.inputs.Dropdown(instance_names),\n",
        "                         gr.inputs.Dropdown(instance_names),\n",
        "\n",
        "                     ],\n",
        "                     [\n",
        "                         gr.outputs.Label(label=\"Paired Distance\"),\n",
        "                     ]\n",
        "                     )\n",
        "iface.launch()"
      ],
      "metadata": {
        "id": "BSg6qVAtp5YX"
      },
      "execution_count": null,
      "outputs": []
    },
    {
      "cell_type": "markdown",
      "source": [
        "## Calculate the distance of the instance from the previous frame to the current frame"
      ],
      "metadata": {
        "id": "cK8W0qrNmlCl"
      }
    },
    {
      "cell_type": "code",
      "source": [
        "def instance_distance_between_frame(frame_number,\n",
        "                                    instance_name='Female_86'):\n",
        "    if frame_number < 1:\n",
        "      return 0\n",
        "    previous_frame_number = frame_number - 1\n",
        "    df_dis = df[df[\"frame_number\"]==frame_number][['cx','cy','instance_name']]\n",
        "    df_dis_prev = df[df[\"frame_number\"]==previous_frame_number][['cx','cy','instance_name']]\n",
        "    df_dis = df_dis[df_dis.instance_name == instance_name]\n",
        "    df_dis_prev = df_dis_prev[df_dis_prev.instance_name == instance_name]\n",
        "\n",
        "    try:\n",
        "      dist = np.linalg.norm(df_dis[['cx','cy']].values-df_dis_prev[['cx','cy']].values)\n",
        "    except:\n",
        "      dist = None\n",
        "    \n",
        "    return dist\n",
        "    "
      ],
      "metadata": {
        "id": "HjsP2sxFmB9i"
      },
      "execution_count": null,
      "outputs": []
    },
    {
      "cell_type": "code",
      "source": [
        "df['dist_from_previous_frame_female_86'] = df.frame_number.apply(instance_distance_between_frame,instance_name='Female_86')"
      ],
      "metadata": {
        "id": "Xzes-ShfmqHa"
      },
      "execution_count": null,
      "outputs": []
    },
    {
      "cell_type": "code",
      "source": [
        "df['dist_from_previous_frame_female_86'].describe()"
      ],
      "metadata": {
        "id": "GOxkT5FbCf_d"
      },
      "execution_count": null,
      "outputs": []
    },
    {
      "cell_type": "markdown",
      "source": [
        "## The total distance traveled for instance female_86 in in pixels"
      ],
      "metadata": {
        "id": "jVJ9YHznnBkj"
      }
    },
    {
      "cell_type": "code",
      "source": [
        "df['dist_from_previous_frame_female_86'].sum()"
      ],
      "metadata": {
        "id": "CTFCNUvSmtu7"
      },
      "execution_count": null,
      "outputs": []
    },
    {
      "cell_type": "code",
      "source": [
        "df['dist_from_previous_frame_male_109']= df.frame_number.apply(instance_distance_between_frame, instance_name='Male_109')"
      ],
      "metadata": {
        "id": "tBNYddKADHZ_"
      },
      "execution_count": null,
      "outputs": []
    },
    {
      "cell_type": "code",
      "source": [
        "df['dist_from_previous_frame_male_109'].sum()"
      ],
      "metadata": {
        "id": "ng9WyC89FK89"
      },
      "execution_count": null,
      "outputs": []
    },
    {
      "cell_type": "code",
      "source": [
        "df['dist_from_previous_frame_female_98']= df.frame_number.apply(instance_distance_between_frame, instance_name='Female_98')"
      ],
      "metadata": {
        "id": "2uvk_bHnFXY9"
      },
      "execution_count": null,
      "outputs": []
    },
    {
      "cell_type": "code",
      "source": [
        "df['dist_from_previous_frame_female_98'].sum()"
      ],
      "metadata": {
        "id": "-MjibTPIHTIZ"
      },
      "execution_count": null,
      "outputs": []
    },
    {
      "cell_type": "code",
      "source": [
        "import plotly.express as px\n",
        "import plotly.graph_objects as go"
      ],
      "metadata": {
        "id": "XKhGG8R3n9Tx"
      },
      "execution_count": null,
      "outputs": []
    },
    {
      "cell_type": "code",
      "source": [
        "\n",
        "fig = px.line(x=df.frame_number, y=df.dist_from_previous_frame_female_86, labels={'x':'frame_number', 'y':'dist from previous frame female_86'})\n",
        "fig.show()"
      ],
      "metadata": {
        "id": "Yx9ufLOqnFXu"
      },
      "execution_count": null,
      "outputs": []
    },
    {
      "cell_type": "markdown",
      "source": [
        "## Distance between two instances e.g. female_98 and male_109 in pixels"
      ],
      "metadata": {
        "id": "CLW3u9FDyBGL"
      }
    },
    {
      "cell_type": "code",
      "source": [
        "df['dist_frog__female_98_male_109'] = df.frame_number.apply(paired_distance)"
      ],
      "metadata": {
        "id": "eDyvAcrwyBiJ"
      },
      "execution_count": null,
      "outputs": []
    },
    {
      "cell_type": "code",
      "source": [
        "\n",
        "fig = px.line(x=df.frame_number, y=df.dist_frog__female_98_male_109, labels={'x':'frame_number', 'y':'distance between frog male in tank 2 to frog female in tank 2'})\n",
        "fig.show()"
      ],
      "metadata": {
        "id": "aSPX55XNyHxH"
      },
      "execution_count": null,
      "outputs": []
    }
  ]
}