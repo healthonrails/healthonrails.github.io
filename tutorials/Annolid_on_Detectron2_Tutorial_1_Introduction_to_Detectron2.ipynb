{
 "cells": [
  {
   "cell_type": "markdown",
   "metadata": {
    "id": "mlCWlQ2pTc88"
   },
   "source": [
    "<a href=\"https://colab.research.google.com/github/healthonrails/annolid/blob/main/docs/tutorials/Annolid_on_Detectron2_Tutorial.ipynb\" target=\"_blank\"><img src=\"https://colab.research.google.com/assets/colab-badge.svg\" alt=\"Open In Colab\"/></a>"
   ]
  },
  {
   "cell_type": "markdown",
   "metadata": {
    "id": "QHnVupBBn9eR"
   },
   "source": [
    "# Annolid on Detectron2 Tutorial 1 : Introduction to Detectron2\n",
    "\n",
    "<img src=\"https://dl.fbaipublicfiles.com/detectron2/Detectron2-Logo-Horz.png\" width=\"500\">\n",
    "\n",
    "Welcome to Annolid on detectron2! This is modified from the official colab tutorial of detectron2. Here, we will go through some basics usage of detectron2, including the following:\n",
    "* Run inference on images or videos, with an existing detectron2 model\n",
    "* Train a detectron2 model on a new dataset\n",
    "\n",
    "You can make a copy of this tutorial by \"File -> Open in playground mode\" and play with it yourself. __DO NOT__ request access to this tutorial.\n"
   ]
  },
  {
   "cell_type": "markdown",
   "metadata": {
    "id": "vM54r6jlKTII"
   },
   "source": [
    "# Install detectron2"
   ]
  },
  {
   "cell_type": "code",
   "execution_count": 1,
   "metadata": {},
   "outputs": [],
   "source": [
    "# Is running in colab or in jupyter-notebook\n",
    "try:\n",
    "  import google.colab\n",
    "  IN_COLAB = True\n",
    "except:\n",
    "  IN_COLAB = False"
   ]
  },
  {
   "cell_type": "code",
   "execution_count": 2,
   "metadata": {
    "id": "9_FzH13EjseR"
   },
   "outputs": [
    {
     "name": "stdout",
     "output_type": "stream",
     "text": [
      "Requirement already satisfied: pyyaml==5.3 in /home/jeremy/anaconda3/lib/python3.9/site-packages (5.3)\n",
      "torch:  1.10 ; cuda:  cu102\n",
      "Looking in links: https://dl.fbaipublicfiles.com/detectron2/wheels/cu102/torch1.10/index.html\n",
      "Requirement already satisfied: detectron2 in /home/jeremy/anaconda3/lib/python3.9/site-packages (0.6+cu102)\n",
      "Requirement already satisfied: pycocotools>=2.0.2 in /home/jeremy/anaconda3/lib/python3.9/site-packages (from detectron2) (2.0.3)\n",
      "Requirement already satisfied: Pillow>=7.1 in /home/jeremy/anaconda3/lib/python3.9/site-packages (from detectron2) (8.4.0)\n",
      "Requirement already satisfied: tqdm>4.29.0 in /home/jeremy/anaconda3/lib/python3.9/site-packages (from detectron2) (4.62.3)\n",
      "Requirement already satisfied: omegaconf>=2.1 in /home/jeremy/anaconda3/lib/python3.9/site-packages (from detectron2) (2.1.1)\n",
      "Requirement already satisfied: hydra-core>=1.1 in /home/jeremy/anaconda3/lib/python3.9/site-packages (from detectron2) (1.1.1)\n",
      "Requirement already satisfied: iopath<0.1.10,>=0.1.7 in /home/jeremy/anaconda3/lib/python3.9/site-packages (from detectron2) (0.1.9)\n",
      "Requirement already satisfied: black==21.4b2 in /home/jeremy/anaconda3/lib/python3.9/site-packages (from detectron2) (21.4b2)\n",
      "Requirement already satisfied: termcolor>=1.1 in /home/jeremy/anaconda3/lib/python3.9/site-packages (from detectron2) (1.1.0)\n",
      "Requirement already satisfied: tensorboard in /home/jeremy/anaconda3/lib/python3.9/site-packages (from detectron2) (2.7.0)\n",
      "Requirement already satisfied: future in /home/jeremy/anaconda3/lib/python3.9/site-packages (from detectron2) (0.18.2)\n",
      "Requirement already satisfied: tabulate in /home/jeremy/anaconda3/lib/python3.9/site-packages (from detectron2) (0.8.9)\n",
      "Requirement already satisfied: pydot in /home/jeremy/anaconda3/lib/python3.9/site-packages (from detectron2) (1.4.2)\n",
      "Requirement already satisfied: yacs>=0.1.8 in /home/jeremy/anaconda3/lib/python3.9/site-packages (from detectron2) (0.1.8)\n",
      "Requirement already satisfied: matplotlib in /home/jeremy/anaconda3/lib/python3.9/site-packages (from detectron2) (3.4.3)\n",
      "Requirement already satisfied: cloudpickle in /home/jeremy/anaconda3/lib/python3.9/site-packages (from detectron2) (2.0.0)\n",
      "Requirement already satisfied: fvcore<0.1.6,>=0.1.5 in /home/jeremy/anaconda3/lib/python3.9/site-packages (from detectron2) (0.1.5.post20211023)\n",
      "Requirement already satisfied: click>=7.1.2 in /home/jeremy/anaconda3/lib/python3.9/site-packages (from black==21.4b2->detectron2) (8.0.3)\n",
      "Requirement already satisfied: toml>=0.10.1 in /home/jeremy/anaconda3/lib/python3.9/site-packages (from black==21.4b2->detectron2) (0.10.2)\n",
      "Requirement already satisfied: regex>=2020.1.8 in /home/jeremy/anaconda3/lib/python3.9/site-packages (from black==21.4b2->detectron2) (2021.8.3)\n",
      "Requirement already satisfied: pathspec<1,>=0.8.1 in /home/jeremy/anaconda3/lib/python3.9/site-packages (from black==21.4b2->detectron2) (0.9.0)\n",
      "Requirement already satisfied: mypy-extensions>=0.4.3 in /home/jeremy/anaconda3/lib/python3.9/site-packages (from black==21.4b2->detectron2) (0.4.3)\n",
      "Requirement already satisfied: appdirs in /home/jeremy/anaconda3/lib/python3.9/site-packages (from black==21.4b2->detectron2) (1.4.4)\n",
      "Requirement already satisfied: numpy in /home/jeremy/anaconda3/lib/python3.9/site-packages (from fvcore<0.1.6,>=0.1.5->detectron2) (1.20.3)\n",
      "Requirement already satisfied: pyyaml>=5.1 in /home/jeremy/anaconda3/lib/python3.9/site-packages (from fvcore<0.1.6,>=0.1.5->detectron2) (5.3)\n",
      "Requirement already satisfied: antlr4-python3-runtime==4.8 in /home/jeremy/anaconda3/lib/python3.9/site-packages (from hydra-core>=1.1->detectron2) (4.8)\n",
      "Requirement already satisfied: portalocker in /home/jeremy/anaconda3/lib/python3.9/site-packages (from iopath<0.1.10,>=0.1.7->detectron2) (2.3.2)\n",
      "Requirement already satisfied: setuptools>=18.0 in /home/jeremy/anaconda3/lib/python3.9/site-packages (from pycocotools>=2.0.2->detectron2) (58.0.4)\n",
      "Requirement already satisfied: cython>=0.27.3 in /home/jeremy/anaconda3/lib/python3.9/site-packages (from pycocotools>=2.0.2->detectron2) (0.29.24)\n",
      "Requirement already satisfied: python-dateutil>=2.7 in /home/jeremy/anaconda3/lib/python3.9/site-packages (from matplotlib->detectron2) (2.8.2)\n",
      "Requirement already satisfied: cycler>=0.10 in /home/jeremy/anaconda3/lib/python3.9/site-packages (from matplotlib->detectron2) (0.10.0)\n",
      "Requirement already satisfied: kiwisolver>=1.0.1 in /home/jeremy/anaconda3/lib/python3.9/site-packages (from matplotlib->detectron2) (1.3.1)\n",
      "Requirement already satisfied: pyparsing>=2.2.1 in /home/jeremy/anaconda3/lib/python3.9/site-packages (from matplotlib->detectron2) (3.0.4)\n",
      "Requirement already satisfied: six in /home/jeremy/anaconda3/lib/python3.9/site-packages (from cycler>=0.10->matplotlib->detectron2) (1.16.0)\n",
      "Requirement already satisfied: werkzeug>=0.11.15 in /home/jeremy/anaconda3/lib/python3.9/site-packages (from tensorboard->detectron2) (2.0.2)\n",
      "Requirement already satisfied: absl-py>=0.4 in /home/jeremy/anaconda3/lib/python3.9/site-packages (from tensorboard->detectron2) (1.0.0)\n",
      "Requirement already satisfied: tensorboard-data-server<0.7.0,>=0.6.0 in /home/jeremy/anaconda3/lib/python3.9/site-packages (from tensorboard->detectron2) (0.6.1)\n",
      "Requirement already satisfied: requests<3,>=2.21.0 in /home/jeremy/anaconda3/lib/python3.9/site-packages (from tensorboard->detectron2) (2.26.0)\n",
      "Requirement already satisfied: google-auth-oauthlib<0.5,>=0.4.1 in /home/jeremy/anaconda3/lib/python3.9/site-packages (from tensorboard->detectron2) (0.4.6)\n",
      "Requirement already satisfied: protobuf>=3.6.0 in /home/jeremy/anaconda3/lib/python3.9/site-packages (from tensorboard->detectron2) (3.19.1)\n",
      "Requirement already satisfied: grpcio>=1.24.3 in /home/jeremy/anaconda3/lib/python3.9/site-packages (from tensorboard->detectron2) (1.43.0)\n",
      "Requirement already satisfied: wheel>=0.26 in /home/jeremy/anaconda3/lib/python3.9/site-packages (from tensorboard->detectron2) (0.37.0)\n",
      "Requirement already satisfied: google-auth<3,>=1.6.3 in /home/jeremy/anaconda3/lib/python3.9/site-packages (from tensorboard->detectron2) (2.3.3)\n",
      "Requirement already satisfied: markdown>=2.6.8 in /home/jeremy/anaconda3/lib/python3.9/site-packages (from tensorboard->detectron2) (3.3.6)\n",
      "Requirement already satisfied: tensorboard-plugin-wit>=1.6.0 in /home/jeremy/anaconda3/lib/python3.9/site-packages (from tensorboard->detectron2) (1.8.1)\n",
      "Requirement already satisfied: cachetools<5.0,>=2.0.0 in /home/jeremy/anaconda3/lib/python3.9/site-packages (from google-auth<3,>=1.6.3->tensorboard->detectron2) (4.2.4)\n",
      "Requirement already satisfied: rsa<5,>=3.1.4 in /home/jeremy/anaconda3/lib/python3.9/site-packages (from google-auth<3,>=1.6.3->tensorboard->detectron2) (4.8)\n",
      "Requirement already satisfied: pyasn1-modules>=0.2.1 in /home/jeremy/anaconda3/lib/python3.9/site-packages (from google-auth<3,>=1.6.3->tensorboard->detectron2) (0.2.8)\n",
      "Requirement already satisfied: requests-oauthlib>=0.7.0 in /home/jeremy/anaconda3/lib/python3.9/site-packages (from google-auth-oauthlib<0.5,>=0.4.1->tensorboard->detectron2) (1.3.0)\n",
      "Requirement already satisfied: importlib-metadata>=4.4 in /home/jeremy/anaconda3/lib/python3.9/site-packages (from markdown>=2.6.8->tensorboard->detectron2) (4.8.1)\n",
      "Requirement already satisfied: zipp>=0.5 in /home/jeremy/anaconda3/lib/python3.9/site-packages (from importlib-metadata>=4.4->markdown>=2.6.8->tensorboard->detectron2) (3.6.0)\n",
      "Requirement already satisfied: pyasn1<0.5.0,>=0.4.6 in /home/jeremy/anaconda3/lib/python3.9/site-packages (from pyasn1-modules>=0.2.1->google-auth<3,>=1.6.3->tensorboard->detectron2) (0.4.8)\n",
      "Requirement already satisfied: urllib3<1.27,>=1.21.1 in /home/jeremy/anaconda3/lib/python3.9/site-packages (from requests<3,>=2.21.0->tensorboard->detectron2) (1.26.7)\n",
      "Requirement already satisfied: idna<4,>=2.5 in /home/jeremy/anaconda3/lib/python3.9/site-packages (from requests<3,>=2.21.0->tensorboard->detectron2) (3.2)\n",
      "Requirement already satisfied: charset-normalizer~=2.0.0 in /home/jeremy/anaconda3/lib/python3.9/site-packages (from requests<3,>=2.21.0->tensorboard->detectron2) (2.0.4)\n",
      "Requirement already satisfied: certifi>=2017.4.17 in /home/jeremy/anaconda3/lib/python3.9/site-packages (from requests<3,>=2.21.0->tensorboard->detectron2) (2021.10.8)\n",
      "Requirement already satisfied: oauthlib>=3.0.0 in /home/jeremy/anaconda3/lib/python3.9/site-packages (from requests-oauthlib>=0.7.0->google-auth-oauthlib<0.5,>=0.4.1->tensorboard->detectron2) (3.1.1)\n"
     ]
    }
   ],
   "source": [
    "# install dependencies: \n",
    "!pip install pyyaml==5.3\n",
    "import torch, torchvision\n",
    "TORCH_VERSION = \".\".join(torch.__version__.split(\".\")[:2])\n",
    "CUDA_VERSION = torch.__version__.split(\"+\")[-1]\n",
    "print(\"torch: \", TORCH_VERSION, \"; cuda: \", CUDA_VERSION)\n",
    "# Install detectron2 that matches the above pytorch version\n",
    "# See https://detectron2.readthedocs.io/tutorials/install.html for instructions\n",
    "!pip install detectron2 -f https://dl.fbaipublicfiles.com/detectron2/wheels/$CUDA_VERSION/torch$TORCH_VERSION/index.html\n",
    "# If there is not yet a detectron2 release that matches the given torch + CUDA version, you need to install a different pytorch.\n",
    "\n",
    "# exit(0)  # After installation, you may need to \"restart runtime\" in Colab. This line can also restart runtime"
   ]
  },
  {
   "cell_type": "code",
   "execution_count": 3,
   "metadata": {
    "id": "ZyAvNCJMmvFF"
   },
   "outputs": [],
   "source": [
    "# import some common libraries\n",
    "import json\n",
    "import os\n",
    "import cv2\n",
    "import random\n",
    "import glob\n",
    "import numpy as np\n",
    "if IN_COLAB:\n",
    "  from google.colab.patches import cv2_imshow\n",
    "import matplotlib.pyplot as plt\n",
    "%matplotlib inline"
   ]
  },
  {
   "cell_type": "code",
   "execution_count": 4,
   "metadata": {},
   "outputs": [],
   "source": [
    "# Setup detectron2 logger\n",
    "import detectron2\n",
    "from detectron2.utils.logger import setup_logger\n",
    "setup_logger()\n",
    "\n",
    "# import some common detectron2 utilities\n",
    "from detectron2 import model_zoo\n",
    "from detectron2.engine import DefaultPredictor\n",
    "from detectron2.config import get_cfg\n",
    "from detectron2.utils.visualizer import Visualizer\n",
    "from detectron2.data import MetadataCatalog, DatasetCatalog\n"
   ]
  },
  {
   "cell_type": "code",
   "execution_count": 5,
   "metadata": {},
   "outputs": [
    {
     "name": "stdout",
     "output_type": "stream",
     "text": [
      "gpu available\n"
     ]
    }
   ],
   "source": [
    "# is there a gpu\n",
    "if torch.cuda.is_available():\n",
    "    GPU = True\n",
    "    print('gpu available')\n",
    "else:\n",
    "    GPU = False\n",
    "    print('no gpu')"
   ]
  },
  {
   "cell_type": "markdown",
   "metadata": {
    "id": "9GXik0-s9zda"
   },
   "source": [
    "## Upload a labeled dataset.\n",
    "The following code is expecting the dataset in the COCO format to be in a ***.zip*** file. For example: ```sample_dataset.zip``` \\\n"
   ]
  },
  {
   "cell_type": "code",
   "execution_count": 6,
   "metadata": {},
   "outputs": [
    {
     "name": "stdout",
     "output_type": "stream",
     "text": [
      "Requirement already satisfied: gdown in /home/jeremy/anaconda3/lib/python3.9/site-packages (4.2.0)\n",
      "Requirement already satisfied: filelock in /home/jeremy/anaconda3/lib/python3.9/site-packages (from gdown) (3.3.1)\n",
      "Requirement already satisfied: six in /home/jeremy/anaconda3/lib/python3.9/site-packages (from gdown) (1.16.0)\n",
      "Requirement already satisfied: tqdm in /home/jeremy/anaconda3/lib/python3.9/site-packages (from gdown) (4.62.3)\n",
      "Requirement already satisfied: beautifulsoup4 in /home/jeremy/anaconda3/lib/python3.9/site-packages (from gdown) (4.10.0)\n",
      "Requirement already satisfied: requests[socks] in /home/jeremy/anaconda3/lib/python3.9/site-packages (from gdown) (2.26.0)\n",
      "Requirement already satisfied: soupsieve>1.2 in /home/jeremy/anaconda3/lib/python3.9/site-packages (from beautifulsoup4->gdown) (2.2.1)\n",
      "Requirement already satisfied: urllib3<1.27,>=1.21.1 in /home/jeremy/anaconda3/lib/python3.9/site-packages (from requests[socks]->gdown) (1.26.7)\n",
      "Requirement already satisfied: idna<4,>=2.5 in /home/jeremy/anaconda3/lib/python3.9/site-packages (from requests[socks]->gdown) (3.2)\n",
      "Requirement already satisfied: charset-normalizer~=2.0.0 in /home/jeremy/anaconda3/lib/python3.9/site-packages (from requests[socks]->gdown) (2.0.4)\n",
      "Requirement already satisfied: certifi>=2017.4.17 in /home/jeremy/anaconda3/lib/python3.9/site-packages (from requests[socks]->gdown) (2021.10.8)\n",
      "Requirement already satisfied: PySocks!=1.5.7,>=1.5.6 in /home/jeremy/anaconda3/lib/python3.9/site-packages (from requests[socks]->gdown) (1.7.1)\n",
      "Downloading...\n",
      "From: https://drive.google.com/uc?id=1fUXCLnoJ5SwXg54mj0NBKGzidsV8ALVR\n",
      "To: /home/jeremy/Documents/annolid/book/tutorials/novelctrlk6_8_coco_dataset.zip\n",
      "100%|██████████████████████████████████████| 10.3M/10.3M [00:00<00:00, 96.4MB/s]\n"
     ]
    }
   ],
   "source": [
    "!pip install gdown \n",
    "!gdown --id 1fUXCLnoJ5SwXg54mj0NBKGzidsV8ALVR"
   ]
  },
  {
   "cell_type": "code",
   "execution_count": 7,
   "metadata": {},
   "outputs": [],
   "source": [
    "if IN_COLAB:\n",
    "    dataset = '/content/novelctrlk6_8_coco_dataset.zip'\n",
    "else:\n",
    "    dataset = 'novelctrlk6_8_coco_dataset.zip'"
   ]
  },
  {
   "cell_type": "markdown",
   "metadata": {},
   "source": [
    "### Note1: If you want to use your own dataset instead of the demo one, please uncomment and edit the following code.\n",
    "\n",
    "### Note2: please make sure there is no white space in your file path if you encounter file not found issues."
   ]
  },
  {
   "cell_type": "code",
   "execution_count": 8,
   "metadata": {},
   "outputs": [],
   "source": [
    "# if IN_COLAB:\n",
    "#     from google.colab import files\n",
    "#     uploaded = files.upload()\n",
    "# else:\n",
    "#     from ipywidgets import FileUpload\n",
    "#     from IPython.display import display\n",
    "#     !jupyter nbextension enable --py widgetsnbextension\n",
    "#     uploaded = FileUpload()\n",
    "\n",
    "# display(uploaded)"
   ]
  },
  {
   "cell_type": "code",
   "execution_count": 9,
   "metadata": {},
   "outputs": [],
   "source": [
    "# if IN_COLAB:\n",
    "#     dataset =  list(uploaded.keys())[0]\n",
    "# else:\n",
    "#     dataset = list(uploaded.value.keys())[0]\n"
   ]
  },
  {
   "cell_type": "markdown",
   "metadata": {},
   "source": [
    "If your dataset has the same name as the file you uploaded, you do not need to manually input the name (just run the next cells). **Otherwise, you need to replace DATASET_NAME and DATASET_DIR with your own strings like `DATASET_NAME = \"NameOfMyDataset\"` and `DATASETDIR=\"NameOfMyDatasetDirectory\"`**. To do that, uncomment the commented out cell below and replace the strings with the appropriate names"
   ]
  },
  {
   "cell_type": "code",
   "execution_count": 10,
   "metadata": {},
   "outputs": [],
   "source": [
    "# DATASET_NAME = 'NameOfMyDataset' \n",
    "# DATASET_DIR = 'NameOfMyDatasetDirectory'"
   ]
  },
  {
   "cell_type": "code",
   "execution_count": 11,
   "metadata": {
    "id": "7gD2vEWtmZQ8"
   },
   "outputs": [
    {
     "name": "stdout",
     "output_type": "stream",
     "text": [
      "Archive:  novelctrlk6_8_coco_dataset.zip\n",
      "  inflating: ./novelctrlk6_8_coco_dataset/valid/JPEGImages/00001416_41.jpg  \n",
      "  inflating: ./novelctrlk6_8_coco_dataset/valid/JPEGImages/00004233_81.jpg  \n",
      "  inflating: ./novelctrlk6_8_coco_dataset/valid/JPEGImages/00004515_22.jpg  \n",
      "  inflating: ./novelctrlk6_8_coco_dataset/valid/JPEGImages/00000636_6.jpg  \n",
      "  inflating: ./novelctrlk6_8_coco_dataset/valid/JPEGImages/00006297_11.jpg  \n",
      "  inflating: ./novelctrlk6_8_coco_dataset/valid/JPEGImages/00006818_79.jpg  \n",
      "  inflating: ./novelctrlk6_8_coco_dataset/valid/JPEGImages/00006056_25.jpg  \n",
      "  inflating: ./novelctrlk6_8_coco_dataset/valid/JPEGImages/00006094_12.jpg  \n",
      "  inflating: ./novelctrlk6_8_coco_dataset/valid/JPEGImages/00004340_96.jpg  \n",
      "  inflating: ./novelctrlk6_8_coco_dataset/valid/JPEGImages/00000557_50.jpg  \n",
      "  inflating: ./novelctrlk6_8_coco_dataset/valid/JPEGImages/00000979_94.jpg  \n",
      "  inflating: ./novelctrlk6_8_coco_dataset/valid/JPEGImages/00005018_19.jpg  \n",
      "  inflating: ./novelctrlk6_8_coco_dataset/valid/JPEGImages/00001257_80.jpg  \n",
      "  inflating: ./novelctrlk6_8_coco_dataset/valid/JPEGImages/00004335_26.jpg  \n",
      "  inflating: ./novelctrlk6_8_coco_dataset/valid/JPEGImages/00004804_39.jpg  \n",
      "  inflating: ./novelctrlk6_8_coco_dataset/valid/JPEGImages/00006396_43.jpg  \n",
      "  inflating: ./novelctrlk6_8_coco_dataset/valid/JPEGImages/00006993_65.jpg  \n",
      "  inflating: ./novelctrlk6_8_coco_dataset/valid/JPEGImages/00000865_92.jpg  \n",
      "  inflating: ./novelctrlk6_8_coco_dataset/valid/JPEGImages/00003114_35.jpg  \n",
      "  inflating: ./novelctrlk6_8_coco_dataset/valid/JPEGImages/00001918_2.jpg  \n",
      "  inflating: ./novelctrlk6_8_coco_dataset/valid/JPEGImages/00004935_56.jpg  \n",
      "  inflating: ./novelctrlk6_8_coco_dataset/valid/JPEGImages/00006959_78.jpg  \n",
      "  inflating: ./novelctrlk6_8_coco_dataset/valid/JPEGImages/00005216_14.jpg  \n",
      "  inflating: ./novelctrlk6_8_coco_dataset/valid/JPEGImages/00003092_22.jpg  \n",
      "  inflating: ./novelctrlk6_8_coco_dataset/valid/JPEGImages/00001528_44.jpg  \n",
      "  inflating: ./novelctrlk6_8_coco_dataset/valid/JPEGImages/00003208_12.jpg  \n",
      "  inflating: ./novelctrlk6_8_coco_dataset/valid/JPEGImages/00004966_35.jpg  \n",
      "  inflating: ./novelctrlk6_8_coco_dataset/valid/JPEGImages/00004517_47.jpg  \n",
      "  inflating: ./novelctrlk6_8_coco_dataset/valid/JPEGImages/00004769_82.jpg  \n",
      "  inflating: ./novelctrlk6_8_coco_dataset/valid/JPEGImages/00004767_87.jpg  \n",
      "  inflating: ./novelctrlk6_8_coco_dataset/valid/JPEGImages/00000378_62.jpg  \n",
      "  inflating: ./novelctrlk6_8_coco_dataset/valid/JPEGImages/00006563_31.jpg  \n",
      "  inflating: ./novelctrlk6_8_coco_dataset/valid/JPEGImages/00001476_48.jpg  \n",
      "  inflating: ./novelctrlk6_8_coco_dataset/valid/JPEGImages/00004555_67.jpg  \n",
      "  inflating: ./novelctrlk6_8_coco_dataset/valid/JPEGImages/00003070_62.jpg  \n",
      "  inflating: ./novelctrlk6_8_coco_dataset/valid/JPEGImages/00005007_38.jpg  \n",
      "  inflating: ./novelctrlk6_8_coco_dataset/valid/JPEGImages/00003342_41.jpg  \n",
      "  inflating: ./novelctrlk6_8_coco_dataset/valid/JPEGImages/00002267_91.jpg  \n",
      "  inflating: ./novelctrlk6_8_coco_dataset/valid/JPEGImages/00002248_99.jpg  \n",
      "  inflating: ./novelctrlk6_8_coco_dataset/valid/JPEGImages/00000702_46.jpg  \n",
      "  inflating: ./novelctrlk6_8_coco_dataset/valid/JPEGImages/00003237_15.jpg  \n",
      "  inflating: ./novelctrlk6_8_coco_dataset/valid/JPEGImages/00002412_96.jpg  \n",
      "  inflating: ./novelctrlk6_8_coco_dataset/valid/JPEGImages/00001322_73.jpg  \n",
      "  inflating: ./novelctrlk6_8_coco_dataset/valid/JPEGImages/00002328_97.jpg  \n",
      "  inflating: ./novelctrlk6_8_coco_dataset/valid/JPEGImages/00004312_85.jpg  \n",
      "  inflating: ./novelctrlk6_8_coco_dataset/valid/JPEGImages/00004443_46.jpg  \n",
      "  inflating: ./novelctrlk6_8_coco_dataset/valid/JPEGImages/00003783_81.jpg  \n",
      "  inflating: ./novelctrlk6_8_coco_dataset/valid/JPEGImages/00000779_3.jpg  \n",
      "  inflating: ./novelctrlk6_8_coco_dataset/valid/JPEGImages/00002654_1.jpg  \n",
      "  inflating: ./novelctrlk6_8_coco_dataset/valid/JPEGImages/00004685_90.jpg  \n",
      "  inflating: ./novelctrlk6_8_coco_dataset/valid/JPEGImages/00004098_59.jpg  \n",
      "  inflating: ./novelctrlk6_8_coco_dataset/valid/JPEGImages/00006538_99.jpg  \n",
      "  inflating: ./novelctrlk6_8_coco_dataset/valid/JPEGImages/00006832_71.jpg  \n",
      "  inflating: ./novelctrlk6_8_coco_dataset/valid/JPEGImages/00007024_26.jpg  \n",
      "  inflating: ./novelctrlk6_8_coco_dataset/valid/JPEGImages/00005772_51.jpg  \n",
      "  inflating: ./novelctrlk6_8_coco_dataset/valid/JPEGImages/00006330_76.jpg  \n",
      "  inflating: ./novelctrlk6_8_coco_dataset/valid/JPEGImages/00000871_10.jpg  \n",
      "  inflating: ./novelctrlk6_8_coco_dataset/valid/JPEGImages/00003034_64.jpg  \n",
      "  inflating: ./novelctrlk6_8_coco_dataset/valid/JPEGImages/00004539_89.jpg  \n",
      "  inflating: ./novelctrlk6_8_coco_dataset/valid/JPEGImages/00005788_49.jpg  \n",
      "  inflating: ./novelctrlk6_8_coco_dataset/valid/annotations.json  \n",
      "  inflating: ./novelctrlk6_8_coco_dataset/.DS_Store  \n",
      "  inflating: ./__MACOSX/novelctrlk6_8_coco_dataset/._.DS_Store  \n",
      "  inflating: ./novelctrlk6_8_coco_dataset/data.yaml  \n",
      "  inflating: ./novelctrlk6_8_coco_dataset/train/.DS_Store  \n",
      "  inflating: ./__MACOSX/novelctrlk6_8_coco_dataset/train/._.DS_Store  \n",
      "  inflating: ./novelctrlk6_8_coco_dataset/train/JPEGImages/00001466_29.jpg  \n",
      "  inflating: ./novelctrlk6_8_coco_dataset/train/JPEGImages/00006804_57.jpg  \n",
      "  inflating: ./novelctrlk6_8_coco_dataset/train/JPEGImages/00007044_50.jpg  \n",
      "  inflating: ./novelctrlk6_8_coco_dataset/train/JPEGImages/00006232_55.jpg  \n",
      "  inflating: ./novelctrlk6_8_coco_dataset/train/JPEGImages/00000759_28.jpg  \n",
      "  inflating: ./novelctrlk6_8_coco_dataset/train/JPEGImages/00003680_32.jpg  \n",
      "  inflating: ./novelctrlk6_8_coco_dataset/train/JPEGImages/00004441_88.jpg  \n",
      "  inflating: ./novelctrlk6_8_coco_dataset/train/JPEGImages/00005090_94.jpg  \n",
      "  inflating: ./novelctrlk6_8_coco_dataset/train/JPEGImages/00002476_27.jpg  \n",
      "  inflating: ./novelctrlk6_8_coco_dataset/train/JPEGImages/00000965_42.jpg  \n",
      "  inflating: ./novelctrlk6_8_coco_dataset/train/JPEGImages/00001652_55.jpg  \n",
      "  inflating: ./novelctrlk6_8_coco_dataset/train/JPEGImages/00002000_18.jpg  \n",
      "  inflating: ./novelctrlk6_8_coco_dataset/train/JPEGImages/00002333_0.jpg  \n",
      "  inflating: ./novelctrlk6_8_coco_dataset/train/JPEGImages/00005752_39.jpg  \n",
      "  inflating: ./novelctrlk6_8_coco_dataset/train/JPEGImages/00006670_0.jpg  \n",
      "  inflating: ./novelctrlk6_8_coco_dataset/train/JPEGImages/00005763_18.jpg  \n",
      "  inflating: ./novelctrlk6_8_coco_dataset/train/JPEGImages/00004469_75.jpg  \n",
      "  inflating: ./novelctrlk6_8_coco_dataset/train/JPEGImages/00005566_43.jpg  \n",
      "  inflating: ./novelctrlk6_8_coco_dataset/train/JPEGImages/00004336_74.jpg  \n",
      "  inflating: ./novelctrlk6_8_coco_dataset/train/JPEGImages/00006574_88.jpg  \n",
      "  inflating: ./novelctrlk6_8_coco_dataset/train/JPEGImages/00001922_1.jpg  \n",
      "  inflating: ./novelctrlk6_8_coco_dataset/train/JPEGImages/00001795_5.jpg  \n",
      "  inflating: ./novelctrlk6_8_coco_dataset/train/JPEGImages/00005755_34.jpg  \n",
      "  inflating: ./novelctrlk6_8_coco_dataset/train/JPEGImages/00003576_54.jpg  \n",
      "  inflating: ./novelctrlk6_8_coco_dataset/train/JPEGImages/00002647_78.jpg  \n",
      "  inflating: ./novelctrlk6_8_coco_dataset/train/JPEGImages/00004295_47.jpg  \n",
      "  inflating: ./novelctrlk6_8_coco_dataset/train/JPEGImages/00003667_56.jpg  \n",
      "  inflating: ./novelctrlk6_8_coco_dataset/train/JPEGImages/00006131_85.jpg  \n",
      "  inflating: ./novelctrlk6_8_coco_dataset/train/JPEGImages/00000311_77.jpg  \n",
      "  inflating: ./novelctrlk6_8_coco_dataset/train/JPEGImages/00000879_40.jpg  \n",
      "  inflating: ./novelctrlk6_8_coco_dataset/train/JPEGImages/00002991_7.jpg  \n",
      "  inflating: ./novelctrlk6_8_coco_dataset/train/JPEGImages/00000757_5.jpg  \n",
      "  inflating: ./novelctrlk6_8_coco_dataset/train/JPEGImages/00004628_68.jpg  \n",
      "  inflating: ./novelctrlk6_8_coco_dataset/train/JPEGImages/00004348_33.jpg  \n",
      "  inflating: ./novelctrlk6_8_coco_dataset/train/JPEGImages/00003269_66.jpg  \n",
      "  inflating: ./novelctrlk6_8_coco_dataset/train/JPEGImages/00003224_49.jpg  \n",
      "  inflating: ./novelctrlk6_8_coco_dataset/train/JPEGImages/00002628_21.jpg  \n",
      "  inflating: ./novelctrlk6_8_coco_dataset/train/JPEGImages/00001838_25.jpg  \n",
      "  inflating: ./novelctrlk6_8_coco_dataset/train/JPEGImages/00002825_40.jpg  \n",
      "  inflating: ./novelctrlk6_8_coco_dataset/train/JPEGImages/00002247_29.jpg  \n",
      "  inflating: ./novelctrlk6_8_coco_dataset/train/JPEGImages/00003100_30.jpg  \n",
      "  inflating: ./novelctrlk6_8_coco_dataset/train/JPEGImages/00001922_57.jpg  \n",
      "  inflating: ./novelctrlk6_8_coco_dataset/train/JPEGImages/00001320_92.jpg  \n",
      "  inflating: ./novelctrlk6_8_coco_dataset/train/JPEGImages/00006299_63.jpg  \n",
      "  inflating: ./novelctrlk6_8_coco_dataset/train/JPEGImages/00000952_60.jpg  \n",
      "  inflating: ./novelctrlk6_8_coco_dataset/train/JPEGImages/00000842_70.jpg  \n",
      "  inflating: ./__MACOSX/novelctrlk6_8_coco_dataset/train/JPEGImages/._00000842_70.jpg  \n",
      "  inflating: ./novelctrlk6_8_coco_dataset/train/JPEGImages/00002295_32.jpg  \n",
      "  inflating: ./novelctrlk6_8_coco_dataset/train/JPEGImages/00004117_59.jpg  \n",
      "  inflating: ./novelctrlk6_8_coco_dataset/train/JPEGImages/00003976_44.jpg  \n",
      "  inflating: ./novelctrlk6_8_coco_dataset/train/JPEGImages/00004032_20.jpg  \n",
      "  inflating: ./novelctrlk6_8_coco_dataset/train/JPEGImages/00006212_69.jpg  \n",
      "  inflating: ./novelctrlk6_8_coco_dataset/train/JPEGImages/00003134_31.jpg  \n",
      "  inflating: ./novelctrlk6_8_coco_dataset/train/JPEGImages/00006169_98.jpg  \n",
      "  inflating: ./novelctrlk6_8_coco_dataset/train/JPEGImages/00006830_36.jpg  \n",
      "  inflating: ./novelctrlk6_8_coco_dataset/train/JPEGImages/00004570_24.jpg  \n",
      "  inflating: ./novelctrlk6_8_coco_dataset/train/JPEGImages/00000735_23.jpg  \n",
      "  inflating: ./novelctrlk6_8_coco_dataset/train/JPEGImages/00003905_42.jpg  \n",
      "  inflating: ./novelctrlk6_8_coco_dataset/train/JPEGImages/00003012_37.jpg  \n",
      "  inflating: ./novelctrlk6_8_coco_dataset/train/JPEGImages/00005456_95.jpg  \n",
      "  inflating: ./novelctrlk6_8_coco_dataset/train/JPEGImages/00002456_9.jpg  \n",
      "  inflating: ./novelctrlk6_8_coco_dataset/train/JPEGImages/00002433_90.jpg  \n",
      "  inflating: ./novelctrlk6_8_coco_dataset/train/JPEGImages/00006715_97.jpg  \n",
      "  inflating: ./novelctrlk6_8_coco_dataset/train/JPEGImages/00005597_15.jpg  \n",
      "  inflating: ./novelctrlk6_8_coco_dataset/train/JPEGImages/00006319_53.jpg  \n",
      "  inflating: ./novelctrlk6_8_coco_dataset/train/JPEGImages/00005025_83.jpg  \n",
      "  inflating: ./novelctrlk6_8_coco_dataset/train/JPEGImages/00000530_64.jpg  \n",
      "  inflating: ./novelctrlk6_8_coco_dataset/train/JPEGImages/00002362_63.jpg  \n",
      "  inflating: ./novelctrlk6_8_coco_dataset/train/JPEGImages/00002311_72.jpg  \n",
      "  inflating: ./novelctrlk6_8_coco_dataset/train/JPEGImages/00005068_37.jpg  \n",
      "  inflating: ./novelctrlk6_8_coco_dataset/train/JPEGImages/00006353_11.jpg  \n",
      "  inflating: ./novelctrlk6_8_coco_dataset/train/JPEGImages/00005056_91.jpg  \n",
      "  inflating: ./novelctrlk6_8_coco_dataset/train/JPEGImages/00000970_34.jpg  \n",
      "  inflating: ./novelctrlk6_8_coco_dataset/train/JPEGImages/00002577_24.jpg  \n",
      "  inflating: ./novelctrlk6_8_coco_dataset/train/JPEGImages/00006601_16.jpg  \n",
      "  inflating: ./novelctrlk6_8_coco_dataset/train/JPEGImages/00000652_65.jpg  \n",
      "  inflating: ./novelctrlk6_8_coco_dataset/train/JPEGImages/00002639_95.jpg  \n",
      "  inflating: ./novelctrlk6_8_coco_dataset/train/JPEGImages/00005953_8.jpg  \n",
      "  inflating: ./novelctrlk6_8_coco_dataset/train/JPEGImages/00006000_27.jpg  \n",
      "  inflating: ./novelctrlk6_8_coco_dataset/train/JPEGImages/00005700_89.jpg  \n",
      "  inflating: ./novelctrlk6_8_coco_dataset/train/JPEGImages/00004672_51.jpg  \n",
      "  inflating: ./novelctrlk6_8_coco_dataset/train/JPEGImages/00004062_19.jpg  \n",
      "  inflating: ./novelctrlk6_8_coco_dataset/train/JPEGImages/00005246_28.jpg  \n",
      "  inflating: ./novelctrlk6_8_coco_dataset/train/JPEGImages/00005154_53.jpg  \n",
      "  inflating: ./novelctrlk6_8_coco_dataset/train/JPEGImages/00005584_93.jpg  \n",
      "  inflating: ./novelctrlk6_8_coco_dataset/train/JPEGImages/00003834_80.jpg  \n",
      "  inflating: ./novelctrlk6_8_coco_dataset/train/JPEGImages/00004711_6.jpg  \n",
      "  inflating: ./novelctrlk6_8_coco_dataset/train/JPEGImages/00006038_20.jpg  \n",
      "  inflating: ./novelctrlk6_8_coco_dataset/train/JPEGImages/00006373_2.jpg  \n",
      "  inflating: ./novelctrlk6_8_coco_dataset/train/JPEGImages/00006470_84.jpg  \n",
      "  inflating: ./novelctrlk6_8_coco_dataset/train/JPEGImages/00003956_16.jpg  \n",
      "  inflating: ./novelctrlk6_8_coco_dataset/train/JPEGImages/00002625_79.jpg  \n",
      "  inflating: ./novelctrlk6_8_coco_dataset/train/JPEGImages/00006270_45.jpg  \n",
      "  inflating: ./novelctrlk6_8_coco_dataset/train/JPEGImages/00006521_86.jpg  \n",
      "  inflating: ./novelctrlk6_8_coco_dataset/train/JPEGImages/00001999_45.jpg  \n",
      "  inflating: ./novelctrlk6_8_coco_dataset/train/JPEGImages/00004081_4.jpg  \n",
      "  inflating: ./novelctrlk6_8_coco_dataset/train/JPEGImages/00000776_14.jpg  \n",
      "  inflating: ./novelctrlk6_8_coco_dataset/train/JPEGImages/00002546_58.jpg  \n",
      "  inflating: ./novelctrlk6_8_coco_dataset/train/JPEGImages/00001181_61.jpg  \n",
      "  inflating: ./novelctrlk6_8_coco_dataset/train/JPEGImages/00002226_87.jpg  \n",
      "  inflating: ./novelctrlk6_8_coco_dataset/train/JPEGImages/00001632_33.jpg  \n",
      "  inflating: ./novelctrlk6_8_coco_dataset/train/JPEGImages/00006218_71.jpg  \n",
      "  inflating: ./novelctrlk6_8_coco_dataset/train/JPEGImages/00005400_9.jpg  \n",
      "  inflating: ./novelctrlk6_8_coco_dataset/train/JPEGImages/00001299_86.jpg  \n",
      "  inflating: ./novelctrlk6_8_coco_dataset/train/JPEGImages/00002067_75.jpg  \n",
      "  inflating: ./novelctrlk6_8_coco_dataset/train/JPEGImages/00006844_69.jpg  \n",
      "  inflating: ./novelctrlk6_8_coco_dataset/train/JPEGImages/00001892_72.jpg  \n",
      "  inflating: ./novelctrlk6_8_coco_dataset/train/JPEGImages/00001153_93.jpg  \n",
      "  inflating: ./novelctrlk6_8_coco_dataset/train/JPEGImages/00001389_82.jpg  \n",
      "  inflating: ./novelctrlk6_8_coco_dataset/train/JPEGImages/00001439_52.jpg  \n",
      "  inflating: ./novelctrlk6_8_coco_dataset/train/JPEGImages/00006367_98.jpg  \n",
      "  inflating: ./novelctrlk6_8_coco_dataset/train/JPEGImages/00004018_67.jpg  \n",
      "  inflating: ./novelctrlk6_8_coco_dataset/train/JPEGImages/00004535_48.jpg  \n",
      "  inflating: ./novelctrlk6_8_coco_dataset/train/JPEGImages/00006361_13.jpg  \n",
      "  inflating: ./novelctrlk6_8_coco_dataset/train/JPEGImages/00003167_10.jpg  \n",
      "  inflating: ./novelctrlk6_8_coco_dataset/train/JPEGImages/00006832_66.jpg  \n",
      "  inflating: ./novelctrlk6_8_coco_dataset/train/JPEGImages/00004956_38.jpg  \n",
      "  inflating: ./novelctrlk6_8_coco_dataset/train/JPEGImages/00001980_61.jpg  \n",
      "  inflating: ./novelctrlk6_8_coco_dataset/train/JPEGImages/00003364_13.jpg  \n",
      "  inflating: ./novelctrlk6_8_coco_dataset/train/annotations.json  \n"
     ]
    }
   ],
   "source": [
    "if IN_COLAB:\n",
    "    !unzip $dataset -d /content/\n",
    "else:\n",
    "    !unzip -o $dataset -d ."
   ]
  },
  {
   "cell_type": "code",
   "execution_count": 12,
   "metadata": {
    "id": "21PxYqli7Y67"
   },
   "outputs": [],
   "source": [
    "DATASET_NAME = DATASET_DIR = f\"{dataset.replace('.zip','')}\""
   ]
  },
  {
   "cell_type": "markdown",
   "metadata": {
    "id": "Vk4gID50K03a"
   },
   "source": [
    "# Run a pre-trained detectron2 model"
   ]
  },
  {
   "cell_type": "markdown",
   "metadata": {
    "id": "JgKyUL4pngvE"
   },
   "source": [
    "First, we check a random selected image from our training dataset:"
   ]
  },
  {
   "cell_type": "code",
   "execution_count": 13,
   "metadata": {
    "id": "dq9GY37ml1kr"
   },
   "outputs": [
    {
     "data": {
      "image/png": "[encoded data removed]",
      "text/plain": [
       "<Figure size 432x288 with 1 Axes>"
      ]
     },
     "metadata": {
      "needs_background": "light"
     },
     "output_type": "display_data"
    }
   ],
   "source": [
    "# select and display one random image from the training set\n",
    "img_file = random.choice(glob.glob(f\"{DATASET_DIR}/train/JPEGImages/*.*\"))\n",
    "im = cv2.imread(img_file)\n",
    "if IN_COLAB:\n",
    "    cv2_imshow(im)\n",
    "else:\n",
    "    plt.imshow(im)"
   ]
  },
  {
   "cell_type": "markdown",
   "metadata": {
    "id": "uM1thbN-ntjI"
   },
   "source": [
    "Then, we create a Detectron2 config and a detectron2 `DefaultPredictor` to run inference on this image."
   ]
  },
  {
   "cell_type": "code",
   "execution_count": 14,
   "metadata": {},
   "outputs": [],
   "source": [
    "cfg = get_cfg()"
   ]
  },
  {
   "cell_type": "code",
   "execution_count": 15,
   "metadata": {},
   "outputs": [],
   "source": [
    "if GPU:\n",
    "    pass\n",
    "else:\n",
    "    cfg.MODEL.DEVICE='cpu'"
   ]
  },
  {
   "cell_type": "code",
   "execution_count": 16,
   "metadata": {
    "id": "HUjkwRsOn1O0"
   },
   "outputs": [
    {
     "name": "stderr",
     "output_type": "stream",
     "text": [
      "/home/jeremy/anaconda3/envs/annolid-env/lib/python3.7/site-packages/detectron2/structures/image_list.py:88: UserWarning: __floordiv__ is deprecated, and its behavior will change in a future version of pytorch. It currently rounds toward 0 (like the 'trunc' function NOT 'floor'). This results in incorrect rounding for negative values. To keep the current behavior, use torch.div(a, b, rounding_mode='trunc'), or for actual floor division, use torch.div(a, b, rounding_mode='floor').\n",
      "  max_size = (max_size + (stride - 1)) // stride * stride\n",
      "/home/jeremy/anaconda3/envs/annolid-env/lib/python3.7/site-packages/torch/functional.py:445: UserWarning: torch.meshgrid: in an upcoming release, it will be required to pass the indexing argument. (Triggered internally at  ../aten/src/ATen/native/TensorShape.cpp:2157.)\n",
      "  return _VF.meshgrid(tensors, **kwargs)  # type: ignore[attr-defined]\n"
     ]
    }
   ],
   "source": [
    "# add project-specific config (e.g., TensorMask) here if you're not running a model in detectron2's core library\n",
    "cfg.merge_from_file(model_zoo.get_config_file(\"COCO-InstanceSegmentation/mask_rcnn_R_50_FPN_3x.yaml\"))\n",
    "cfg.MODEL.ROI_HEADS.SCORE_THRESH_TEST = 0.1  # set threshold for this model\n",
    "# Find a model from Detectron2's model zoo. You can use the https://dl.fbaipublicfiles... url as well\n",
    "cfg.MODEL.WEIGHTS = model_zoo.get_checkpoint_url(\"COCO-InstanceSegmentation/mask_rcnn_R_50_FPN_3x.yaml\")\n",
    "predictor = DefaultPredictor(cfg)\n",
    "outputs = predictor(im)"
   ]
  },
  {
   "cell_type": "code",
   "execution_count": 17,
   "metadata": {
    "id": "7d3KxiHO_0gb"
   },
   "outputs": [
    {
     "name": "stdout",
     "output_type": "stream",
     "text": [
      "tensor([ 6, 74, 74, 65, 74, 68], device='cuda:0')\n",
      "Boxes(tensor([[ 100.5904,   16.4716, 1262.0560,  977.0276],\n",
      "        [ 504.0177,  541.5104,  551.6971,  589.2094],\n",
      "        [ 898.6787,  518.7311,  947.8806,  568.1455],\n",
      "        [  19.0260,  140.1515,  163.2243,  981.9127],\n",
      "        [ 788.5672,  356.4314,  832.5961,  404.7740],\n",
      "        [ 121.0352,    0.0000, 1254.3234,  988.9520]], device='cuda:0'))\n"
     ]
    }
   ],
   "source": [
    "# look at the outputs. See https://detectron2.readthedocs.io/tutorials/models.html#model-output-format for specification\n",
    "print(outputs[\"instances\"].pred_classes)\n",
    "print(outputs[\"instances\"].pred_boxes)"
   ]
  },
  {
   "cell_type": "code",
   "execution_count": 18,
   "metadata": {
    "id": "eM728kMR0ACL"
   },
   "outputs": [
    {
     "data": {
      "text/plain": [
       "tensor([[[False, False, False,  ..., False, False, False],\n",
       "         [False, False, False,  ..., False, False, False],\n",
       "         [False, False, False,  ..., False, False, False],\n",
       "         ...,\n",
       "         [False, False, False,  ..., False, False, False],\n",
       "         [False, False, False,  ..., False, False, False],\n",
       "         [False, False, False,  ..., False, False, False]],\n",
       "\n",
       "        [[False, False, False,  ..., False, False, False],\n",
       "         [False, False, False,  ..., False, False, False],\n",
       "         [False, False, False,  ..., False, False, False],\n",
       "         ...,\n",
       "         [False, False, False,  ..., False, False, False],\n",
       "         [False, False, False,  ..., False, False, False],\n",
       "         [False, False, False,  ..., False, False, False]],\n",
       "\n",
       "        [[False, False, False,  ..., False, False, False],\n",
       "         [False, False, False,  ..., False, False, False],\n",
       "         [False, False, False,  ..., False, False, False],\n",
       "         ...,\n",
       "         [False, False, False,  ..., False, False, False],\n",
       "         [False, False, False,  ..., False, False, False],\n",
       "         [False, False, False,  ..., False, False, False]],\n",
       "\n",
       "        [[False, False, False,  ..., False, False, False],\n",
       "         [False, False, False,  ..., False, False, False],\n",
       "         [False, False, False,  ..., False, False, False],\n",
       "         ...,\n",
       "         [False, False, False,  ..., False, False, False],\n",
       "         [False, False, False,  ..., False, False, False],\n",
       "         [False, False, False,  ..., False, False, False]],\n",
       "\n",
       "        [[False, False, False,  ..., False, False, False],\n",
       "         [False, False, False,  ..., False, False, False],\n",
       "         [False, False, False,  ..., False, False, False],\n",
       "         ...,\n",
       "         [False, False, False,  ..., False, False, False],\n",
       "         [False, False, False,  ..., False, False, False],\n",
       "         [False, False, False,  ..., False, False, False]],\n",
       "\n",
       "        [[False, False, False,  ..., False, False, False],\n",
       "         [False, False, False,  ..., False, False, False],\n",
       "         [False, False, False,  ..., False, False, False],\n",
       "         ...,\n",
       "         [False, False, False,  ..., False, False, False],\n",
       "         [False, False, False,  ..., False, False, False],\n",
       "         [False, False, False,  ..., False, False, False]]], device='cuda:0')"
      ]
     },
     "execution_count": 18,
     "metadata": {},
     "output_type": "execute_result"
    }
   ],
   "source": [
    "outputs['instances'].pred_masks"
   ]
  },
  {
   "cell_type": "code",
   "execution_count": 19,
   "metadata": {
    "id": "NWnR6KMx2KK7"
   },
   "outputs": [
    {
     "data": {
      "text/plain": [
       "namespace(name='coco_2017_train',\n",
       "          json_file='datasets/coco/annotations/instances_train2017.json',\n",
       "          image_root='datasets/coco/train2017',\n",
       "          evaluator_type='coco',\n",
       "          thing_dataset_id_to_contiguous_id={1: 0,\n",
       "                                             2: 1,\n",
       "                                             3: 2,\n",
       "                                             4: 3,\n",
       "                                             5: 4,\n",
       "                                             6: 5,\n",
       "                                             7: 6,\n",
       "                                             8: 7,\n",
       "                                             9: 8,\n",
       "                                             10: 9,\n",
       "                                             11: 10,\n",
       "                                             13: 11,\n",
       "                                             14: 12,\n",
       "                                             15: 13,\n",
       "                                             16: 14,\n",
       "                                             17: 15,\n",
       "                                             18: 16,\n",
       "                                             19: 17,\n",
       "                                             20: 18,\n",
       "                                             21: 19,\n",
       "                                             22: 20,\n",
       "                                             23: 21,\n",
       "                                             24: 22,\n",
       "                                             25: 23,\n",
       "                                             27: 24,\n",
       "                                             28: 25,\n",
       "                                             31: 26,\n",
       "                                             32: 27,\n",
       "                                             33: 28,\n",
       "                                             34: 29,\n",
       "                                             35: 30,\n",
       "                                             36: 31,\n",
       "                                             37: 32,\n",
       "                                             38: 33,\n",
       "                                             39: 34,\n",
       "                                             40: 35,\n",
       "                                             41: 36,\n",
       "                                             42: 37,\n",
       "                                             43: 38,\n",
       "                                             44: 39,\n",
       "                                             46: 40,\n",
       "                                             47: 41,\n",
       "                                             48: 42,\n",
       "                                             49: 43,\n",
       "                                             50: 44,\n",
       "                                             51: 45,\n",
       "                                             52: 46,\n",
       "                                             53: 47,\n",
       "                                             54: 48,\n",
       "                                             55: 49,\n",
       "                                             56: 50,\n",
       "                                             57: 51,\n",
       "                                             58: 52,\n",
       "                                             59: 53,\n",
       "                                             60: 54,\n",
       "                                             61: 55,\n",
       "                                             62: 56,\n",
       "                                             63: 57,\n",
       "                                             64: 58,\n",
       "                                             65: 59,\n",
       "                                             67: 60,\n",
       "                                             70: 61,\n",
       "                                             72: 62,\n",
       "                                             73: 63,\n",
       "                                             74: 64,\n",
       "                                             75: 65,\n",
       "                                             76: 66,\n",
       "                                             77: 67,\n",
       "                                             78: 68,\n",
       "                                             79: 69,\n",
       "                                             80: 70,\n",
       "                                             81: 71,\n",
       "                                             82: 72,\n",
       "                                             84: 73,\n",
       "                                             85: 74,\n",
       "                                             86: 75,\n",
       "                                             87: 76,\n",
       "                                             88: 77,\n",
       "                                             89: 78,\n",
       "                                             90: 79},\n",
       "          thing_classes=['person',\n",
       "                         'bicycle',\n",
       "                         'car',\n",
       "                         'motorcycle',\n",
       "                         'airplane',\n",
       "                         'bus',\n",
       "                         'train',\n",
       "                         'truck',\n",
       "                         'boat',\n",
       "                         'traffic light',\n",
       "                         'fire hydrant',\n",
       "                         'stop sign',\n",
       "                         'parking meter',\n",
       "                         'bench',\n",
       "                         'bird',\n",
       "                         'cat',\n",
       "                         'dog',\n",
       "                         'horse',\n",
       "                         'sheep',\n",
       "                         'cow',\n",
       "                         'elephant',\n",
       "                         'bear',\n",
       "                         'zebra',\n",
       "                         'giraffe',\n",
       "                         'backpack',\n",
       "                         'umbrella',\n",
       "                         'handbag',\n",
       "                         'tie',\n",
       "                         'suitcase',\n",
       "                         'frisbee',\n",
       "                         'skis',\n",
       "                         'snowboard',\n",
       "                         'sports ball',\n",
       "                         'kite',\n",
       "                         'baseball bat',\n",
       "                         'baseball glove',\n",
       "                         'skateboard',\n",
       "                         'surfboard',\n",
       "                         'tennis racket',\n",
       "                         'bottle',\n",
       "                         'wine glass',\n",
       "                         'cup',\n",
       "                         'fork',\n",
       "                         'knife',\n",
       "                         'spoon',\n",
       "                         'bowl',\n",
       "                         'banana',\n",
       "                         'apple',\n",
       "                         'sandwich',\n",
       "                         'orange',\n",
       "                         'broccoli',\n",
       "                         'carrot',\n",
       "                         'hot dog',\n",
       "                         'pizza',\n",
       "                         'donut',\n",
       "                         'cake',\n",
       "                         'chair',\n",
       "                         'couch',\n",
       "                         'potted plant',\n",
       "                         'bed',\n",
       "                         'dining table',\n",
       "                         'toilet',\n",
       "                         'tv',\n",
       "                         'laptop',\n",
       "                         'mouse',\n",
       "                         'remote',\n",
       "                         'keyboard',\n",
       "                         'cell phone',\n",
       "                         'microwave',\n",
       "                         'oven',\n",
       "                         'toaster',\n",
       "                         'sink',\n",
       "                         'refrigerator',\n",
       "                         'book',\n",
       "                         'clock',\n",
       "                         'vase',\n",
       "                         'scissors',\n",
       "                         'teddy bear',\n",
       "                         'hair drier',\n",
       "                         'toothbrush'],\n",
       "          thing_colors=[[220, 20, 60],\n",
       "                        [119, 11, 32],\n",
       "                        [0, 0, 142],\n",
       "                        [0, 0, 230],\n",
       "                        [106, 0, 228],\n",
       "                        [0, 60, 100],\n",
       "                        [0, 80, 100],\n",
       "                        [0, 0, 70],\n",
       "                        [0, 0, 192],\n",
       "                        [250, 170, 30],\n",
       "                        [100, 170, 30],\n",
       "                        [220, 220, 0],\n",
       "                        [175, 116, 175],\n",
       "                        [250, 0, 30],\n",
       "                        [165, 42, 42],\n",
       "                        [255, 77, 255],\n",
       "                        [0, 226, 252],\n",
       "                        [182, 182, 255],\n",
       "                        [0, 82, 0],\n",
       "                        [120, 166, 157],\n",
       "                        [110, 76, 0],\n",
       "                        [174, 57, 255],\n",
       "                        [199, 100, 0],\n",
       "                        [72, 0, 118],\n",
       "                        [255, 179, 240],\n",
       "                        [0, 125, 92],\n",
       "                        [209, 0, 151],\n",
       "                        [188, 208, 182],\n",
       "                        [0, 220, 176],\n",
       "                        [255, 99, 164],\n",
       "                        [92, 0, 73],\n",
       "                        [133, 129, 255],\n",
       "                        [78, 180, 255],\n",
       "                        [0, 228, 0],\n",
       "                        [174, 255, 243],\n",
       "                        [45, 89, 255],\n",
       "                        [134, 134, 103],\n",
       "                        [145, 148, 174],\n",
       "                        [255, 208, 186],\n",
       "                        [197, 226, 255],\n",
       "                        [171, 134, 1],\n",
       "                        [109, 63, 54],\n",
       "                        [207, 138, 255],\n",
       "                        [151, 0, 95],\n",
       "                        [9, 80, 61],\n",
       "                        [84, 105, 51],\n",
       "                        [74, 65, 105],\n",
       "                        [166, 196, 102],\n",
       "                        [208, 195, 210],\n",
       "                        [255, 109, 65],\n",
       "                        [0, 143, 149],\n",
       "                        [179, 0, 194],\n",
       "                        [209, 99, 106],\n",
       "                        [5, 121, 0],\n",
       "                        [227, 255, 205],\n",
       "                        [147, 186, 208],\n",
       "                        [153, 69, 1],\n",
       "                        [3, 95, 161],\n",
       "                        [163, 255, 0],\n",
       "                        [119, 0, 170],\n",
       "                        [0, 182, 199],\n",
       "                        [0, 165, 120],\n",
       "                        [183, 130, 88],\n",
       "                        [95, 32, 0],\n",
       "                        [130, 114, 135],\n",
       "                        [110, 129, 133],\n",
       "                        [166, 74, 118],\n",
       "                        [219, 142, 185],\n",
       "                        [79, 210, 114],\n",
       "                        [178, 90, 62],\n",
       "                        [65, 70, 15],\n",
       "                        [127, 167, 115],\n",
       "                        [59, 105, 106],\n",
       "                        [142, 108, 45],\n",
       "                        [196, 172, 0],\n",
       "                        [95, 54, 80],\n",
       "                        [128, 76, 255],\n",
       "                        [201, 57, 1],\n",
       "                        [246, 0, 122],\n",
       "                        [191, 162, 208]])"
      ]
     },
     "execution_count": 19,
     "metadata": {},
     "output_type": "execute_result"
    }
   ],
   "source": [
    "MetadataCatalog.get(cfg.DATASETS.TRAIN[0])"
   ]
  },
  {
   "cell_type": "code",
   "execution_count": 20,
   "metadata": {
    "id": "8IRGo8d0qkgR"
   },
   "outputs": [
    {
     "data": {
      "image/png": "[encoded data removed]",
      "text/plain": [
       "<Figure size 432x288 with 1 Axes>"
      ]
     },
     "metadata": {
      "needs_background": "light"
     },
     "output_type": "display_data"
    }
   ],
   "source": [
    "# We can use `Visualizer` to draw the predictions on the image.\n",
    "v = Visualizer(im[:, :, ::-1], MetadataCatalog.get(cfg.DATASETS.TRAIN[0]), scale=1.2)\n",
    "out = v.draw_instance_predictions(outputs[\"instances\"].to(\"cpu\"))\n",
    "if IN_COLAB:\n",
    "    cv2_imshow(out.get_image()[:, :, ::-1])\n",
    "else:\n",
    "    plt.imshow(out.get_image()[:, :, ::-1])"
   ]
  },
  {
   "cell_type": "markdown",
   "metadata": {},
   "source": [
    "As we can see, the network doesn't detect what we want. That is expected as we have not fine-tuned the network with our custom dataset. We are going to do that in the next steps."
   ]
  }
 ],
 "metadata": {
  "accelerator": "GPU",
  "colab": {
   "collapsed_sections": [],
   "name": "Annolid of Detectron2 Tutorial.ipynb",
   "provenance": []
  },
  "kernelspec": {
   "display_name": "annolid-env",
   "language": "python",
   "name": "annolid-env"
  },
  "language_info": {
   "codemirror_mode": {
    "name": "ipython",
    "version": 3
   },
   "file_extension": ".py",
   "mimetype": "text/x-python",
   "name": "python",
   "nbconvert_exporter": "python",
   "pygments_lexer": "ipython3",
   "version": "3.7.0"
  }
 },
 "nbformat": 4,
 "nbformat_minor": 2
}
